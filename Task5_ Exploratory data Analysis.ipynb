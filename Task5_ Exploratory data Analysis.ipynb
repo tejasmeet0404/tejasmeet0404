{
 "cells": [
  {
   "cell_type": "markdown",
   "id": "17ec647e-2d42-469e-92a5-a20bef0c6a6e",
   "metadata": {},
   "source": [
    "Task5: Exploratory data Analysis "
   ]
  },
  {
   "cell_type": "markdown",
   "id": "745b034d-0fb0-4943-89a6-4e37cfc59b42",
   "metadata": {},
   "source": [
    "Objective: Extract insight using visual and statistical exploration.\n",
    "\n",
    "Tools:Python (pandas, Matplotlib,Seaborn)\n",
    "\n",
    "Deliverables : Jupyter Notebook+PDF report of finding"
   ]
  },
  {
   "cell_type": "markdown",
   "id": "ead48008-efab-4b5f-9404-cf3a34171e55",
   "metadata": {},
   "source": [
    "EDA Task Structure: Titanic Dataset\n",
    "\n",
    "Tools Used \n",
    "\n",
    "Pandas- for data manipulation\n",
    "\n",
    "Matplotlib and Seaborn- for visualization"
   ]
  },
  {
   "cell_type": "markdown",
   "id": "58de1fb4-fa5f-46df-a597-964535008b69",
   "metadata": {},
   "source": [
    "Jupyter Notebook Structure "
   ]
  },
  {
   "cell_type": "markdown",
   "id": "cdae47b0-5982-4f78-9d28-37997fbda31d",
   "metadata": {},
   "source": [
    "1.Intriduction\n",
    "Briefly decribe the objective:\n",
    "\n",
    "\"THe goal of this EDA is to explore the Titanic dataset to uncover meaningful patterns,trends,and insights that can inform predictive modeling.\""
   ]
  },
  {
   "cell_type": "markdown",
   "id": "e42e7dd5-4ecf-4d24-8bde-d749343cea77",
   "metadata": {},
   "source": [
    "2.Load Dataset"
   ]
  },
  {
   "cell_type": "raw",
   "id": "ba5b505f-3128-4a0e-b7a1-015ff6b3e5cc",
   "metadata": {},
   "source": [
    "import pandas as pd\n",
    "import matplotlib.pyplot as plt\n",
    "import sesborn as sns"
   ]
  },
  {
   "cell_type": "raw",
   "id": "91948b61-7819-4280-8f65-692fc7ecd40f",
   "metadata": {},
   "source": [
    "#load dataset\n",
    "df=pd.read_csv('titanic.csv')"
   ]
  },
  {
   "cell_type": "markdown",
   "id": "7e6029c0-126f-472d-84e0-c6ce002e9d5e",
   "metadata": {},
   "source": [
    "3. Data Overview"
   ]
  },
  {
   "cell_type": "raw",
   "id": "3d9fdf7b-cadf-48a8-9c7c-018ad7db00fa",
   "metadata": {},
   "source": [
    "df.info()\n",
    "df.describe()\n",
    "df.head()\n",
    "df.isnull().sum()\n",
    "df['Survived'].value_counts()\n"
   ]
  },
  {
   "cell_type": "markdown",
   "id": "a9860cae-dbfe-4e1c-b289-1e3e82740e14",
   "metadata": {},
   "source": [
    "4. Univariate Analysis\n",
    "\n",
    "\n",
    "Histograms for age, fare\n",
    "\n",
    "Countplots for categorical variables (Sex, Pclass, Embarked)\n",
    "\n",
    "\n"
   ]
  },
  {
   "cell_type": "raw",
   "id": "e2b2eeb5-edaa-43f4-a6bd-4bd5a74fcbaf",
   "metadata": {},
   "source": [
    "sns.histplot(df['Age'].dropna(), kde=True)\n",
    "sns.countplot(x='Sex', data=df)\n",
    "sns.boxplot(x='Pclass', y='Fare', data=df)\n"
   ]
  },
  {
   "cell_type": "markdown",
   "id": "93aae56c-7db0-40db-b10c-cbb98460f64a",
   "metadata": {},
   "source": [
    "Observations: Note skewness, class imbalance, outliers.\n",
    "\n"
   ]
  },
  {
   "cell_type": "markdown",
   "id": "499c3678-be6a-422b-9920-e1c9e8b59ad3",
   "metadata": {},
   "source": [
    "5. Bivariate Analysis\n",
    "\n",
    "Relationship between Survived and features\n",
    "\n",
    "\n"
   ]
  },
  {
   "cell_type": "raw",
   "id": "e54d9ad1-52b5-4f04-8705-012a650f6c29",
   "metadata": {},
   "source": [
    "sns.countplot(x='Survived', hue='Sex', data=df)\n",
    "sns.boxplot(x='Survived', y='Age', data=df)\n"
   ]
  },
  {
   "cell_type": "markdown",
   "id": "b929415d-58b9-46b3-a96e-39fe9d133e5a",
   "metadata": {},
   "source": [
    " Observations: Example – higher survival rate in females, younger passengers.\n",
    "\n"
   ]
  },
  {
   "cell_type": "markdown",
   "id": "cd266719-7593-4e39-a6df-a79acbf35369",
   "metadata": {},
   "source": [
    "6. Multivariate Analysis\n",
    "\n",
    "\n",
    "Pairplot\n",
    "\n",
    "\n"
   ]
  },
  {
   "cell_type": "raw",
   "id": "7bd1994c-e509-413c-b435-aabbc8baf43e",
   "metadata": {},
   "source": [
    "sns.pairplot(df[['Survived', 'Age', 'Fare', 'Pclass']], hue='Survived')\n"
   ]
  },
  {
   "cell_type": "markdown",
   "id": "fb5fb64f-9641-465c-9495-4b3a36631551",
   "metadata": {},
   "source": [
    "Heatmap for Correlation"
   ]
  },
  {
   "cell_type": "raw",
   "id": "24909148-55c4-4e8b-ac9a-b12f4cffbe8b",
   "metadata": {},
   "source": [
    "sns.heatmap(df.corr(), annot=True, cmap='coolwarm')\n"
   ]
  },
  {
   "cell_type": "markdown",
   "id": "04dca7ab-c15b-470a-a44f-f3af3e1ba8db",
   "metadata": {},
   "source": [
    " Observations: Correlation between fare and survival, low correlation elsewhere."
   ]
  },
  {
   "cell_type": "markdown",
   "id": "9c3ad29e-6f9a-41b1-9d73-c988c0988872",
   "metadata": {},
   "source": [
    "7. Handling Missing & Skewed Data"
   ]
  },
  {
   "cell_type": "raw",
   "id": "8280e9c1-dd1b-49f1-b758-3b830eee1856",
   "metadata": {},
   "source": [
    "df['Age'].fillna(df['Age'].median(), inplace=True)\n",
    "# For skewed features like 'Fare'\n",
    "import numpy as np\n",
    "df['Fare_log'] = np.log1p(df['Fare'])\n"
   ]
  },
  {
   "cell_type": "markdown",
   "id": "6cef7b30-217f-4110-a565-ce63132c2f3b",
   "metadata": {},
   "source": [
    "8. Summary of Findings"
   ]
  },
  {
   "cell_type": "markdown",
   "id": "123f733a-33a6-4116-bdfb-83476a561b8b",
   "metadata": {},
   "source": [
    "Examples:\n",
    "\n",
    "Survival is higher among females and passengers in 1st class.\n",
    "\n",
    "Age and fare have right-skewed distributions.\n",
    "\n",
    "Heatmap shows low correlation between most features.\n",
    "\n"
   ]
  },
  {
   "cell_type": "markdown",
   "id": "d61243e9-b6d9-4eaf-95df-b16c521d4c58",
   "metadata": {},
   "source": [
    "PDF Report\n",
    "\n",
    "\n",
    "You can export the Jupyter Notebook to PDF:\n",
    "\n",
    "\n",
    "File → Export Notebook As → PDF\n",
    "Include:\n",
    "\n",
    "Visuals with captions\n",
    "\n",
    "Bullet-pointed summary\n",
    "\n",
    "Table of missing values"
   ]
  },
  {
   "cell_type": "markdown",
   "id": "99151037-babc-4a34-b766-34b86ccfabd6",
   "metadata": {},
   "source": [
    "Interview Questions & Sample Answers"
   ]
  },
  {
   "cell_type": "markdown",
   "id": "368a7390-4461-4e29-8730-6f8a79015ed8",
   "metadata": {},
   "source": [
    "1.What is EDA and why is it important?"
   ]
  },
  {
   "cell_type": "markdown",
   "id": "d7e31451-1675-44f0-b88b-058c5fdef365",
   "metadata": {},
   "source": [
    "Ans:-EDA helps understand data structure, detect anomalies, discover patterns, and form hypotheses before modeling."
   ]
  },
  {
   "cell_type": "markdown",
   "id": "96619646-c5a2-4921-997d-12b90ad836cf",
   "metadata": {},
   "source": [
    "2.Which plots do you use to check correlation?"
   ]
  },
  {
   "cell_type": "markdown",
   "id": "6d6c6113-caf2-48bf-8487-6f9a771df7f3",
   "metadata": {},
   "source": [
    "Heatmap, pairplot, scatterplot."
   ]
  },
  {
   "cell_type": "markdown",
   "id": "81a0d208-4063-461c-ae63-acdb8f17f6b2",
   "metadata": {},
   "source": [
    "3.How do you handle skewed data?\n"
   ]
  },
  {
   "cell_type": "markdown",
   "id": "8fe6e5a7-c413-4d3f-afe6-0f4b4e5e8fe9",
   "metadata": {},
   "source": [
    "Ans:-Use log, square root, or Box-Cox transformations."
   ]
  },
  {
   "cell_type": "markdown",
   "id": "e4872817-ebfc-4588-be97-e1565941feab",
   "metadata": {},
   "source": [
    "4.How to detect multicollinearity?"
   ]
  },
  {
   "cell_type": "markdown",
   "id": "f5d4e07c-79ff-4781-a75b-538918001d30",
   "metadata": {},
   "source": [
    "Ans:- Correlation matrix, VIF (Variance Inflation Factor)."
   ]
  },
  {
   "cell_type": "markdown",
   "id": "4d9fdd54-5fa0-493b-90e1-a6899a230cc0",
   "metadata": {},
   "source": [
    "5.What are univariate, bivariate, and multivariate analyses?"
   ]
  },
  {
   "cell_type": "markdown",
   "id": "e1098354-552f-4e6c-a5f6-2c2915e53d5e",
   "metadata": {},
   "source": [
    "Ans:-→ Univariate: 1 variable (e.g., Age distribution)\n",
    "\n",
    "→ Bivariate: 2 variables (e.g., Age vs. Survived)\n",
    "\n",
    "→ Multivariate: 3+ variables (e.g., Age, Sex, and Survived)"
   ]
  },
  {
   "cell_type": "markdown",
   "id": "25fb7964-c0ff-496b-a11b-3f980919c283",
   "metadata": {},
   "source": [
    "6.Difference between heatmap and pairplot?"
   ]
  },
  {
   "cell_type": "markdown",
   "id": "7ea681ad-e1e3-4fe1-b604-bdf6004f19e8",
   "metadata": {},
   "source": [
    "Ans:-Heatmap: shows correlation strength.\n",
    "\n",
    "→ Pairplot: scatterplots for each pair, often colored by target"
   ]
  },
  {
   "cell_type": "markdown",
   "id": "50111c54-8755-4cff-865f-4284bd958a7e",
   "metadata": {},
   "source": [
    "7.How do you summarize your insights?"
   ]
  },
  {
   "cell_type": "markdown",
   "id": "8d3d1cb1-8009-495d-bfbe-808776b0f453",
   "metadata": {},
   "source": [
    "Ans:- Bullet points with key patterns, trends, outliers, and actionable insights."
   ]
  },
  {
   "cell_type": "markdown",
   "id": "abf6ea91-dbd6-43f2-a642-52147040b84a",
   "metadata": {},
   "source": [
    "About Variation\n",
    "Fine-Tunable\n",
    "Yes\n",
    "\n",
    "License\n",
    "Gemma\n",
    "\n",
    "Base Model\n",
    "gemma · Keras · gemma_2b_en\n",
    "\n",
    "The Keras implementation of the Gemma 2B instruction-tuned model. Runs on Jax, TensorFlow and PyTorch with Keras 3. This checkpoint has been instruction tuned for a wide range of use-cases, as described in the Intended Usage section above.\n",
    "\n",
    "This is Gemma 1.1 2B (IT), an update over the original instruction-tuned Gemma release."
   ]
  },
  {
   "cell_type": "markdown",
   "id": "baeb583c-c9f2-4c49-9bf4-ea647e1c6fe2",
   "metadata": {},
   "source": [
    "Example Use"
   ]
  },
  {
   "cell_type": "code",
   "execution_count": 7,
   "id": "ff56ca79-d9cc-4ff0-85de-a14eea48a881",
   "metadata": {},
   "outputs": [
    {
     "name": "stdout",
     "output_type": "stream",
     "text": [
      "Defaulting to user installation because normal site-packages is not writeable\n",
      "Collecting keras-hub\n",
      "  Downloading keras_hub-0.21.0-py3-none-any.whl.metadata (7.4 kB)\n",
      "Collecting keras>=3.5 (from keras-hub)\n",
      "  Downloading keras-3.10.0-py3-none-any.whl.metadata (6.0 kB)\n",
      "Collecting absl-py (from keras-hub)\n",
      "  Downloading absl_py-2.3.0-py3-none-any.whl.metadata (2.4 kB)\n",
      "Requirement already satisfied: numpy in c:\\programdata\\anaconda3\\lib\\site-packages (from keras-hub) (1.26.4)\n",
      "Requirement already satisfied: packaging in c:\\programdata\\anaconda3\\lib\\site-packages (from keras-hub) (24.1)\n",
      "Requirement already satisfied: regex in c:\\programdata\\anaconda3\\lib\\site-packages (from keras-hub) (2024.9.11)\n",
      "Requirement already satisfied: rich in c:\\programdata\\anaconda3\\lib\\site-packages (from keras-hub) (13.7.1)\n",
      "Collecting kagglehub (from keras-hub)\n",
      "  Downloading kagglehub-0.3.12-py3-none-any.whl.metadata (38 kB)\n",
      "Collecting namex (from keras>=3.5->keras-hub)\n",
      "  Downloading namex-0.1.0-py3-none-any.whl.metadata (322 bytes)\n",
      "Requirement already satisfied: h5py in c:\\programdata\\anaconda3\\lib\\site-packages (from keras>=3.5->keras-hub) (3.11.0)\n",
      "Collecting optree (from keras>=3.5->keras-hub)\n",
      "  Downloading optree-0.16.0-cp312-cp312-win_amd64.whl.metadata (31 kB)\n",
      "Collecting ml-dtypes (from keras>=3.5->keras-hub)\n",
      "  Downloading ml_dtypes-0.5.1-cp312-cp312-win_amd64.whl.metadata (22 kB)\n",
      "Requirement already satisfied: pyyaml in c:\\programdata\\anaconda3\\lib\\site-packages (from kagglehub->keras-hub) (6.0.1)\n",
      "Requirement already satisfied: requests in c:\\programdata\\anaconda3\\lib\\site-packages (from kagglehub->keras-hub) (2.32.3)\n",
      "Requirement already satisfied: tqdm in c:\\programdata\\anaconda3\\lib\\site-packages (from kagglehub->keras-hub) (4.66.5)\n",
      "Requirement already satisfied: markdown-it-py>=2.2.0 in c:\\programdata\\anaconda3\\lib\\site-packages (from rich->keras-hub) (2.2.0)\n",
      "Requirement already satisfied: pygments<3.0.0,>=2.13.0 in c:\\programdata\\anaconda3\\lib\\site-packages (from rich->keras-hub) (2.15.1)\n",
      "Requirement already satisfied: mdurl~=0.1 in c:\\programdata\\anaconda3\\lib\\site-packages (from markdown-it-py>=2.2.0->rich->keras-hub) (0.1.0)\n",
      "Requirement already satisfied: typing-extensions>=4.6.0 in c:\\programdata\\anaconda3\\lib\\site-packages (from optree->keras>=3.5->keras-hub) (4.11.0)\n",
      "Requirement already satisfied: charset-normalizer<4,>=2 in c:\\programdata\\anaconda3\\lib\\site-packages (from requests->kagglehub->keras-hub) (3.3.2)\n",
      "Requirement already satisfied: idna<4,>=2.5 in c:\\programdata\\anaconda3\\lib\\site-packages (from requests->kagglehub->keras-hub) (3.7)\n",
      "Requirement already satisfied: urllib3<3,>=1.21.1 in c:\\programdata\\anaconda3\\lib\\site-packages (from requests->kagglehub->keras-hub) (2.2.3)\n",
      "Requirement already satisfied: certifi>=2017.4.17 in c:\\programdata\\anaconda3\\lib\\site-packages (from requests->kagglehub->keras-hub) (2024.8.30)\n",
      "Requirement already satisfied: colorama in c:\\programdata\\anaconda3\\lib\\site-packages (from tqdm->kagglehub->keras-hub) (0.4.6)\n",
      "Downloading keras_hub-0.21.0-py3-none-any.whl (873 kB)\n",
      "   ---------------------------------------- 0.0/873.6 kB ? eta -:--:--\n",
      "   ---------------------------------------- 873.6/873.6 kB 7.8 MB/s eta 0:00:00\n",
      "Downloading keras-3.10.0-py3-none-any.whl (1.4 MB)\n",
      "   ---------------------------------------- 0.0/1.4 MB ? eta -:--:--\n",
      "   ---------------------------------------- 1.4/1.4 MB 6.5 MB/s eta 0:00:00\n",
      "Downloading absl_py-2.3.0-py3-none-any.whl (135 kB)\n",
      "Downloading kagglehub-0.3.12-py3-none-any.whl (67 kB)\n",
      "Downloading ml_dtypes-0.5.1-cp312-cp312-win_amd64.whl (210 kB)\n",
      "Downloading namex-0.1.0-py3-none-any.whl (5.9 kB)\n",
      "Downloading optree-0.16.0-cp312-cp312-win_amd64.whl (315 kB)\n",
      "Installing collected packages: namex, optree, ml-dtypes, absl-py, kagglehub, keras, keras-hub\n",
      "Successfully installed absl-py-2.3.0 kagglehub-0.3.12 keras-3.10.0 keras-hub-0.21.0 ml-dtypes-0.5.1 namex-0.1.0 optree-0.16.0\n",
      "Defaulting to user installation because normal site-packages is not writeable\n",
      "Requirement already satisfied: keras in c:\\users\\user\\appdata\\roaming\\python\\python312\\site-packages (3.10.0)\n",
      "Requirement already satisfied: absl-py in c:\\users\\user\\appdata\\roaming\\python\\python312\\site-packages (from keras) (2.3.0)\n",
      "Requirement already satisfied: numpy in c:\\programdata\\anaconda3\\lib\\site-packages (from keras) (1.26.4)\n",
      "Requirement already satisfied: rich in c:\\programdata\\anaconda3\\lib\\site-packages (from keras) (13.7.1)\n",
      "Requirement already satisfied: namex in c:\\users\\user\\appdata\\roaming\\python\\python312\\site-packages (from keras) (0.1.0)\n",
      "Requirement already satisfied: h5py in c:\\programdata\\anaconda3\\lib\\site-packages (from keras) (3.11.0)\n",
      "Requirement already satisfied: optree in c:\\users\\user\\appdata\\roaming\\python\\python312\\site-packages (from keras) (0.16.0)\n",
      "Requirement already satisfied: ml-dtypes in c:\\users\\user\\appdata\\roaming\\python\\python312\\site-packages (from keras) (0.5.1)\n",
      "Requirement already satisfied: packaging in c:\\programdata\\anaconda3\\lib\\site-packages (from keras) (24.1)\n",
      "Requirement already satisfied: typing-extensions>=4.6.0 in c:\\programdata\\anaconda3\\lib\\site-packages (from optree->keras) (4.11.0)\n",
      "Requirement already satisfied: markdown-it-py>=2.2.0 in c:\\programdata\\anaconda3\\lib\\site-packages (from rich->keras) (2.2.0)\n",
      "Requirement already satisfied: pygments<3.0.0,>=2.13.0 in c:\\programdata\\anaconda3\\lib\\site-packages (from rich->keras) (2.15.1)\n",
      "Requirement already satisfied: mdurl~=0.1 in c:\\programdata\\anaconda3\\lib\\site-packages (from markdown-it-py>=2.2.0->rich->keras) (0.1.0)\n"
     ]
    }
   ],
   "source": [
    "!pip install -U keras-hub\n",
    "!pip install -U keras"
   ]
  },
  {
   "cell_type": "code",
   "execution_count": 8,
   "id": "c1edbe4d-7d08-48ac-bfea-a8c1a1cda5b5",
   "metadata": {},
   "outputs": [
    {
     "name": "stdout",
     "output_type": "stream",
     "text": [
      "Defaulting to user installation because normal site-packages is not writeable\n",
      "Requirement already satisfied: keras-hub in c:\\users\\user\\appdata\\roaming\\python\\python312\\site-packages (0.21.0)\n",
      "Requirement already satisfied: keras>=3.5 in c:\\users\\user\\appdata\\roaming\\python\\python312\\site-packages (from keras-hub) (3.10.0)\n",
      "Requirement already satisfied: absl-py in c:\\users\\user\\appdata\\roaming\\python\\python312\\site-packages (from keras-hub) (2.3.0)\n",
      "Requirement already satisfied: numpy in c:\\programdata\\anaconda3\\lib\\site-packages (from keras-hub) (1.26.4)\n",
      "Requirement already satisfied: packaging in c:\\programdata\\anaconda3\\lib\\site-packages (from keras-hub) (24.1)\n",
      "Requirement already satisfied: regex in c:\\programdata\\anaconda3\\lib\\site-packages (from keras-hub) (2024.9.11)\n",
      "Requirement already satisfied: rich in c:\\programdata\\anaconda3\\lib\\site-packages (from keras-hub) (13.7.1)\n",
      "Requirement already satisfied: kagglehub in c:\\users\\user\\appdata\\roaming\\python\\python312\\site-packages (from keras-hub) (0.3.12)\n",
      "Requirement already satisfied: namex in c:\\users\\user\\appdata\\roaming\\python\\python312\\site-packages (from keras>=3.5->keras-hub) (0.1.0)\n",
      "Requirement already satisfied: h5py in c:\\programdata\\anaconda3\\lib\\site-packages (from keras>=3.5->keras-hub) (3.11.0)\n",
      "Requirement already satisfied: optree in c:\\users\\user\\appdata\\roaming\\python\\python312\\site-packages (from keras>=3.5->keras-hub) (0.16.0)\n",
      "Requirement already satisfied: ml-dtypes in c:\\users\\user\\appdata\\roaming\\python\\python312\\site-packages (from keras>=3.5->keras-hub) (0.5.1)\n",
      "Requirement already satisfied: pyyaml in c:\\programdata\\anaconda3\\lib\\site-packages (from kagglehub->keras-hub) (6.0.1)\n",
      "Requirement already satisfied: requests in c:\\programdata\\anaconda3\\lib\\site-packages (from kagglehub->keras-hub) (2.32.3)\n",
      "Requirement already satisfied: tqdm in c:\\programdata\\anaconda3\\lib\\site-packages (from kagglehub->keras-hub) (4.66.5)\n",
      "Requirement already satisfied: markdown-it-py>=2.2.0 in c:\\programdata\\anaconda3\\lib\\site-packages (from rich->keras-hub) (2.2.0)\n",
      "Requirement already satisfied: pygments<3.0.0,>=2.13.0 in c:\\programdata\\anaconda3\\lib\\site-packages (from rich->keras-hub) (2.15.1)\n",
      "Requirement already satisfied: mdurl~=0.1 in c:\\programdata\\anaconda3\\lib\\site-packages (from markdown-it-py>=2.2.0->rich->keras-hub) (0.1.0)\n",
      "Requirement already satisfied: typing-extensions>=4.6.0 in c:\\programdata\\anaconda3\\lib\\site-packages (from optree->keras>=3.5->keras-hub) (4.11.0)\n",
      "Requirement already satisfied: charset-normalizer<4,>=2 in c:\\programdata\\anaconda3\\lib\\site-packages (from requests->kagglehub->keras-hub) (3.3.2)\n",
      "Requirement already satisfied: idna<4,>=2.5 in c:\\programdata\\anaconda3\\lib\\site-packages (from requests->kagglehub->keras-hub) (3.7)\n",
      "Requirement already satisfied: urllib3<3,>=1.21.1 in c:\\programdata\\anaconda3\\lib\\site-packages (from requests->kagglehub->keras-hub) (2.2.3)\n",
      "Requirement already satisfied: certifi>=2017.4.17 in c:\\programdata\\anaconda3\\lib\\site-packages (from requests->kagglehub->keras-hub) (2024.8.30)\n",
      "Requirement already satisfied: colorama in c:\\programdata\\anaconda3\\lib\\site-packages (from tqdm->kagglehub->keras-hub) (0.4.6)\n",
      "Defaulting to user installation because normal site-packages is not writeable\n",
      "Requirement already satisfied: keras in c:\\users\\user\\appdata\\roaming\\python\\python312\\site-packages (3.10.0)\n",
      "Requirement already satisfied: absl-py in c:\\users\\user\\appdata\\roaming\\python\\python312\\site-packages (from keras) (2.3.0)\n",
      "Requirement already satisfied: numpy in c:\\programdata\\anaconda3\\lib\\site-packages (from keras) (1.26.4)\n",
      "Requirement already satisfied: rich in c:\\programdata\\anaconda3\\lib\\site-packages (from keras) (13.7.1)\n",
      "Requirement already satisfied: namex in c:\\users\\user\\appdata\\roaming\\python\\python312\\site-packages (from keras) (0.1.0)\n",
      "Requirement already satisfied: h5py in c:\\programdata\\anaconda3\\lib\\site-packages (from keras) (3.11.0)\n",
      "Requirement already satisfied: optree in c:\\users\\user\\appdata\\roaming\\python\\python312\\site-packages (from keras) (0.16.0)\n",
      "Requirement already satisfied: ml-dtypes in c:\\users\\user\\appdata\\roaming\\python\\python312\\site-packages (from keras) (0.5.1)\n",
      "Requirement already satisfied: packaging in c:\\programdata\\anaconda3\\lib\\site-packages (from keras) (24.1)\n",
      "Requirement already satisfied: typing-extensions>=4.6.0 in c:\\programdata\\anaconda3\\lib\\site-packages (from optree->keras) (4.11.0)\n",
      "Requirement already satisfied: markdown-it-py>=2.2.0 in c:\\programdata\\anaconda3\\lib\\site-packages (from rich->keras) (2.2.0)\n",
      "Requirement already satisfied: pygments<3.0.0,>=2.13.0 in c:\\programdata\\anaconda3\\lib\\site-packages (from rich->keras) (2.15.1)\n",
      "Requirement already satisfied: mdurl~=0.1 in c:\\programdata\\anaconda3\\lib\\site-packages (from markdown-it-py>=2.2.0->rich->keras) (0.1.0)\n"
     ]
    }
   ],
   "source": [
    "!pip install -U keras-hub\n",
    "!pip install -U keras"
   ]
  },
  {
   "cell_type": "markdown",
   "id": "0a3a0da4-ef82-4037-9098-960856be2bc4",
   "metadata": {},
   "source": [
    "Use generate() to do text generation."
   ]
  },
  {
   "cell_type": "raw",
   "id": "d595723a-b326-4c6b-8916-c2ae84c9cfc5",
   "metadata": {},
   "source": [
    "gemma_lm = keras_hub.models.GemmaCausalLM.from_preset(\"gemma_1.1_instruct_2b_en\")\n",
    "gemma_lm.generate(\"Keras is a\",max_length=30)\n",
    "# Generate with batched prompts.\n",
    "gemma_lm.generate([\"Keras is a\", \"I want to say\"],max_length=30)\n"
   ]
  },
  {
   "cell_type": "code",
   "execution_count": null,
   "id": "f468e894-eaca-437b-8a7d-bc70cdaac561",
   "metadata": {},
   "outputs": [],
   "source": [
    "Compile the generate() function with a custom sampler."
   ]
  },
  {
   "cell_type": "raw",
   "id": "0e9f3aa8-2a1d-4053-b352-17c5225cdf17",
   "metadata": {},
   "source": [
    "gemma_lm = keras_hub.models.GemmaCausalLM.from_preset(\"gemma_1.1_instruct_2b_en\")\n",
    "gemma_lm.compile(sampler=\"top_k\")\n",
    "gemma_lm.generate(\"I want to say\", max_length=30)\n",
    "\n",
    "gemma_lm.compile(sampler= keras_hub.samplers.BeamSampler(num_beams=2))\n",
    "gemma_lm.generate(\"I want to say\", max_length=30)\n",
    "\n"
   ]
  },
  {
   "cell_type": "code",
   "execution_count": null,
   "id": "f98c3be8-e090-42cb-90bd-7f3556c84299",
   "metadata": {},
   "outputs": [],
   "source": []
  },
  {
   "cell_type": "code",
   "execution_count": null,
   "id": "3f6d8957-c998-4e6b-8de4-c0c50a26eab3",
   "metadata": {},
   "outputs": [],
   "source": []
  },
  {
   "cell_type": "code",
   "execution_count": null,
   "id": "661a8a04-10ec-4444-b610-2bca96e4dd87",
   "metadata": {},
   "outputs": [],
   "source": []
  },
  {
   "cell_type": "code",
   "execution_count": null,
   "id": "8699250f-c855-4880-85f9-f2827d8fac0d",
   "metadata": {},
   "outputs": [],
   "source": []
  },
  {
   "cell_type": "code",
   "execution_count": null,
   "id": "a335272d-90eb-48d2-bcf7-3ec1827aa91e",
   "metadata": {},
   "outputs": [],
   "source": []
  },
  {
   "cell_type": "code",
   "execution_count": null,
   "id": "09206d79-792a-412c-886a-fd5cda83806e",
   "metadata": {},
   "outputs": [],
   "source": []
  },
  {
   "cell_type": "code",
   "execution_count": null,
   "id": "a9e4f7f3-0b36-4874-b896-e4aa833d2068",
   "metadata": {},
   "outputs": [],
   "source": []
  },
  {
   "cell_type": "code",
   "execution_count": null,
   "id": "4f521955-aebb-4cc8-9d29-2b90205040e1",
   "metadata": {},
   "outputs": [],
   "source": []
  },
  {
   "cell_type": "code",
   "execution_count": null,
   "id": "4ad22184-0e7b-4aef-b5f4-f7ec477fd680",
   "metadata": {},
   "outputs": [],
   "source": []
  },
  {
   "cell_type": "code",
   "execution_count": null,
   "id": "af899968-1abd-4c20-8ecd-c18b28b35c93",
   "metadata": {},
   "outputs": [],
   "source": []
  },
  {
   "cell_type": "code",
   "execution_count": null,
   "id": "5c218b7a-0b33-44ea-841b-09df3f428e0e",
   "metadata": {},
   "outputs": [],
   "source": []
  },
  {
   "cell_type": "code",
   "execution_count": null,
   "id": "936f2098-bdca-4081-9e6c-bcc29178a494",
   "metadata": {},
   "outputs": [],
   "source": []
  },
  {
   "cell_type": "code",
   "execution_count": null,
   "id": "baa1e752-7d5d-4d76-9f14-e2eea4c622c2",
   "metadata": {},
   "outputs": [],
   "source": []
  },
  {
   "cell_type": "code",
   "execution_count": null,
   "id": "da47bc0a-d9d0-4c0d-8790-3c8d1e9c707d",
   "metadata": {},
   "outputs": [],
   "source": []
  },
  {
   "cell_type": "code",
   "execution_count": null,
   "id": "8fb98e34-c926-49e8-b3bd-f38c7910ffc2",
   "metadata": {},
   "outputs": [],
   "source": []
  },
  {
   "cell_type": "code",
   "execution_count": null,
   "id": "2ccc016d-0916-4a02-bd74-be73d0263aea",
   "metadata": {},
   "outputs": [],
   "source": []
  },
  {
   "cell_type": "code",
   "execution_count": null,
   "id": "800acb41-4ba8-41aa-8b5a-c203ce482a94",
   "metadata": {},
   "outputs": [],
   "source": []
  },
  {
   "cell_type": "code",
   "execution_count": null,
   "id": "3c92e438-ac47-4b02-8456-d99ed455fee9",
   "metadata": {},
   "outputs": [],
   "source": []
  },
  {
   "cell_type": "code",
   "execution_count": null,
   "id": "7a973357-8526-44d3-be11-5c55537a29db",
   "metadata": {},
   "outputs": [],
   "source": []
  },
  {
   "cell_type": "code",
   "execution_count": null,
   "id": "41a52a7e-49d7-4021-a01d-4acf2453208b",
   "metadata": {},
   "outputs": [],
   "source": []
  },
  {
   "cell_type": "code",
   "execution_count": null,
   "id": "d4d9936b-8dbc-458f-a246-04953094b23d",
   "metadata": {},
   "outputs": [],
   "source": []
  },
  {
   "cell_type": "code",
   "execution_count": null,
   "id": "0a40c62b-806d-4a79-b438-95875b86ecd8",
   "metadata": {},
   "outputs": [],
   "source": []
  },
  {
   "cell_type": "code",
   "execution_count": null,
   "id": "357eb1b7-3f75-4d03-8034-e1d314dcfcd5",
   "metadata": {},
   "outputs": [],
   "source": []
  },
  {
   "cell_type": "code",
   "execution_count": null,
   "id": "af9db09c-a41f-406c-a27f-76bdad4768ef",
   "metadata": {},
   "outputs": [],
   "source": []
  },
  {
   "cell_type": "code",
   "execution_count": null,
   "id": "a3c1f01b-47be-4bf2-a07c-3ddd058e4167",
   "metadata": {},
   "outputs": [],
   "source": []
  },
  {
   "cell_type": "code",
   "execution_count": null,
   "id": "8d89f890-f6c3-4b61-92e2-d850576b2a26",
   "metadata": {},
   "outputs": [],
   "source": []
  },
  {
   "cell_type": "code",
   "execution_count": null,
   "id": "8bd29a6d-0603-4d38-8598-cb6e51605d0c",
   "metadata": {},
   "outputs": [],
   "source": []
  },
  {
   "cell_type": "code",
   "execution_count": null,
   "id": "73d14c5a-4930-4741-8433-ffd2d448ab2d",
   "metadata": {},
   "outputs": [],
   "source": []
  },
  {
   "cell_type": "code",
   "execution_count": null,
   "id": "29d3c0df-cb35-4480-be61-73e118dd3c80",
   "metadata": {},
   "outputs": [],
   "source": []
  },
  {
   "cell_type": "code",
   "execution_count": null,
   "id": "2a41cb90-d853-41ed-8a5c-c7838df007b3",
   "metadata": {},
   "outputs": [],
   "source": []
  },
  {
   "cell_type": "code",
   "execution_count": null,
   "id": "b12385bf-1e6e-465e-a09f-1e129a7d406e",
   "metadata": {},
   "outputs": [],
   "source": []
  },
  {
   "cell_type": "code",
   "execution_count": null,
   "id": "74909519-cb70-4152-91fd-037876507561",
   "metadata": {},
   "outputs": [],
   "source": []
  },
  {
   "cell_type": "code",
   "execution_count": null,
   "id": "05b009a5-d4b0-4190-980b-88dc2f23ed8d",
   "metadata": {},
   "outputs": [],
   "source": []
  },
  {
   "cell_type": "code",
   "execution_count": null,
   "id": "14975b0d-24b9-4057-b90e-2ce876c108d3",
   "metadata": {},
   "outputs": [],
   "source": []
  },
  {
   "cell_type": "code",
   "execution_count": null,
   "id": "d6da5137-f776-441d-8410-24fd0a18ea52",
   "metadata": {},
   "outputs": [],
   "source": []
  },
  {
   "cell_type": "code",
   "execution_count": null,
   "id": "13672e45-8cef-4090-a695-e20c62891371",
   "metadata": {},
   "outputs": [],
   "source": []
  },
  {
   "cell_type": "code",
   "execution_count": null,
   "id": "abde939f-8749-4cb4-9af6-df9e72ccd01d",
   "metadata": {},
   "outputs": [],
   "source": []
  },
  {
   "cell_type": "code",
   "execution_count": null,
   "id": "6d2fecef-8a90-4ebb-9fb9-51156be813ea",
   "metadata": {},
   "outputs": [],
   "source": []
  },
  {
   "cell_type": "code",
   "execution_count": null,
   "id": "d26b762d-3fb9-4bf4-82c6-afa5daa2fc84",
   "metadata": {},
   "outputs": [],
   "source": []
  },
  {
   "cell_type": "code",
   "execution_count": null,
   "id": "3b74fb28-469d-497b-882e-5ee11397f0a2",
   "metadata": {},
   "outputs": [],
   "source": []
  },
  {
   "cell_type": "code",
   "execution_count": null,
   "id": "dc6200fb-338a-4fea-8a77-3ed0b53b6bc6",
   "metadata": {},
   "outputs": [],
   "source": []
  },
  {
   "cell_type": "code",
   "execution_count": null,
   "id": "7e48e202-198b-4ebc-bb9f-2101a864a4ac",
   "metadata": {},
   "outputs": [],
   "source": []
  },
  {
   "cell_type": "code",
   "execution_count": null,
   "id": "0a5acda9-5d73-4d21-b4e2-7506618463ee",
   "metadata": {},
   "outputs": [],
   "source": []
  },
  {
   "cell_type": "code",
   "execution_count": null,
   "id": "faddee96-df9b-41d2-985a-20c06cdeccab",
   "metadata": {},
   "outputs": [],
   "source": []
  },
  {
   "cell_type": "code",
   "execution_count": null,
   "id": "e26337de-0dd9-4937-850b-2ed0022c26fc",
   "metadata": {},
   "outputs": [],
   "source": []
  },
  {
   "cell_type": "code",
   "execution_count": null,
   "id": "04de1f5f-805f-4779-a287-63fb7c0e0064",
   "metadata": {},
   "outputs": [],
   "source": []
  },
  {
   "cell_type": "code",
   "execution_count": null,
   "id": "6cabeb29-59ed-4585-9899-6dd504a7315c",
   "metadata": {},
   "outputs": [],
   "source": []
  },
  {
   "cell_type": "code",
   "execution_count": null,
   "id": "8929b02e-cb3c-4d9f-a1b2-af9149045a80",
   "metadata": {},
   "outputs": [],
   "source": []
  },
  {
   "cell_type": "code",
   "execution_count": null,
   "id": "85b152f3-4d5a-485c-af4e-71aa114e6015",
   "metadata": {},
   "outputs": [],
   "source": []
  },
  {
   "cell_type": "code",
   "execution_count": null,
   "id": "981be990-8081-42ce-ab1f-b3ca00d424cb",
   "metadata": {},
   "outputs": [],
   "source": []
  },
  {
   "cell_type": "code",
   "execution_count": null,
   "id": "2cbd9f19-c94f-47f4-8a16-1fbdc9dc4132",
   "metadata": {},
   "outputs": [],
   "source": []
  },
  {
   "cell_type": "code",
   "execution_count": null,
   "id": "abf1e44d-3ee6-4ee7-8d49-2a8fc269cedd",
   "metadata": {},
   "outputs": [],
   "source": []
  },
  {
   "cell_type": "code",
   "execution_count": null,
   "id": "32b6e114-88a9-4205-9e99-590dc411281b",
   "metadata": {},
   "outputs": [],
   "source": []
  },
  {
   "cell_type": "code",
   "execution_count": null,
   "id": "5826e397-3794-4290-988e-f0431d21c2c3",
   "metadata": {},
   "outputs": [],
   "source": []
  },
  {
   "cell_type": "code",
   "execution_count": null,
   "id": "065b482b-3bbb-48cc-901e-9ee5ffe0e53e",
   "metadata": {},
   "outputs": [],
   "source": []
  },
  {
   "cell_type": "code",
   "execution_count": null,
   "id": "7966790b-b6e5-4510-9eb0-e210dd842dd4",
   "metadata": {},
   "outputs": [],
   "source": []
  },
  {
   "cell_type": "code",
   "execution_count": null,
   "id": "94e4d39e-e371-4825-ae42-5d48faf1ad6c",
   "metadata": {},
   "outputs": [],
   "source": []
  },
  {
   "cell_type": "code",
   "execution_count": null,
   "id": "7838cb39-7456-4a25-a3e9-aeb0266d588a",
   "metadata": {},
   "outputs": [],
   "source": []
  },
  {
   "cell_type": "code",
   "execution_count": null,
   "id": "781e44c6-cb7b-4c80-b6e8-8f6416acc0a0",
   "metadata": {},
   "outputs": [],
   "source": []
  },
  {
   "cell_type": "code",
   "execution_count": null,
   "id": "ec4d7569-e827-4bf4-81a6-67597a984876",
   "metadata": {},
   "outputs": [],
   "source": []
  },
  {
   "cell_type": "code",
   "execution_count": null,
   "id": "76f512c5-45e0-46b1-961b-374508a3bb3a",
   "metadata": {},
   "outputs": [],
   "source": []
  },
  {
   "cell_type": "code",
   "execution_count": null,
   "id": "5ee28f69-70cc-4a2a-a0cc-fb74a33f86ae",
   "metadata": {},
   "outputs": [],
   "source": []
  },
  {
   "cell_type": "code",
   "execution_count": null,
   "id": "e2a74555-0339-437e-8198-4b3ba92e7b80",
   "metadata": {},
   "outputs": [],
   "source": []
  },
  {
   "cell_type": "code",
   "execution_count": null,
   "id": "fcef1324-9493-4ee8-af41-3c61362ff0d6",
   "metadata": {},
   "outputs": [],
   "source": []
  },
  {
   "cell_type": "code",
   "execution_count": null,
   "id": "84384741-f86e-4fa7-99b5-4c459539f877",
   "metadata": {},
   "outputs": [],
   "source": []
  },
  {
   "cell_type": "code",
   "execution_count": null,
   "id": "f2764c71-07da-4f64-8a83-e4b93b33b1f1",
   "metadata": {},
   "outputs": [],
   "source": []
  },
  {
   "cell_type": "code",
   "execution_count": null,
   "id": "269d67ba-4cd7-41eb-b813-1bbb3d67a235",
   "metadata": {},
   "outputs": [],
   "source": []
  },
  {
   "cell_type": "code",
   "execution_count": null,
   "id": "db69c490-cd24-4584-95b4-d0fbd5403db9",
   "metadata": {},
   "outputs": [],
   "source": []
  },
  {
   "cell_type": "code",
   "execution_count": null,
   "id": "12d21a52-c852-41c1-b5b1-78fa7e797efa",
   "metadata": {},
   "outputs": [],
   "source": []
  },
  {
   "cell_type": "code",
   "execution_count": null,
   "id": "b7334c4c-10f3-489e-938f-d0132b56fe25",
   "metadata": {},
   "outputs": [],
   "source": []
  },
  {
   "cell_type": "code",
   "execution_count": null,
   "id": "8fa1977c-4b8e-47aa-8280-4bf7561bc68e",
   "metadata": {},
   "outputs": [],
   "source": []
  },
  {
   "cell_type": "code",
   "execution_count": null,
   "id": "e264b5c1-ec9f-43ca-b0ac-9a167ce16a83",
   "metadata": {},
   "outputs": [],
   "source": []
  },
  {
   "cell_type": "code",
   "execution_count": null,
   "id": "03b5f975-ca42-4943-9497-bf79fafaae12",
   "metadata": {},
   "outputs": [],
   "source": []
  },
  {
   "cell_type": "code",
   "execution_count": null,
   "id": "e84e158e-7873-49a2-b537-a2e1027bb42d",
   "metadata": {},
   "outputs": [],
   "source": []
  },
  {
   "cell_type": "code",
   "execution_count": null,
   "id": "b95e58e4-cf98-41c0-a73e-04346909a8cb",
   "metadata": {},
   "outputs": [],
   "source": []
  }
 ],
 "metadata": {
  "kernelspec": {
   "display_name": "Python [conda env:anaconda3]",
   "language": "python",
   "name": "conda-env-anaconda3-py"
  },
  "language_info": {
   "codemirror_mode": {
    "name": "ipython",
    "version": 3
   },
   "file_extension": ".py",
   "mimetype": "text/x-python",
   "name": "python",
   "nbconvert_exporter": "python",
   "pygments_lexer": "ipython3",
   "version": "3.12.7"
  }
 },
 "nbformat": 4,
 "nbformat_minor": 5
}
