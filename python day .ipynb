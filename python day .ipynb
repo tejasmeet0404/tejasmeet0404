{
 "cells": [
  {
   "cell_type": "markdown",
   "id": "762c0370-bac1-47ff-8775-1a5d2279f248",
   "metadata": {},
   "source": [
    "<a id='1'></a><> <h3 style=\"background-color: Black; color:white\" ><br>CELL<br></h3>"
   ]
  },
  {
   "cell_type": "markdown",
   "id": "869444cf-0f58-4274-8209-0790aa163ec7",
   "metadata": {},
   "source": [
    "Hello This is day 1 of python"
   ]
  },
  {
   "cell_type": "code",
   "execution_count": 1,
   "id": "c6e75637-be90-4c67-86e0-eb670cb64bf0",
   "metadata": {},
   "outputs": [
    {
     "name": "stdout",
     "output_type": "stream",
     "text": [
      "Hello World\n"
     ]
    }
   ],
   "source": [
    "print(\"Hello World\")"
   ]
  },
  {
   "cell_type": "raw",
   "id": "5a76b26b-5fcd-4c4c-8512-8060b890a975",
   "metadata": {},
   "source": [
    "I want my notebook raw "
   ]
  },
  {
   "cell_type": "markdown",
   "id": "55e02616-6db6-4c02-9af9-b0a9e2d95be6",
   "metadata": {},
   "source": [
    "Python is a progamming language which is high leval and general purpose in natue,python \n",
    "is an interpreated language.\n",
    "The current version of python is3.11\n",
    "We are writing python programs in jupyter notebook which is the part of anaconda navigator.\n",
    "we are going to write information or order in the cells of jypter notebook which comes up with diff mode.\n",
    "python is case sensitive in nature."
   ]
  },
  {
   "cell_type": "markdown",
   "id": "7dd59551-94ef-48c3-a055-5f1f9853bb5b",
   "metadata": {},
   "source": [
    "Keywords and Identifiers:"
   ]
  },
  {
   "cell_type": "markdown",
   "id": "5e9d241d-9c39-4911-8d3d-95e6c4d98d06",
   "metadata": {},
   "source": [
    "<a id='1'></a><> <h3 style=\"background-color: Black; color:white\" ><br>Keywords and identifiers<br></h3> "
   ]
  },
  {
   "cell_type": "markdown",
   "id": "122c0633-f5b2-4d9f-8df0-5645e741523a",
   "metadata": {},
   "source": [
    "<a id='1'></a><> <h3 style=\"background-color: Black; color:white\" ><br>Keywords<br></h3>"
   ]
  },
  {
   "cell_type": "markdown",
   "id": "2b042b5e-5ae1-417b-a779-98717d1d4c15",
   "metadata": {},
   "source": [
    "keywords are case reserved words in python.overall we have 36 keywords."
   ]
  },
  {
   "cell_type": "code",
   "execution_count": null,
   "id": "89b2387b-4c78-4403-97bd-df1b25016108",
   "metadata": {},
   "outputs": [],
   "source": [
    "def,import,True. false"
   ]
  },
  {
   "cell_type": "markdown",
   "id": "77ace234-d5ad-496e-a6c9-a3f90874603d",
   "metadata": {},
   "source": [
    "<a id='1'></a><> <h3 style=\"background-color: Black; color:white\" ><br>Identifiers<br></h3>"
   ]
  },
  {
   "cell_type": "markdown",
   "id": "eb2a423f-d0d0-476e-87f9-d1a9eca61b70",
   "metadata": {},
   "source": [
    "Identifiers are those words which helps user to assign specific meaning is it and these are not\n",
    "reserved or built in.\n",
    "we have some rules to declare identiers :\n",
    "\n",
    "1.We cannot use keywords as identifiers .\n",
    "\n",
    "2.identifiers always starts with an alphabet or_followed  with my combination of alphabet and numbers.\n",
    "\n",
    "3.we cannot use any special character as the identifier.!@#$%^&*()"
   ]
  },
  {
   "cell_type": "code",
   "execution_count": 4,
   "id": "5ba0c64b-9d94-4a07-9498-e1b917d91b36",
   "metadata": {},
   "outputs": [],
   "source": [
    "megha_08=67     #statements"
   ]
  },
  {
   "cell_type": "code",
   "execution_count": null,
   "id": "0cfac2ca-4bdd-4c6e-9cec-ed6c1f11ec9d",
   "metadata": {},
   "outputs": [],
   "source": [
    "python09=90.67"
   ]
  },
  {
   "cell_type": "code",
   "execution_count": null,
   "id": "d71ad64e-aa51-4c94-b742-bcc02611d49f",
   "metadata": {},
   "outputs": [],
   "source": [
    "_hey=56"
   ]
  },
  {
   "cell_type": "markdown",
   "id": "34d7c9fb-c6ff-47a0-90d8-c3a014edf35b",
   "metadata": {},
   "source": [
    "<a id='1'></a><> <h3 style=\"background-color: Black; color:white\" ><br>Data Types<br></h3>"
   ]
  },
  {
   "cell_type": "code",
   "execution_count": null,
   "id": "69430230-b688-4111-b7c8-2f8970a7304b",
   "metadata": {},
   "outputs": [],
   "source": [
    "python has "
   ]
  },
  {
   "cell_type": "code",
   "execution_count": null,
   "id": "eaf341a6-6741-4166-a2db-8c5d2be4ee5a",
   "metadata": {},
   "outputs": [],
   "source": []
  },
  {
   "cell_type": "code",
   "execution_count": null,
   "id": "e6977b45-0bc0-42d1-b1cb-5df859ae3e10",
   "metadata": {},
   "outputs": [],
   "source": []
  },
  {
   "cell_type": "code",
   "execution_count": null,
   "id": "8597aa3c-cb79-49ca-83b7-48a2c2cff7ba",
   "metadata": {},
   "outputs": [],
   "source": []
  },
  {
   "cell_type": "code",
   "execution_count": null,
   "id": "25b8aca8-1800-45eb-b923-50141f61d9a5",
   "metadata": {},
   "outputs": [],
   "source": []
  },
  {
   "cell_type": "code",
   "execution_count": null,
   "id": "fb88c172-30b1-4d71-9995-e95b735be41b",
   "metadata": {},
   "outputs": [],
   "source": []
  }
 ],
 "metadata": {
  "kernelspec": {
   "display_name": "Python 3 (ipykernel)",
   "language": "python",
   "name": "python3"
  },
  "language_info": {
   "codemirror_mode": {
    "name": "ipython",
    "version": 3
   },
   "file_extension": ".py",
   "mimetype": "text/x-python",
   "name": "python",
   "nbconvert_exporter": "python",
   "pygments_lexer": "ipython3",
   "version": "3.12.7"
  }
 },
 "nbformat": 4,
 "nbformat_minor": 5
}
