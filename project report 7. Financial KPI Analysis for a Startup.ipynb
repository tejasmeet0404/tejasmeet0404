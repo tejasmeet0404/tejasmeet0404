{
 "cells": [
  {
   "cell_type": "markdown",
   "id": "854d606c-5ab9-4166-8664-90e45f02e8bb",
   "metadata": {},
   "source": [
    "project report 7. Financial KPI Analysis for a Startup"
   ]
  },
  {
   "cell_type": "markdown",
   "id": "a3727d2c-1ef4-44b0-a3d1-f14960d96361",
   "metadata": {},
   "source": [
    "Objective"
   ]
  },
  {
   "cell_type": "markdown",
   "id": "8fdb935c-0779-4517-a519-f8feed22fdaf",
   "metadata": {},
   "source": [
    "To evaluate key financial performance indicators for an early-stage startup, focusing on monthly revenue, burn rate, Customer Acquisition Cost (CAC), Lifetime Value (LTV), and run rate. The analysis supports decision-making around growth, efficiency, and customer value."
   ]
  },
  {
   "cell_type": "markdown",
   "id": "9894861c-cb48-45aa-8899-aa56609ce121",
   "metadata": {},
   "source": [
    "Tools Used"
   ]
  },
  {
   "cell_type": "markdown",
   "id": "d4fa7271-fa53-4fcf-bb3b-c94c3736292c",
   "metadata": {},
   "source": [
    "Excel: Data entry, basic calculations, and model development\n",
    "\n",
    "Tableau: Dashboard creation with visual indicators and trends\n",
    "\n",
    "Python (Pandas): Data preprocessing, cohort analysis, advanced KPI calculations"
   ]
  },
  {
   "cell_type": "markdown",
   "id": "e0e2da53-21b8-4eca-8858-8fc842d4bdc7",
   "metadata": {},
   "source": [
    " Data Collection\n",
    "\n",
    "Data was gathered from internal sources and structured into the following key categories:"
   ]
  },
  {
   "cell_type": "markdown",
   "id": "2911a95a-d7f2-4f5c-a15b-fca1f1fa85ef",
   "metadata": {},
   "source": [
    "| Category      | Metrics Included                               |\n",
    "| ------------- | ---------------------------------------------- |\n",
    "| **Revenue**   | Monthly recurring revenue (MRR), Total revenue |\n",
    "| **Expenses**  | Operating costs, marketing spend, payroll      |\n",
    "| **Customers** | Monthly active customers, acquisition numbers  |\n",
    "| **Retention** | Churn rates, customer lifetime                 |\n"
   ]
  },
  {
   "cell_type": "markdown",
   "id": "3985bd80-153f-4b74-9cbe-f905c8cb143b",
   "metadata": {},
   "source": [
    "KPI Calculations"
   ]
  },
  {
   "cell_type": "markdown",
   "id": "3019f49f-0de4-4c69-8767-34e4cd2e37be",
   "metadata": {},
   "source": [
    "1.Burn Rate\n",
    "\n",
    "Formula: Burn Rate = Total Monthly Expenses - Monthly Revenue\n",
    "\n",
    "Evaluated for each month to assess financial sustainability"
   ]
  },
  {
   "cell_type": "markdown",
   "id": "847ecd2a-6393-4bc6-b651-bb4196d2c128",
   "metadata": {},
   "source": [
    "2. Run Rate\n",
    "\n",
    "Formula: Run Rate = Current Month Revenue × 12\n",
    "\n",
    "Projected annual revenue based on current performance\n",
    "\n",
    "3. Customer Acquisition Cost (CAC)\n",
    "\n",
    "Formula: CAC = Marketing Spend / Number of New Customers\n",
    "\n",
    "Monthly tracking to evaluate efficiency of customer acquisition\n",
    "\n",
    "4. Customer Lifetime Value (LTV\n",
    "\n",
    "Formula: LTV = (Average Revenue per User × Gross Margin %) × Customer Lifetime\n",
    "\n",
    "Used to estimate long-term customer profitability\n",
    "\n",
    "5. LTV:CAC Ratio\n",
    "\n",
    "\n",
    "Formula: LTV:CAC = LTV / CAC\n",
    "\n",
    "Target: > 3 for a healthy business model                "
   ]
  },
  {
   "cell_type": "markdown",
   "id": "dcfba666-9478-48de-8fb2-4b9b25eced78",
   "metadata": {},
   "source": [
    " Tableau Dashboard Overview\n",
    "\n",
    "The interactive dashboard includes:"
   ]
  },
  {
   "cell_type": "markdown",
   "id": "9bf02f34-305a-45f8-ab5e-901e21c0e905",
   "metadata": {},
   "source": [
    "| Component             | Description                                  |\n",
    "| --------------------- | -------------------------------------------- |\n",
    "| Revenue & Burn Trends | Line graphs showing MRR, burn rate over time |\n",
    "| CAC & LTV             | Bar/line chart combo to visualize efficiency |\n",
    "| LTV\\:CAC Ratio        | KPI card with conditional formatting         |\n",
    "| Monthly Cohorts       | Heatmap of retention across customer cohorts |\n"
   ]
  },
  {
   "cell_type": "markdown",
   "id": "a83ed3a8-30a8-4ab4-be40-e424849afe47",
   "metadata": {},
   "source": [
    "Cohort Analysis"
   ]
  },
  {
   "cell_type": "markdown",
   "id": "ab8e1d82-56cd-4e97-be45-9ab4010c2387",
   "metadata": {},
   "source": [
    "Customers grouped by month of acquisition\n",
    "\n",
    "Metrics tracked:\n",
    "\n",
    "Retention per cohort (month-over-month)\n",
    "\n",
    "Revenue contribution\n",
    "\n",
    "Lifetime duration\n",
    "\n",
    "Visualized using heatmaps and retention curves in Tableau and Python"
   ]
  },
  {
   "cell_type": "markdown",
   "id": "0c6dc1cd-ae3a-4663-98ed-336eb9b53bec",
   "metadata": {},
   "source": [
    "Deliverables"
   ]
  },
  {
   "cell_type": "markdown",
   "id": "05ad6138-744f-479c-bed2-d4002b063d0f",
   "metadata": {},
   "source": [
    "1. Tableau Dashboard\n",
    "\n",
    "Hosted via Tableau Public/Server\n",
    "\n",
    "Includes filters by time period, segment, and acquisition channel\n",
    "\n",
    "2. LTV:CAC Report (PDF)\n",
    "\n",
    "Summary of key findings:\n",
    "\n",
    "LTV:CAC Ratio trends\n",
    "\n",
    "Recommendations for marketing efficiency\n",
    "\n",
    "Break-even projections\n",
    "\n",
    "Graphs and insights included\n",
    "\n",
    "3. Excel Model Template\n",
    "\n",
    "Input sheets:\n",
    "\n",
    "Revenue\n",
    "\n",
    "Expenses\n",
    "\n",
    "Customer Metrics\n",
    "\n",
    "Auto-calculates:\n",
    "\n",
    "CAC\n",
    "\n",
    "LTV\n",
    "\n",
    "Monthly Burn"
   ]
  },
  {
   "cell_type": "markdown",
   "id": "adddb9c5-6826-4163-8059-af5b7acea0a6",
   "metadata": {},
   "source": [
    " Recommendations"
   ]
  },
  {
   "cell_type": "markdown",
   "id": "251f3911-9628-4bc6-9684-224ab2c4a552",
   "metadata": {},
   "source": [
    "Improve CAC by optimizing paid campaigns and referral incentives\n",
    "\n",
    "Increase LTV through product upsells and improved customer retention\n",
    "\n",
    "Monitor Burn Rate to extend runway or seek additional funding\n",
    "\n",
    "Regular KPI Review using the dashboard for ongoing insights"
   ]
  },
  {
   "cell_type": "markdown",
   "id": "2adbdc43-6447-43bc-b31e-366b330ce5a5",
   "metadata": {},
   "source": [
    "1. Help Generating the LTV:CAC PDF Report\n",
    "\n",
    "I can:\n",
    "\n",
    "Draft the full report with visuals and insights\n",
    "\n",
    "Include executive summary, key trends, and recommendations\n",
    "\n",
    "Export it in a polished, presentation-ready format (PDF)\n",
    "\n",
    " What I need from you:\n",
    "\n",
    " Any real or sample data you’d like to use\n",
    "\n",
    "Branding or formatting preferences (logos, fonts, etc.)"
   ]
  },
  {
   "cell_type": "markdown",
   "id": "7edba57b-8de5-4126-b184-4c7d47eb5636",
   "metadata": {},
   "source": [
    "2. Downloadable Excel Model with Dummy Data\n",
    "I can:\n",
    "\n",
    "Build a dynamic Excel template with formulas for:\n",
    "\n",
    "Revenue, Expenses, CAC, LTV, Burn Rate, Run Rate\n",
    "\n",
    "Include sample (dummy) data and input guidelines\n",
    "\n",
    "Set up visualizations (e.g. charts, KPI snapshots)\n",
    "\n",
    " What you’ll get:\n",
    "\n",
    "Downloadable .xlsx file\n",
    "\n",
    "Auto-calculating KPIs\n",
    "\n",
    "Clear structure with labeled tabs"
   ]
  },
  {
   "cell_type": "markdown",
   "id": "194d00fb-fc51-4e8a-a27c-90605c004abe",
   "metadata": {},
   "source": [
    " 3. Tableau Public Dashboard Setup Assistance\n",
    "I can:\n",
    "\n",
    "Guide you through publishing a dashboard to Tableau Public\n",
    "\n",
    "Provide a .twbx Tableau workbook file with:\n",
    "\n",
    "Cohort analysis\n",
    "\n",
    "KPI charts\n",
    "\n",
    "LTV:CAC visualizations\n",
    "\n",
    "Assist with live data connections or CSV uploads if needed\n",
    "\n",
    "✅ What I need from you:\n",
    "\n",
    "Sample or real data (CSV or Excel)\n",
    "\n",
    "Tableau version you’re using (Public, Desktop, Cloud, etc.)"
   ]
  },
  {
   "cell_type": "markdown",
   "id": "87f57478-6eb1-41a1-b8e3-1988933433b0",
   "metadata": {},
   "source": [
    "Objective\n",
    "Analyze financial health and customer economics for an early-stage startup using core KPIs:\n",
    "\n",
    "Monthly Revenue\n",
    "\n",
    "Burn Rate\n",
    "\n",
    "Customer Acquisition Cost (CAC)\n",
    "\n",
    "Customer Lifetime Value (LTV)\n",
    "\n",
    "Revenue Run Rate\n",
    "\n",
    "LTV:CAC Ratio"
   ]
  },
  {
   "cell_type": "markdown",
   "id": "18b1672c-1dd6-4402-8fd6-edf93ffa332f",
   "metadata": {},
   "source": [
    "Tools\n",
    "Excel: Data entry, KPI formulas, model building\n",
    "\n",
    "Python (Pandas): Data cleaning, cohort analysis, CAC/LTV automation\n",
    "\n",
    "Tableau: Interactive dashboard and data visualization"
   ]
  },
  {
   "cell_type": "markdown",
   "id": "65ceb5a0-cd36-4e66-a837-20f197d08348",
   "metadata": {},
   "source": [
    "Step-by-Step Guide\n",
    " Step 1: Collect Financial Data"
   ]
  },
  {
   "cell_type": "markdown",
   "id": "c8375bf2-2d24-46f7-9766-bd8c9261702f",
   "metadata": {},
   "source": [
    "| Metric            | Source                          | Frequency |\n",
    "| ----------------- | ------------------------------- | --------- |\n",
    "| Revenue           | Billing platform or accounting  | Monthly   |\n",
    "| Expenses          | P\\&L / Expense Reports          | Monthly   |\n",
    "| Customer Data     | CRM / Marketing Platform        | Monthly   |\n",
    "| Acquisition Spend | Ads platform / Marketing budget | Monthly   |\n"
   ]
  },
  {
   "cell_type": "markdown",
   "id": "742d2384-024e-4d1a-9fb7-52cd4ba598cd",
   "metadata": {},
   "source": [
    " Step 2: Calculate Core KPIs"
   ]
  },
  {
   "cell_type": "markdown",
   "id": "a511d942-e097-4921-804a-4f48883490d2",
   "metadata": {},
   "source": [
    "1. Monthly Revenue"
   ]
  },
  {
   "cell_type": "raw",
   "id": "8e50fd47-ec03-413f-a3b4-2525764d0d5e",
   "metadata": {},
   "source": [
    "=SUMIFS(RevenueData[Amount], RevenueData[Date], \"=Month\")  \n"
   ]
  },
  {
   "cell_type": "markdown",
   "id": "e5436bcb-b14d-4888-8ddd-608f3f43596e",
   "metadata": {},
   "source": [
    "2. Burn Rate\n",
    "Monthly net cash loss"
   ]
  },
  {
   "cell_type": "raw",
   "id": "84fe86bf-b1da-4b2d-91ad-7e66e916f006",
   "metadata": {},
   "source": [
    "= Total Expenses - Total Revenue\n"
   ]
  },
  {
   "cell_type": "markdown",
   "id": "a4584189-e260-4c7a-ae0f-86d7913c06de",
   "metadata": {},
   "source": [
    "3. Run Rate\n",
    "Annualized revenue projection"
   ]
  },
  {
   "cell_type": "markdown",
   "id": "6631e880-d9b9-4edf-bb4b-32dd593e6eec",
   "metadata": {},
   "source": [
    "= Current Month Revenue × 12\n"
   ]
  },
  {
   "cell_type": "markdown",
   "id": "2cd8769f-ce72-46f0-8117-06617ec69cf6",
   "metadata": {},
   "source": [
    "4. Customer Acquisition Cost (CAC)\n",
    "\n",
    "Cost to acquire each new customer"
   ]
  },
  {
   "cell_type": "markdown",
   "id": "ab1f36fc-3515-4316-a86d-06f8095a5104",
   "metadata": {},
   "source": [
    "= Marketing Spend / New Customers Acquired\n"
   ]
  },
  {
   "cell_type": "markdown",
   "id": "1a36d2db-121a-4a04-82d3-255611f8eda8",
   "metadata": {},
   "source": [
    "5. Customer Lifetime Value (LTV)\n",
    "Average revenue from a customer over their lifetime\n",
    "\n",
    "excel\n",
    "Copy\n",
    "Edit\n"
   ]
  },
  {
   "cell_type": "raw",
   "id": "429c22f5-da67-4874-851a-a83e12c75a99",
   "metadata": {},
   "source": [
    "= ARPU × Gross Margin % × Customer Lifetime (months)\n"
   ]
  },
  {
   "cell_type": "markdown",
   "id": "34409e0e-b359-418d-9502-0e2b7b683c03",
   "metadata": {},
   "source": [
    "Step 3: Compute LTV:CAC Ratio"
   ]
  },
  {
   "cell_type": "raw",
   "id": "36a79cbe-1af7-433c-a8da-3df5cb76d0d5",
   "metadata": {},
   "source": [
    "= LTV / CAC\n"
   ]
  },
  {
   "cell_type": "markdown",
   "id": "7b262bc0-2bfd-4d1f-91b8-2ebc9a0be90f",
   "metadata": {},
   "source": [
    "Benchmark:\n",
    "\n",
    "< 1 → Unprofitable\n",
    "\n",
    "~3 → Healthy\n",
    "\n",
    "3 → Scalable growth"
   ]
  },
  {
   "cell_type": "markdown",
   "id": "d1e8bca8-e261-4aaf-859f-2f5d5b7b35df",
   "metadata": {},
   "source": [
    " Optional: Use Python (Pandas) for Automation"
   ]
  },
  {
   "cell_type": "raw",
   "id": "31c27ae6-9ac3-4d24-a69e-2da34cc640cd",
   "metadata": {},
   "source": [
    "import pandas as pd\n",
    "\n",
    "# Load financial and customer data\n",
    "df = pd.read_csv(\"financials.csv\")\n",
    "\n",
    "# Example CAC and LTV calculation\n",
    "df['CAC'] = df['Marketing Spend'] / df['New Customers']\n",
    "df['ARPU'] = df['Revenue'] / df['Customers']\n",
    "df['LTV'] = df['ARPU'] * df['Gross Margin'] * df['Customer Lifetime']\n",
    "df['LTV_CAC'] = df['LTV'] / df['CAC']\n"
   ]
  },
  {
   "cell_type": "markdown",
   "id": "dd54b163-36d0-435d-b145-87b6b68cf7d4",
   "metadata": {},
   "source": [
    "Optional: Build Dashboard in Tableau\n",
    "Visuals to include:\n",
    "\n",
    "Revenue vs Burn Rate (line graph)\n",
    "\n",
    "CAC & LTV Trend (dual-axis)\n",
    "\n",
    "LTV:CAC KPI card\n",
    "\n",
    "Customer cohort heatmap (Python-exported or Tableau-native)"
   ]
  },
  {
   "cell_type": "code",
   "execution_count": null,
   "id": "404cca71-5744-4852-bb91-24ec0795be60",
   "metadata": {},
   "outputs": [],
   "source": []
  },
  {
   "cell_type": "code",
   "execution_count": null,
   "id": "b25fc547-6a54-42ed-928d-1c5b2144c1ed",
   "metadata": {},
   "outputs": [],
   "source": []
  }
 ],
 "metadata": {
  "kernelspec": {
   "display_name": "Python [conda env:anaconda3]",
   "language": "python",
   "name": "conda-env-anaconda3-py"
  },
  "language_info": {
   "codemirror_mode": {
    "name": "ipython",
    "version": 3
   },
   "file_extension": ".py",
   "mimetype": "text/x-python",
   "name": "python",
   "nbconvert_exporter": "python",
   "pygments_lexer": "ipython3",
   "version": "3.12.7"
  }
 },
 "nbformat": 4,
 "nbformat_minor": 5
}
