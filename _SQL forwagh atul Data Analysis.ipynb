{
 "cells": [
  {
   "cell_type": "markdown",
   "id": "a6edb1c3-66ef-49f2-9ebc-8651ee1645a8",
   "metadata": {},
   "source": [
    "Deliverables: SQL File + Sceenshots"
   ]
  },
  {
   "cell_type": "markdown",
   "id": "af8a2116-2ad1-459b-9f2e-cb3966a6645f",
   "metadata": {},
   "source": [
    "Create a file named data_analysis_queries.sql to hold all your SQL queries .For Screenshots, run each query in your SQL environment (like MySQL Workbench, pgAdmin, or SQLite Studio) and take clear screenshots of the results."
   ]
  },
  {
   "cell_type": "markdown",
   "id": "ab12ae7b-3a23-4f4d-b748-f3d5871cbdf0",
   "metadata": {},
   "source": [
    "Sample SQL Queries (Based on a Typical Ecommerce Dataset)"
   ]
  },
  {
   "cell_type": "markdown",
   "id": "27b2f28c-b4bc-49b0-a284-83c4f584dde3",
   "metadata": {},
   "source": [
    "Assume tables like:"
   ]
  },
  {
   "cell_type": "markdown",
   "id": "7eebac93-377b-497a-94a4-a595f9f49211",
   "metadata": {},
   "source": [
    "customers(customer_id,name,email)\n",
    "\n",
    "Orders(order_id,customer_id,order_date, total_amount)\n",
    "\n",
    "Order_items(order_item_id,order_id,product_id, quantity,price)\n",
    "\n",
    "products(product_id,name, category,price)"
   ]
  },
  {
   "cell_type": "markdown",
   "id": "9d822ac6-da79-465c-9386-98bee9bc8de1",
   "metadata": {},
   "source": [
    "a.Basic  SELECT+ WHERE+ORDER By"
   ]
  },
  {
   "cell_type": "raw",
   "id": "c2097b35-6bda-4fc8-8250-34bf430e1ea8",
   "metadata": {},
   "source": [
    "SELECT*\n",
    "FROM customers\n",
    "WHERE email LIKE '%gmail.com\n",
    "Order BY name;"
   ]
  },
  {
   "cell_type": "markdown",
   "id": "bd421c97-21ff-4e94-9630-0d0c365ca30d",
   "metadata": {},
   "source": [
    "b.GROUP BY with Aggregate Functions"
   ]
  },
  {
   "cell_type": "raw",
   "id": "1931e9db-a0b7-4abd-b9e5-89f651c691aa",
   "metadata": {},
   "source": [
    "SELECT customer_id, count(order_id) AS order_count,SUM(total_amount) AS total_spent\n",
    "\n",
    "FROM Orders\n",
    "\n",
    "GROUPBY customer_id\n",
    "\n",
    "ORDER BY total _spent DESC;"
   ]
  },
  {
   "cell_type": "markdown",
   "id": "d2bf9b64-d9ba-42c1-a468-51704b1f7cde",
   "metadata": {},
   "source": [
    "c.INNER JOIN"
   ]
  },
  {
   "cell_type": "raw",
   "id": "c7686303-160a-49af-8f4e-d1e25069ae59",
   "metadata": {},
   "source": [
    "SELECT o.order_id, c.name,o.total_amount\n",
    "\n",
    "FROM orders o\n",
    "\n",
    "INNER JOIN customers c ON o.customer_id=c.customer_id;"
   ]
  },
  {
   "cell_type": "markdown",
   "id": "e055b63b-3aeb-4b09-8a80-036afd50d348",
   "metadata": {},
   "source": [
    "d.LIEFT JOIN"
   ]
  },
  {
   "cell_type": "raw",
   "id": "940aaa95-610b-489c-9c33-d0fd3d777883",
   "metadata": {},
   "source": [
    "SELECT name,email\n",
    "\n",
    "FROM customers\n",
    "\n",
    "WHERE customer_id IN(\n",
    "    SELECT customer_id\n",
    "    FROM  orders \n",
    "WHere total_amount>1000\n",
    ");"
   ]
  },
  {
   "cell_type": "markdown",
   "id": "f4849982-4786-47f2-954e-1fb5a2e67d12",
   "metadata": {},
   "source": [
    "f.Create a view "
   ]
  },
  {
   "cell_type": "raw",
   "id": "12fa7c2c-d0a3-4b0e-9160-107e14998d88",
   "metadata": {},
   "source": [
    "CREATE VIEW customer_spending AS\n",
    "\n",
    "SELECT customer_id, SUM(total_amount)AS total_spent\n",
    "\n",
    "FROM orders\n",
    "GROUPS BY customer_id;"
   ]
  },
  {
   "cell_type": "markdown",
   "id": "e73f839d-3b8a-4006-b788-72ba7aaca6eb",
   "metadata": {},
   "source": [
    "g.Using Index for Optimization(MySQL/PostgreSQL)"
   ]
  },
  {
   "cell_type": "raw",
   "id": "3b18b6e3-3352-4d09-9e0c-9f829ed5c004",
   "metadata": {},
   "source": [
    "CREATE INDEX idx_customer_id ON orders(customer_id);"
   ]
  },
  {
   "cell_type": "markdown",
   "id": "e3a05854-47e6-4b5c-84f1-ce79fcc807bb",
   "metadata": {},
   "source": [
    "Interview Question & Answers"
   ]
  },
  {
   "cell_type": "markdown",
   "id": "889171be-382b-4b44-8e16-0c8ce2f613db",
   "metadata": {},
   "source": [
    "1.Difference Between WHERE and HAVING ?"
   ]
  },
  {
   "cell_type": "markdown",
   "id": "a165727b-cdc3-432d-b4de-b0bd9ff9328b",
   "metadata": {},
   "source": [
    "Ans: WHERE: Filters rows before aggregation (GROUP BY).\n",
    "\n",
    "     HAVING: Filters after aggregation."
   ]
  },
  {
   "cell_type": "raw",
   "id": "961c7e28-2c47-413e-8118-0ac73321651e",
   "metadata": {},
   "source": [
    "--Filters individual rows\n",
    "SELECT* FROM orders WHERE total_amount>500;\n",
    "\n",
    "--Filters groups \n",
    "SELECT customer_id, SUM(total_amount)\n",
    "FROM orders\n",
    "GROUP BY customer_id\n",
    "HAVING SUM(total_amount)>1000;\n"
   ]
  },
  {
   "cell_type": "markdown",
   "id": "ff661a1d-e291-460c-90db-4132cc17d0e4",
   "metadata": {},
   "source": [
    "2. What are the different types of joins>"
   ]
  },
  {
   "cell_type": "raw",
   "id": "2f2a0d2c-a7ea-44e5-8afb-bf359a521726",
   "metadata": {},
   "source": [
    "Ans: TYpes of Joins\n",
    "1. INNER JOIN :Only matching records\n",
    "2. LEFT JOIN: All from left, matching from right.\n",
    "3. RIGHT JOIN: All from right, matching from left.\n",
    "4.FULL OUTER JOIN: All records from both sides (not in all DBs).\n",
    "5.CROSS JOIN : Cartesian product (all combinations)."
   ]
  },
  {
   "cell_type": "markdown",
   "id": "c841184d-850e-43e3-9976-f5983f50b749",
   "metadata": {},
   "source": [
    "3.How do you calculate average revenue per user in SQL?"
   ]
  },
  {
   "cell_type": "raw",
   "id": "62362099-178d-4609-ad15-e779664f702e",
   "metadata": {},
   "source": [
    "SELECT AVG(user_revenue)AS avg_revenue_per_user\n",
    "FROM(\n",
    "    SELECT customer_id,SUM(total_amount)AS user_revenue\n",
    "    FROM orders\n",
    "    GROUP By customer_id\n",
    "    )AS revenue_table;"
   ]
  },
  {
   "cell_type": "markdown",
   "id": "2f6ceecc-f332-45c6-874f-6c257449f298",
   "metadata": {},
   "source": [
    "4.What are subqueries?"
   ]
  },
  {
   "cell_type": "markdown",
   "id": "a4d0d1f5-439b-4c56-8bb2-0777c3fd7921",
   "metadata": {},
   "source": [
    "Ans: A subquery is a query inside another query.It's used for filtering ,calculation,or restructuring data."
   ]
  },
  {
   "cell_type": "markdown",
   "id": "5729c40d-6c63-412a-ae1d-a5208e52e1f4",
   "metadata": {},
   "source": [
    "5.How do you optimize a SQL query?"
   ]
  },
  {
   "cell_type": "markdown",
   "id": "abc53d0e-ec4b-4568-8ff2-29ba1c5b9e2a",
   "metadata": {},
   "source": [
    "Ans:1.Use indexes on columns used in JOINs, WHERE, ORDER BY.\n",
    "2.Avoid SELECT*; fetch only needed columns.\n",
    "3.Avoid LIMIT for large result sets.\n",
    "4. Avoid unnecessary subqueries; prefer JOINs where applicable.\n",
    "5.Analyze query exection plans.\n"
   ]
  },
  {
   "cell_type": "markdown",
   "id": "02929994-8427-47d5-9b35-8ebc8fc6d642",
   "metadata": {},
   "source": [
    "6.What is aview in SQL?"
   ]
  },
  {
   "cell_type": "markdown",
   "id": "2e5e667f-b53f-44d1-bf01-74969128358f",
   "metadata": {},
   "source": [
    "Ans: A view is a virtual table based on a SQL query.It simplifies complex queries and improves readability."
   ]
  },
  {
   "cell_type": "markdown",
   "id": "aacb18d4-ccc4-4317-80a5-c29f81cc4d01",
   "metadata": {},
   "source": [
    "7.How would you handle null values in SQL?"
   ]
  },
  {
   "cell_type": "markdown",
   "id": "92be3e21-e44e-4aeb-9d4c-eab749a08179",
   "metadata": {},
   "source": [
    "Ans: Use IS NULL or IS NOT NULL to Filter.\n",
    "    Use COALESCE (column, default_values)to replace nulls.\n",
    "    Use NULLIF(a,b)to return NULL if a=b."
   ]
  },
  {
   "cell_type": "raw",
   "id": "5644087c-4f68-4c3c-9cb6-32ce9a6e56b5",
   "metadata": {},
   "source": [
    "Example:\n",
    "SELECT COALESCE (discount,0)AS discount_amount FROM products;"
   ]
  },
  {
   "cell_type": "markdown",
   "id": "f1299cf0-ba2f-47c4-a429-ad9e5550585e",
   "metadata": {},
   "source": [
    " Screenshots\n",
    "Run each query in your SQL tool (e.g., pgAdmin, MySQL Workbench)\n",
    "\n",
    "Take screenshots of result sets\n",
    "\n",
    "Name them like query1_output.png, query2_output.png, etc."
   ]
  },
  {
   "cell_type": "markdown",
   "id": "b9ba7522-9eb0-43d1-8a13-61f1e3e54588",
   "metadata": {},
   "source": [
    "Deliverables\n",
    "SQL File (task3_analysis.sql)\n",
    "Contain all the above queries.\n",
    "\n",
    "Use comments to explain each section."
   ]
  },
  {
   "cell_type": "code",
   "execution_count": null,
   "id": "c5eb1a43-cd5e-4453-b433-23f271e89879",
   "metadata": {},
   "outputs": [],
   "source": []
  }
 ],
 "metadata": {
  "kernelspec": {
   "display_name": "Python [conda env:anaconda3]",
   "language": "python",
   "name": "conda-env-anaconda3-py"
  },
  "language_info": {
   "codemirror_mode": {
    "name": "ipython",
    "version": 3
   },
   "file_extension": ".py",
   "mimetype": "text/x-python",
   "name": "python",
   "nbconvert_exporter": "python",
   "pygments_lexer": "ipython3",
   "version": "3.12.7"
  }
 },
 "nbformat": 4,
 "nbformat_minor": 5
}
