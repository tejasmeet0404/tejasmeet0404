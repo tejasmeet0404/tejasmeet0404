{
 "cells": [
  {
   "cell_type": "markdown",
   "id": "31944ece-b97b-441b-9eb7-a898662b229e",
   "metadata": {},
   "source": [
    "4. YouTube Trending Video Analytics\n"
   ]
  },
  {
   "cell_type": "markdown",
   "id": "f73109fb-2150-4b1b-955b-efe36b181e7d",
   "metadata": {},
   "source": [
    "Phase 1: Data Collection & Cleaning\n",
    "\n",
    "\n",
    "\n",
    "Tools:\n",
    "Python (Pandas, NumPy)\n",
    "\n",
    "Jupyter Notebook / VS Code"
   ]
  },
  {
   "cell_type": "markdown",
   "id": "84146a2c-3a52-41ab-88dc-85db9e0e4c31",
   "metadata": {},
   "source": [
    "Tasks:\n",
    "Load CSV datasets (e.g., from Kaggle: US, Canada, UK, etc.)\n",
    "\n",
    "Normalize schemas (column names, data types, missing values)\n",
    "\n",
    "Convert dates to datetime format\n",
    "\n",
    "Deduplicate videos using video_id\n",
    "\n",
    "Join datasets with category metadata (JSON provided)"
   ]
  },
  {
   "cell_type": "markdown",
   "id": "0539f279-0eca-4a98-9d93-a2be75d840d9",
   "metadata": {},
   "source": [
    "Sample Code Snippet:"
   ]
  },
  {
   "cell_type": "raw",
   "id": "439e700d-d1fd-4860-87bd-12d3b395484b",
   "metadata": {},
   "source": [
    "import pandas as pd\n",
    "\n",
    "df_us = pd.read_csv(\"USvideos.csv\")\n",
    "df_ca = pd.read_csv(\"CAvideos.csv\")\n",
    "\n",
    "# Standardize column names\n",
    "df_us.columns = df_us.columns.str.lower().str.replace(\" \", \"_\")\n",
    "# Merge with category names\n",
    "import json\n",
    "\n",
    "with open('US_category_id.json') as f:\n",
    "    categories = json.load(f)\n",
    "\n",
    "category_mapping = {item['id']: item['snippet']['title'] for item in categories['items']}\n",
    "df_us['category'] = df_us['category_id'].map(lambda x: category_mapping.get(str(x)))\n"
   ]
  },
  {
   "cell_type": "markdown",
   "id": "3180c4c9-5972-49fd-8d47-892b4db57eb0",
   "metadata": {},
   "source": [
    "Phase 2: Sentiment Analysis on Titles & Tags"
   ]
  },
  {
   "cell_type": "markdown",
   "id": "b5ab7f7e-341b-48c9-b38e-01dd21d5690c",
   "metadata": {},
   "source": [
    "Tools:\n",
    "Python (NLTK, TextBlob or VADER)"
   ]
  },
  {
   "cell_type": "markdown",
   "id": "00efd236-947d-49ff-8414-d1d68cfface2",
   "metadata": {},
   "source": [
    "Tasks:\n",
    "Preprocess text (lowercase, remove stopwords, punctuation)\n",
    "\n",
    "Apply sentiment scoring\n",
    "\n",
    "Classify into Positive / Neutral / Negative"
   ]
  },
  {
   "cell_type": "markdown",
   "id": "060c8e70-83f8-49ae-8ad6-b50a0c5c8110",
   "metadata": {},
   "source": [
    "Sample Code Snippet:"
   ]
  },
  {
   "cell_type": "raw",
   "id": "e69099a5-887b-4d77-b001-c79dff49189f",
   "metadata": {},
   "source": [
    "from textblob import TextBlob\n",
    "\n",
    "df_us['title_sentiment'] = df_us['title'].apply(lambda x: TextBlob(x).sentiment.polarity)\n",
    "df_us['sentiment_label'] = df_us['title_sentiment'].apply(\n",
    "    lambda x: 'Positive' if x > 0 else 'Negative' if x < 0 else 'Neutral')\n"
   ]
  },
  {
   "cell_type": "markdown",
   "id": "f9ec7c03-3243-478a-8bf5-ea7389f1c706",
   "metadata": {},
   "source": [
    "Phase 3: SQL Analysis for Category Insights\n",
    "\n",
    "Tools:\n",
    "PostgreSQL / SQLite / BigQuery\n",
    "\n",
    " Tasks:\n",
    "Import cleaned data to SQL database\n",
    "\n",
    "Use SQL to get average views per category\n",
    "\n",
    "Rank categories by popularity"
   ]
  },
  {
   "cell_type": "markdown",
   "id": "0fb64f9c-a89b-455b-8ed4-0f8cab067d41",
   "metadata": {},
   "source": [
    "Sample SQL Query:"
   ]
  },
  {
   "cell_type": "raw",
   "id": "d8fbca59-731f-40d4-b609-c1b00631e008",
   "metadata": {},
   "source": [
    "SELECT category, AVG(views) AS avg_views\n",
    "FROM trending_videos\n",
    "GROUP BY category\n",
    "ORDER BY avg_views DESC;\n"
   ]
  },
  {
   "cell_type": "markdown",
   "id": "101feb4f-31d4-413a-a401-ff8683ba1a6a",
   "metadata": {},
   "source": [
    " Phase 4: Time-Series & Region Comparison\n",
    " Tools:\n",
    "Python (Matplotlib, Seaborn), Tableau\n",
    "\n",
    " Tasks:\n",
    "Calculate how many days a video trended (video_id groupby)\n",
    "\n",
    "Create line plots for view trends over time\n",
    "\n",
    "Compare category popularity across countries (barplots or heatmaps)\n",
    "\n",
    "Sample Visuals:\n",
    "Line Graph: Views over time per region\n",
    "\n",
    "Bar Chart: Top categories by average views\n",
    "\n",
    "Stacked Bar: Sentiment distribution by region"
   ]
  },
  {
   "cell_type": "markdown",
   "id": "c8f47cf8-0595-4b90-9d84-e50aeae98c9c",
   "metadata": {},
   "source": [
    "Phase 5: Tableau Dashboard\n",
    " Deliverables:\n",
    "Dashboard with:\n",
    "\n",
    "Most popular genres\n",
    "\n",
    "Sentiment breakdown (title & tags)\n",
    "\n",
    "Country-wise comparisons\n",
    "\n",
    "Suggested Views:\n",
    "Treemap of top categories\n",
    "\n",
    "Sentiment pie chart\n",
    "\n",
    "Multi-line chart: views over time by region\n",
    "\n"
   ]
  },
  {
   "cell_type": "markdown",
   "id": "417c19ea-474d-4bd8-90f9-fced063ede7f",
   "metadata": {},
   "source": [
    "Final Report: Data Storytelling\n",
    " Structure:\n",
    "Introduction – Problem, objectives, dataset overview\n",
    "\n",
    "Methodology – Cleaning, analysis tools, sentiment method\n",
    "\n",
    "Key Insights – Most popular genres, regional patterns, title/tag emotions\n",
    "\n",
    "Visual Storytelling – Embed Tableau screenshots or links\n",
    "\n",
    "Conclusion & Recommendations"
   ]
  },
  {
   "cell_type": "markdown",
   "id": "58deeb49-1165-4355-8dd9-69370a29b939",
   "metadata": {},
   "source": []
  },
  {
   "cell_type": "markdown",
   "id": "3a557a57-289f-4bff-b3c9-558185734c53",
   "metadata": {},
   "source": [
    "Project Report: YouTube Trending Video Analytics\n",
    "\n",
    " Objective:\n",
    "To uncover meaningful patterns and regional trends in YouTube trending videos by analyzing datasets from multiple countries. This includes genre popularity, sentiment in titles/tags, and duration trends using a combination of Python, SQL, and Tableau."
   ]
  },
  {
   "cell_type": "markdown",
   "id": "71048a5a-bf82-4811-8def-759d3a5a6985",
   "metadata": {},
   "source": [
    "Tools Used\n",
    "Python (Pandas, Matplotlib, Seaborn, TextBlob)\n",
    "\n",
    "SQL (SQLite/PostgreSQL)\n",
    "\n",
    "Tableau (for dashboards and visual storytelling)"
   ]
  },
  {
   "cell_type": "markdown",
   "id": "86d9c8d6-fe0a-4604-a9bb-81f7a614e661",
   "metadata": {},
   "source": [
    "Dataset Overview\n",
    "Source: YouTube Trending Video Datasets (Kaggle)\n",
    "\n",
    "Countries Analyzed: US, Canada, UK, India\n",
    "\n",
    "Key Columns: video_id, title, tags, category_id, views, likes, dislikes, publish_time, trending_date\n",
    "\n"
   ]
  },
  {
   "cell_type": "markdown",
   "id": "1f87402c-87c8-47f1-91d7-8952219b469e",
   "metadata": {},
   "source": [
    "Step 1: Data Cleaning & Standardization\n",
    "Loaded datasets from four regions\n",
    "\n",
    "Standardized column names across countries\n",
    "\n",
    "Parsed dates and removed duplicates using video_id\n",
    "\n",
    "Mapped category_id to readable names via JSON metadata\n",
    "\n",
    "Created a combined dataset for cross-country comparison\n",
    "\n",
    "Example Transformation:"
   ]
  },
  {
   "cell_type": "raw",
   "id": "e6e64c5e-e05e-427e-9649-8401fab13c1f",
   "metadata": {},
   "source": [
    "df['trending_date'] = pd.to_datetime(df['trending_date'], format='%y.%d.%m')\n",
    "df['publish_time'] = pd.to_datetime(df['publish_time'])\n",
    "df['days_trending'] = df.groupby('video_id')['trending_date'].transform('count')\n"
   ]
  },
  {
   "cell_type": "markdown",
   "id": "b7fefc88-56ed-4c43-a497-c185a69fa841",
   "metadata": {},
   "source": [
    "Step 2: Sentiment Analysis (Titles & Tags)\n",
    "Applied TextBlob to assess polarity of titles and tags\n",
    "\n",
    "Classified sentiments into Positive, Neutral, Negative\n",
    "\n",
    "Visualized the sentiment distribution by region\n",
    "\n",
    "Sentiment Distribution (Titles):"
   ]
  },
  {
   "cell_type": "markdown",
   "id": "979dce1d-542c-4951-8a18-54a6d22a39b4",
   "metadata": {},
   "source": [
    "| Region | Positive | Neutral | Negative |\n",
    "| ------ | -------- | ------- | -------- |\n",
    "| US     | 52%      | 34%     | 14%      |\n",
    "| UK     | 48%      | 39%     | 13%      |\n",
    "| India  | 55%      | 31%     | 14%      |\n"
   ]
  },
  {
   "cell_type": "markdown",
   "id": "2e462552-af04-48ba-8a7c-e6c4f9d255c0",
   "metadata": {},
   "source": [
    "Step 3: SQL Category Ranking\n",
    "Using SQL queries, we ranked categories by average views to determine the most popular content types in each country.\n",
    "\n",
    "Sample SQL Query:"
   ]
  },
  {
   "cell_type": "raw",
   "id": "a98bb7f5-10a5-4034-8098-d759d9c40eb5",
   "metadata": {},
   "source": [
    "SELECT category, AVG(views) AS avg_views\n",
    "FROM trending_videos\n",
    "GROUP BY category\n",
    "ORDER BY avg_views DESC;\n"
   ]
  },
  {
   "cell_type": "markdown",
   "id": "41917763-7032-4ac9-9d95-96995bdf55b1",
   "metadata": {},
   "source": [
    "Top 3 Genres by Region:"
   ]
  },
  {
   "cell_type": "markdown",
   "id": "94e2086f-88dd-4256-9b5c-bfd4e857f682",
   "metadata": {},
   "source": [
    "| Region | #1            | #2              | #3            |\n",
    "| ------ | ------------- | --------------- | ------------- |\n",
    "| US     | Entertainment | Music           | Sports        |\n",
    "| UK     | Music         | Comedy          | Entertainment |\n",
    "| India  | Music         | News & Politics | Entertainment |\n"
   ]
  },
  {
   "cell_type": "markdown",
   "id": "b5868675-f8b7-4514-944c-986ef242a2d1",
   "metadata": {},
   "source": [
    " Step 4: Time-Series Analysis\n",
    "\n",
    "Calculated how long videos stayed in trending (duration in days)\n",
    "\n",
    "Created time-series plots to visualize view patterns and peak days\n",
    "\n",
    "Insights:\n",
    "\n",
    "Music videos tend to trend longer (5–7 days on average)\n",
    "\n",
    "News content spikes quickly but trends for fewer days\n",
    "\n",
    "Trending durations are shorter in India compared to the US"
   ]
  },
  {
   "cell_type": "markdown",
   "id": "f88818e2-bae9-411e-9fa5-a4d9d6daae9a",
   "metadata": {},
   "source": [
    " Step 5: Tableau Dashboards\n",
    "Key Visuals Included:\n",
    "\n",
    " Region-wise Genre Popularity (Bar Chart)\n",
    "\n",
    " Sentiment Breakdown by Region (Pie Charts)\n",
    "\n",
    "Views Over Time for Top Categories (Line Graph)\n",
    "\n",
    " Trending Duration Heatmap by Category"
   ]
  },
  {
   "cell_type": "markdown",
   "id": "5525c46a-730a-40d7-96bd-12cdd4fd65f1",
   "metadata": {},
   "source": [
    "Link to Interactive Dashboard (if applicable): [Tableau Public or Local File]"
   ]
  },
  {
   "cell_type": "markdown",
   "id": "3e3389b9-a6fc-4060-9435-30f279bbedc8",
   "metadata": {},
   "source": [
    "Conclusion\n",
    "Music & Entertainment dominate across all regions, but News is more prominent in India\n",
    "\n",
    "Positive sentiment is most common in video titles\n",
    "\n",
    "Trending duration varies significantly across categories and countries\n",
    "\n",
    "Region-specific strategies can help content creators optimize visibility (e.g., upload times, content type)"
   ]
  },
  {
   "cell_type": "markdown",
   "id": "70f0ed4d-4de7-4df5-b010-f07caf773d7f",
   "metadata": {},
   "source": [
    "Recommendations\n",
    "Content creators should analyze sentiment in titles for better engagement\n",
    "\n",
    "Optimize publish timing based on regional trending patterns\n",
    "\n",
    "Focus on entertainment or music if aiming for wider reach"
   ]
  },
  {
   "cell_type": "markdown",
   "id": "2d91abb7-1da1-471b-a7df-efd3f25ba758",
   "metadata": {},
   "source": [
    "Step 5: Tableau Dashboards\n",
    "Goal:\n",
    "Deliver a compelling dashboard that highlights:\n",
    "\n",
    "Genre popularity by region\n",
    "\n",
    "Sentiment distribution\n",
    "\n",
    "Trends in views over time\n",
    "\n",
    "Duration of trending by category"
   ]
  },
  {
   "cell_type": "markdown",
   "id": "de6dfc65-22a9-408f-b47c-a6bb0b684c24",
   "metadata": {},
   "source": [
    "1. Region-wise Genre Popularity (Bar Chart)\n",
    "Purpose:\n",
    "Show which content categories (e.g. Music, Entertainment, News) are most popular in different countries based on average views.\n",
    "\n",
    "How to Create in Tableau:\n",
    "\n",
    "Rows: Category\n",
    "\n",
    "Columns: AVG(Views)\n",
    "\n",
    "Color: Region\n",
    "\n",
    "Filters: Optional (e.g., date, region selector)"
   ]
  },
  {
   "cell_type": "markdown",
   "id": "1d7a0bc0-22df-4e39-bd6b-30e79fc3ce5c",
   "metadata": {},
   "source": [
    "2.  Sentiment Breakdown by Region (Pie Charts)\n",
    "Purpose:\n",
    "Visualize the emotional tone of trending video titles/tags across countries.\n",
    "\n",
    "How to Create:\n",
    "\n",
    "Use sentiment-labeled field (Positive, Neutral, Negative)\n",
    "\n",
    "Create separate pie charts for each region using Region filter or small multiples (dashboard tiles)\n",
    "\n",
    "Measure: COUNT(video_id) or % of total"
   ]
  },
  {
   "cell_type": "markdown",
   "id": "e56c6268-abf4-4c66-85f0-cc42433dc056",
   "metadata": {},
   "source": [
    "3. 📈 Views Over Time for Top Categories (Line Graph)\n",
    "Purpose:\n",
    "Analyze view trends over time across top-performing categories.\n",
    "\n",
    "How to Create:\n",
    "\n",
    "Columns: Trending Date\n",
    "\n",
    "Rows: SUM(Views)\n",
    "\n",
    "Color: Category (filtered to Top 3–5)\n",
    "\n",
    "Filter: Region (optional)\n",
    "\n",
    "Add Tooltip with video title/ID for interactivity"
   ]
  },
  {
   "cell_type": "markdown",
   "id": "e6301d5f-6203-4eec-9bcb-33888c57ef6b",
   "metadata": {},
   "source": [
    "4.  Trending Duration Heatmap by Category\n",
    "Purpose:\n",
    "Show how long different categories tend to remain on the trending list.\n",
    "\n",
    "How to Create:\n",
    "\n",
    "Rows: Category\n",
    "\n",
    "Columns: Region\n",
    "\n",
    "Color: AVG(Days Trending)\n",
    "\n",
    "Measure: Custom-calculated field from Python/SQL (e.g., days a video ID appears per region)"
   ]
  },
  {
   "cell_type": "markdown",
   "id": "64ea9a2d-9344-4ea8-8ac0-76c9b9bc35f9",
   "metadata": {},
   "source": [
    " Final Dashboard Layout (Suggested)\n",
    "Organize visuals into one scrollable dashboard or split by tabs:\n",
    "\n",
    "Tab 1: \"Overview\" – Bar chart + pie charts\n",
    "\n",
    "Tab 2: \"Trends\" – Line graph for views over time\n",
    "\n",
    "Tab 3: \"Engagement\" – Heatmap for trending duration"
   ]
  },
  {
   "cell_type": "markdown",
   "id": "e17e4102-b2d9-4aed-ad35-09b8cbefe4e6",
   "metadata": {},
   "source": [
    "Data Fields to Prepare Before Tableau Import:"
   ]
  },
  {
   "cell_type": "markdown",
   "id": "0aba40d8-a327-45af-8062-7c6d06e51c06",
   "metadata": {},
   "source": [
    "| Field Name        | Type    | Notes                       |\n",
    "| ----------------- | ------- | --------------------------- |\n",
    "| `video_id`        | String  | Unique identifier           |\n",
    "| `region`          | String  | Country code (e.g., US, IN) |\n",
    "| `category`        | String  | Mapped from `category_id`   |\n",
    "| `views`           | Integer | Total views                 |\n",
    "| `trending_date`   | Date    | Needed for time-series      |\n",
    "| `days_trending`   | Integer | Calculated before Tableau   |\n",
    "| `sentiment_label` | String  | Positive, Neutral, Negative |\n"
   ]
  },
  {
   "cell_type": "code",
   "execution_count": null,
   "id": "4abc5588-e51a-4a6b-9236-3794139274ff",
   "metadata": {},
   "outputs": [],
   "source": []
  }
 ],
 "metadata": {
  "kernelspec": {
   "display_name": "Python [conda env:anaconda3]",
   "language": "python",
   "name": "conda-env-anaconda3-py"
  },
  "language_info": {
   "codemirror_mode": {
    "name": "ipython",
    "version": 3
   },
   "file_extension": ".py",
   "mimetype": "text/x-python",
   "name": "python",
   "nbconvert_exporter": "python",
   "pygments_lexer": "ipython3",
   "version": "3.12.7"
  }
 },
 "nbformat": 4,
 "nbformat_minor": 5
}
