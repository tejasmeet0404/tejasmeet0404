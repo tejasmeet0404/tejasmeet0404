{
 "cells": [
  {
   "cell_type": "markdown",
   "id": "e9c574f7",
   "metadata": {},
   "source": [
    "#### Numpy: Numerical python-why do we need it?"
   ]
  },
  {
   "cell_type": "code",
   "execution_count": null,
   "id": "26e46c64-5363-4def-a37d-1545ec5bd570",
   "metadata": {},
   "outputs": [],
   "source": []
  },
  {
   "cell_type": "code",
   "execution_count": null,
   "id": "20a44834-07a7-42f6-bff5-6b434ed23b87",
   "metadata": {},
   "outputs": [],
   "source": []
  },
  {
   "cell_type": "code",
   "execution_count": 1,
   "id": "ed454a8e",
   "metadata": {},
   "outputs": [
    {
     "ename": "NameError",
     "evalue": "name 'np' is not defined",
     "output_type": "error",
     "traceback": [
      "\u001b[1;31m---------------------------------------------------------------------------\u001b[0m",
      "\u001b[1;31mNameError\u001b[0m                                 Traceback (most recent call last)",
      "Cell \u001b[1;32mIn[1], line 1\u001b[0m\n\u001b[1;32m----> 1\u001b[0m arr_32D\u001b[38;5;241m=\u001b[39mnp\u001b[38;5;241m.\u001b[39marray([[[\u001b[38;5;241m1\u001b[39m,\u001b[38;5;241m2\u001b[39m,\u001b[38;5;241m3\u001b[39m],[\u001b[38;5;241m4\u001b[39m,\u001b[38;5;241m5\u001b[39m,\u001b[38;5;241m6\u001b[39m]],[[\u001b[38;5;241m7\u001b[39m,\u001b[38;5;241m8\u001b[39m,\u001b[38;5;241m9\u001b[39m],[\u001b[38;5;241m10\u001b[39m,\u001b[38;5;241m11\u001b[39m,\u001b[38;5;241m12\u001b[39m]]])\n\u001b[0;32m      2\u001b[0m arr_32D\n",
      "\u001b[1;31mNameError\u001b[0m: name 'np' is not defined"
     ]
    }
   ],
   "source": [
    "arr_32D=np.array([[[1,2,3],[4,5,6]],[[7,8,9],[10,11,12]]])\n",
    "arr_32D"
   ]
  },
  {
   "cell_type": "code",
   "execution_count": null,
   "id": "78706d90",
   "metadata": {},
   "outputs": [],
   "source": [
    "###methods/attributes are object specific but functions are universal"
   ]
  },
  {
   "cell_type": "code",
   "execution_count": null,
   "id": "fa3c825f",
   "metadata": {},
   "outputs": [],
   "source": [
    "L1=[20,30,50,70]\n",
    "##L1 is a list object.\n",
    "print(type(L1))"
   ]
  },
  {
   "cell_type": "code",
   "execution_count": null,
   "id": "97a56b96",
   "metadata": {},
   "outputs": [],
   "source": [
    "##L1 is an object which belongs to the list class."
   ]
  },
  {
   "cell_type": "code",
   "execution_count": null,
   "id": "7e904a6f",
   "metadata": {},
   "outputs": [],
   "source": [
    "t5=(20,30,50,70,20)\n",
    "print(type(t5))"
   ]
  },
  {
   "cell_type": "code",
   "execution_count": null,
   "id": "7184c016",
   "metadata": {},
   "outputs": [],
   "source": [
    "##let us use a attribute specific to list\n",
    "L1.append(90)\n",
    "L1"
   ]
  },
  {
   "cell_type": "code",
   "execution_count": null,
   "id": "e72c4adc",
   "metadata": {},
   "outputs": [],
   "source": [
    "t5.append(90)"
   ]
  },
  {
   "cell_type": "code",
   "execution_count": null,
   "id": "08908058",
   "metadata": {},
   "outputs": [],
   "source": [
    "t5.count(20)"
   ]
  },
  {
   "cell_type": "code",
   "execution_count": null,
   "id": "f3e1b8f4",
   "metadata": {},
   "outputs": [],
   "source": [
    "L1.index(20)"
   ]
  },
  {
   "cell_type": "code",
   "execution_count": null,
   "id": "40c860f3",
   "metadata": {},
   "outputs": [],
   "source": [
    "##### attributes/methods differ among objects."
   ]
  },
  {
   "cell_type": "code",
   "execution_count": null,
   "id": "efd37168",
   "metadata": {},
   "outputs": [],
   "source": [
    "###functions will be applicable to all objects,even if they differ among themselves.\n",
    "print(L1)\n",
    "print(t5)"
   ]
  },
  {
   "cell_type": "code",
   "execution_count": null,
   "id": "842fa88e",
   "metadata": {},
   "outputs": [],
   "source": [
    "##another function:\n",
    "len(L1)\n"
   ]
  },
  {
   "cell_type": "code",
   "execution_count": null,
   "id": "d21402fc",
   "metadata": {},
   "outputs": [],
   "source": [
    "len(t5)"
   ]
  },
  {
   "cell_type": "code",
   "execution_count": null,
   "id": "81ae0a7d",
   "metadata": {},
   "outputs": [],
   "source": [
    "###in case of methods(count,append,index) the obj name comes first. In case of functions the function comes first(len,print)"
   ]
  },
  {
   "cell_type": "markdown",
   "id": "a54607c3",
   "metadata": {},
   "source": [
    "### features(attributes) of an array-:\n",
    "* ndim--> the number of dimensions of the array\n",
    "* size---> the number of elements in an array\n",
    "* shape---> the no of rows,the no of columns in the array\n",
    "* dtype---> the dtype of elements in the array\n",
    "* itemsize--> the space taken by each element of the array in the memory given in bytes.\n"
   ]
  },
  {
   "cell_type": "code",
   "execution_count": null,
   "id": "dbf4b4e8",
   "metadata": {},
   "outputs": [],
   "source": [
    "test_array=np.array([[11,12,13,15,17],[21,31,36,33,39],[1,9,4,2,3]])\n",
    "print(test_array)\n",
    "print(test_array.ndim)\n",
    "print(test_array.size)\n",
    "print(test_array.shape)\n",
    "print(test_array.dtype)\n",
    "print(test_array.itemsize)"
   ]
  },
  {
   "cell_type": "code",
   "execution_count": null,
   "id": "8d6b9237",
   "metadata": {},
   "outputs": [],
   "source": [
    "arr_32D=np.array([[[1,2,3],[4,5,6]],[[7,8,9],[10,11,12]]])\n",
    "print(arr_32D)\n",
    "print(arr_32D.ndim)\n",
    "print(arr_32D.size)\n",
    "print(arr_32D.shape)\n",
    "print(arr_32D.dtype)\n",
    "print(arr_32D.itemsize)"
   ]
  },
  {
   "cell_type": "code",
   "execution_count": null,
   "id": "0da6b088",
   "metadata": {},
   "outputs": [],
   "source": [
    "### the shape of a 3D array gives us (2,2,3) =(no of 2d arrays,no of rows in each 2d array,no of columns in each 2d array)"
   ]
  },
  {
   "cell_type": "markdown",
   "id": "579e98dd",
   "metadata": {},
   "source": [
    "#### conversion of a lower dimensional array to a higher dimension and vice versa"
   ]
  },
  {
   "cell_type": "code",
   "execution_count": null,
   "id": "89a5a751",
   "metadata": {},
   "outputs": [],
   "source": [
    "array1=np.array([1,2,3,4,5,6,7,8,9,10,11,12])\n",
    "print(array1.ndim)"
   ]
  },
  {
   "cell_type": "code",
   "execution_count": null,
   "id": "4a6fe712",
   "metadata": {},
   "outputs": [],
   "source": [
    "#convert array1 to a higher dimension-2D and 3D\n",
    "array2=array1.reshape(3,4)\n",
    "print(array2)\n",
    "print(array2.shape)"
   ]
  },
  {
   "cell_type": "code",
   "execution_count": null,
   "id": "6139b44e",
   "metadata": {},
   "outputs": [],
   "source": [
    "array3=array1.reshape(2,2,3)\n",
    "print(array3)\n",
    "print(array3.shape)\n",
    "print(array3.ndim)"
   ]
  },
  {
   "cell_type": "code",
   "execution_count": null,
   "id": "3225d69d",
   "metadata": {},
   "outputs": [],
   "source": [
    "array3_nw=array2.reshape(2,3,2)\n",
    "print(array3_nw)\n",
    "print(array3_nw.shape)\n",
    "print(array3_nw.ndim)"
   ]
  },
  {
   "cell_type": "code",
   "execution_count": null,
   "id": "2c7a8761",
   "metadata": {},
   "outputs": [],
   "source": [
    "###converting a high dimensional array to a lowest dimension(1D) we can use either flatten/ravel(SAME) function."
   ]
  },
  {
   "cell_type": "code",
   "execution_count": null,
   "id": "a5c0984f",
   "metadata": {},
   "outputs": [],
   "source": [
    "arr1d=array3_nw.flatten()\n",
    "print(arr1d)\n",
    "#print(array3_nw.shape)\n",
    "print(arr1d.ndim)"
   ]
  },
  {
   "cell_type": "code",
   "execution_count": null,
   "id": "50a8626a",
   "metadata": {},
   "outputs": [],
   "source": [
    "arr11d=array2.ravel()\n",
    "print(arr11d)\n",
    "#print(array3_nw.shape)\n",
    "print(arr11d.ndim)\n"
   ]
  },
  {
   "cell_type": "code",
   "execution_count": null,
   "id": "35701eea",
   "metadata": {},
   "outputs": [],
   "source": [
    "array5d=np.array([1,2,3,4,5],dtype=float)\n",
    "print(array5d)\n",
    "print(array5d.dtype)"
   ]
  },
  {
   "cell_type": "code",
   "execution_count": null,
   "id": "ee3a6188",
   "metadata": {},
   "outputs": [],
   "source": [
    "name experience  salary\n",
    "1 df 10 .rename\n",
    "\n",
    "\n",
    "\n",
    "\n"
   ]
  },
  {
   "cell_type": "code",
   "execution_count": null,
   "id": "5b6f53a2-3b1b-4e82-beab-385d302023ef",
   "metadata": {},
   "outputs": [],
   "source": []
  }
 ],
 "metadata": {
  "kernelspec": {
   "display_name": "Python 3 (ipykernel)",
   "language": "python",
   "name": "python3"
  },
  "language_info": {
   "codemirror_mode": {
    "name": "ipython",
    "version": 3
   },
   "file_extension": ".py",
   "mimetype": "text/x-python",
   "name": "python",
   "nbconvert_exporter": "python",
   "pygments_lexer": "ipython3",
   "version": "3.12.4"
  }
 },
 "nbformat": 4,
 "nbformat_minor": 5
}
