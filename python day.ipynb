{
 "cells": [
  {
   "cell_type": "markdown",
   "id": "1de877ef-eab0-4a54-bd0e-aa51fe2839d6",
   "metadata": {},
   "source": [
    "#####cell"
   ]
  },
  {
   "cell_type": "code",
   "execution_count": null,
   "id": "1b8f558e-6806-475c-af46-c10235b81f8c",
   "metadata": {},
   "outputs": [],
   "source": [
    "Hello This is day 1 of python."
   ]
  },
  {
   "cell_type": "code",
   "execution_count": null,
   "id": "75d13032-a61f-4c6c-8c73-c22a20520085",
   "metadata": {},
   "outputs": [],
   "source": []
  },
  {
   "cell_type": "code",
   "execution_count": null,
   "id": "50049992-4a65-45f1-a471-4e53c9c1ac83",
   "metadata": {},
   "outputs": [],
   "source": []
  }
 ],
 "metadata": {
  "kernelspec": {
   "display_name": "Python 3 (ipykernel)",
   "language": "python",
   "name": "python3"
  },
  "language_info": {
   "codemirror_mode": {
    "name": "ipython",
    "version": 3
   },
   "file_extension": ".py",
   "mimetype": "text/x-python",
   "name": "python",
   "nbconvert_exporter": "python",
   "pygments_lexer": "ipython3",
   "version": "3.12.7"
  }
 },
 "nbformat": 4,
 "nbformat_minor": 5
}
