{
 "cells": [
  {
   "cell_type": "code",
   "execution_count": null,
   "id": "2bafffa8-e68f-4267-9994-aeb5b8712bbb",
   "metadata": {},
   "outputs": [],
   "source": [
    "#### Pandas is a powerful library in data science,where we can convert raw data to understandable information. It is built on top of numpy,and contains more functionalities than numpy. It is best tool for handling real world messy data."
   ]
  },
  {
   "cell_type": "markdown",
   "id": "f45e8413",
   "metadata": {},
   "source": [
    "* Pandas gives us 2 powerful data structures-series,dataframe. Internal alignment of data is a specific feature of this tool"
   ]
  },
  {
   "cell_type": "code",
   "execution_count": 1,
   "id": "f28f6cc8",
   "metadata": {},
   "outputs": [],
   "source": [
    "import numpy as np\n",
    "import pandas as pd"
   ]
  },
  {
   "cell_type": "code",
   "execution_count": 2,
   "id": "bd99bc3f",
   "metadata": {},
   "outputs": [
    {
     "name": "stdout",
     "output_type": "stream",
     "text": [
      "0    40\n",
      "1    20\n",
      "2    60\n",
      "3    80\n",
      "4    12\n",
      "dtype: int64\n",
      "<class 'pandas.core.series.Series'>\n"
     ]
    }
   ],
   "source": [
    "d=[40,20,60,80,12]\n",
    "ser1=pd.Series(d)\n",
    "print(ser1)\n",
    "print(type(ser1))"
   ]
  },
  {
   "cell_type": "code",
   "execution_count": 3,
   "id": "d6591dec",
   "metadata": {},
   "outputs": [
    {
     "data": {
      "text/plain": [
       "Monday       500\n",
       "Tuesday      550\n",
       "Wednesday    675\n",
       "Thursday     486\n",
       "Friday       682\n",
       "dtype: int64"
      ]
     },
     "execution_count": 3,
     "metadata": {},
     "output_type": "execute_result"
    }
   ],
   "source": [
    "###we can give our own indexes:\n",
    "sales=[500,550,675,486,682]\n",
    "days=['Monday','Tuesday','Wednesday','Thursday','Friday']\n",
    "\n",
    "ser2=pd.Series(sales,index=days)\n",
    "ser2"
   ]
  },
  {
   "cell_type": "code",
   "execution_count": 4,
   "id": "15b82c56",
   "metadata": {},
   "outputs": [
    {
     "name": "stdout",
     "output_type": "stream",
     "text": [
      "Sales on Thursday: 486\n"
     ]
    }
   ],
   "source": [
    "###Q) What are the sales recorded on thurday?\n",
    "\n",
    "thurs_sales=ser2['Thursday']\n",
    "print('Sales on Thursday:',thurs_sales)"
   ]
  },
  {
   "cell_type": "code",
   "execution_count": 6,
   "id": "deab0be4",
   "metadata": {},
   "outputs": [
    {
     "data": {
      "text/plain": [
       "0    500\n",
       "1    550\n",
       "2    675\n",
       "3    486\n",
       "4    682\n",
       "dtype: int32"
      ]
     },
     "execution_count": 6,
     "metadata": {},
     "output_type": "execute_result"
    }
   ],
   "source": [
    "sales2=np.array([500,550,675,486,682]) ###create a series from values stored in an array\n",
    "ser3=pd.Series(sales2)\n",
    "ser3"
   ]
  },
  {
   "cell_type": "code",
   "execution_count": 7,
   "id": "506d9bbc",
   "metadata": {},
   "outputs": [
    {
     "data": {
      "text/plain": [
       "Name    Python\n",
       "id       10875\n",
       "3        Three\n",
       "dtype: object"
      ]
     },
     "execution_count": 7,
     "metadata": {},
     "output_type": "execute_result"
    }
   ],
   "source": [
    "###using data stored in a dictionaries:\n",
    "d2={'Name':'Python','id':10875,3:'Three'}\n",
    "ser4=pd.Series(d2)\n",
    "ser4"
   ]
  },
  {
   "cell_type": "code",
   "execution_count": 9,
   "id": "09a1b19b",
   "metadata": {},
   "outputs": [
    {
     "data": {
      "text/plain": [
       "a       NaN\n",
       "id    10875\n",
       "c       NaN\n",
       "dtype: object"
      ]
     },
     "execution_count": 9,
     "metadata": {},
     "output_type": "execute_result"
    }
   ],
   "source": [
    "###using data stored in a dictionaries:\n",
    "d2={'Name':'Python','id':10875,3:'Three'}\n",
    "ser5=pd.Series(d2,index=['a','id','c'])\n",
    "ser5"
   ]
  },
  {
   "cell_type": "code",
   "execution_count": 10,
   "id": "da333413",
   "metadata": {},
   "outputs": [
    {
     "data": {
      "text/html": [
       "<div>\n",
       "<style scoped>\n",
       "    .dataframe tbody tr th:only-of-type {\n",
       "        vertical-align: middle;\n",
       "    }\n",
       "\n",
       "    .dataframe tbody tr th {\n",
       "        vertical-align: top;\n",
       "    }\n",
       "\n",
       "    .dataframe thead th {\n",
       "        text-align: right;\n",
       "    }\n",
       "</style>\n",
       "<table border=\"1\" class=\"dataframe\">\n",
       "  <thead>\n",
       "    <tr style=\"text-align: right;\">\n",
       "      <th></th>\n",
       "      <th>Name</th>\n",
       "      <th>Experience</th>\n",
       "      <th>Salary</th>\n",
       "    </tr>\n",
       "  </thead>\n",
       "  <tbody>\n",
       "    <tr>\n",
       "      <th>0</th>\n",
       "      <td>A</td>\n",
       "      <td>1.2</td>\n",
       "      <td>40000</td>\n",
       "    </tr>\n",
       "    <tr>\n",
       "      <th>1</th>\n",
       "      <td>B</td>\n",
       "      <td>2.8</td>\n",
       "      <td>55000</td>\n",
       "    </tr>\n",
       "    <tr>\n",
       "      <th>2</th>\n",
       "      <td>C</td>\n",
       "      <td>5.5</td>\n",
       "      <td>96000</td>\n",
       "    </tr>\n",
       "    <tr>\n",
       "      <th>3</th>\n",
       "      <td>D</td>\n",
       "      <td>3.5</td>\n",
       "      <td>60000</td>\n",
       "    </tr>\n",
       "  </tbody>\n",
       "</table>\n",
       "</div>"
      ],
      "text/plain": [
       "  Name  Experience  Salary\n",
       "0    A         1.2   40000\n",
       "1    B         2.8   55000\n",
       "2    C         5.5   96000\n",
       "3    D         3.5   60000"
      ]
     },
     "execution_count": 10,
     "metadata": {},
     "output_type": "execute_result"
    }
   ],
   "source": [
    "d3={'Name':['A','B','C','D'],\n",
    "   'Experience':[1.2,2.8,5.5,3.5],\n",
    "   'Salary':[40000,55000,96000,60000]}\n",
    "df0=pd.DataFrame(d3)\n",
    "df0"
   ]
  },
  {
   "cell_type": "code",
   "execution_count": 11,
   "id": "3e950de4",
   "metadata": {},
   "outputs": [
    {
     "data": {
      "text/html": [
       "<div>\n",
       "<style scoped>\n",
       "    .dataframe tbody tr th:only-of-type {\n",
       "        vertical-align: middle;\n",
       "    }\n",
       "\n",
       "    .dataframe tbody tr th {\n",
       "        vertical-align: top;\n",
       "    }\n",
       "\n",
       "    .dataframe thead th {\n",
       "        text-align: right;\n",
       "    }\n",
       "</style>\n",
       "<table border=\"1\" class=\"dataframe\">\n",
       "  <thead>\n",
       "    <tr style=\"text-align: right;\">\n",
       "      <th></th>\n",
       "      <th>Name</th>\n",
       "      <th>Experience</th>\n",
       "      <th>Salary</th>\n",
       "    </tr>\n",
       "  </thead>\n",
       "  <tbody>\n",
       "    <tr>\n",
       "      <th>1</th>\n",
       "      <td>A</td>\n",
       "      <td>1.2</td>\n",
       "      <td>40000</td>\n",
       "    </tr>\n",
       "    <tr>\n",
       "      <th>2</th>\n",
       "      <td>B</td>\n",
       "      <td>2.8</td>\n",
       "      <td>55000</td>\n",
       "    </tr>\n",
       "    <tr>\n",
       "      <th>3</th>\n",
       "      <td>C</td>\n",
       "      <td>5.5</td>\n",
       "      <td>96000</td>\n",
       "    </tr>\n",
       "    <tr>\n",
       "      <th>4</th>\n",
       "      <td>D</td>\n",
       "      <td>3.5</td>\n",
       "      <td>60000</td>\n",
       "    </tr>\n",
       "  </tbody>\n",
       "</table>\n",
       "</div>"
      ],
      "text/plain": [
       "  Name  Experience  Salary\n",
       "1    A         1.2   40000\n",
       "2    B         2.8   55000\n",
       "3    C         5.5   96000\n",
       "4    D         3.5   60000"
      ]
     },
     "execution_count": 11,
     "metadata": {},
     "output_type": "execute_result"
    }
   ],
   "source": [
    "d3={'Name':['A','B','C','D'],\n",
    "   'Experience':[1.2,2.8,5.5,3.5],\n",
    "   'Salary':[40000,55000,96000,60000]}\n",
    "df0=pd.DataFrame(d3,index=[1,2,3,4])\n",
    "df0"
   ]
  },
  {
   "cell_type": "code",
   "execution_count": 13,
   "id": "ff09a216",
   "metadata": {},
   "outputs": [
    {
     "data": {
      "text/plain": [
       "5.5"
      ]
     },
     "execution_count": 13,
     "metadata": {},
     "output_type": "execute_result"
    }
   ],
   "source": [
    "df0.iloc[2,1] ###iloc=index location."
   ]
  },
  {
   "cell_type": "code",
   "execution_count": 14,
   "id": "90d8aa48",
   "metadata": {},
   "outputs": [],
   "source": [
    "###iloc is a function which we use to slice dataframes using the index position of the value we want to retrieve."
   ]
  },
  {
   "cell_type": "code",
   "execution_count": 15,
   "id": "f2668663",
   "metadata": {},
   "outputs": [],
   "source": [
    "####loc function is used to slice dataframes with the row,column names(labels)"
   ]
  },
  {
   "cell_type": "code",
   "execution_count": 16,
   "id": "119b62da",
   "metadata": {},
   "outputs": [
    {
     "data": {
      "text/plain": [
       "5.5"
      ]
     },
     "execution_count": 16,
     "metadata": {},
     "output_type": "execute_result"
    }
   ],
   "source": [
    "df0.at[3,'Experience']  #to get a single value from the dataframe"
   ]
  },
  {
   "cell_type": "code",
   "execution_count": 17,
   "id": "605c1e58",
   "metadata": {},
   "outputs": [
    {
     "data": {
      "text/plain": [
       "5.5"
      ]
     },
     "execution_count": 17,
     "metadata": {},
     "output_type": "execute_result"
    }
   ],
   "source": [
    "df0.loc[3,'Experience']"
   ]
  },
  {
   "cell_type": "code",
   "execution_count": 19,
   "id": "9cae0d10",
   "metadata": {},
   "outputs": [
    {
     "data": {
      "text/html": [
       "<div>\n",
       "<style scoped>\n",
       "    .dataframe tbody tr th:only-of-type {\n",
       "        vertical-align: middle;\n",
       "    }\n",
       "\n",
       "    .dataframe tbody tr th {\n",
       "        vertical-align: top;\n",
       "    }\n",
       "\n",
       "    .dataframe thead th {\n",
       "        text-align: right;\n",
       "    }\n",
       "</style>\n",
       "<table border=\"1\" class=\"dataframe\">\n",
       "  <thead>\n",
       "    <tr style=\"text-align: right;\">\n",
       "      <th></th>\n",
       "      <th>Name</th>\n",
       "      <th>Experience</th>\n",
       "      <th>Salary</th>\n",
       "    </tr>\n",
       "  </thead>\n",
       "  <tbody>\n",
       "    <tr>\n",
       "      <th>2</th>\n",
       "      <td>B</td>\n",
       "      <td>2.8</td>\n",
       "      <td>55000</td>\n",
       "    </tr>\n",
       "    <tr>\n",
       "      <th>3</th>\n",
       "      <td>C</td>\n",
       "      <td>5.5</td>\n",
       "      <td>96000</td>\n",
       "    </tr>\n",
       "  </tbody>\n",
       "</table>\n",
       "</div>"
      ],
      "text/plain": [
       "  Name  Experience  Salary\n",
       "2    B         2.8   55000\n",
       "3    C         5.5   96000"
      ]
     },
     "execution_count": 19,
     "metadata": {},
     "output_type": "execute_result"
    }
   ],
   "source": [
    "df0.loc[2:3]"
   ]
  },
  {
   "cell_type": "code",
   "execution_count": 20,
   "id": "1c23fb65",
   "metadata": {},
   "outputs": [
    {
     "data": {
      "text/html": [
       "<div>\n",
       "<style scoped>\n",
       "    .dataframe tbody tr th:only-of-type {\n",
       "        vertical-align: middle;\n",
       "    }\n",
       "\n",
       "    .dataframe tbody tr th {\n",
       "        vertical-align: top;\n",
       "    }\n",
       "\n",
       "    .dataframe thead th {\n",
       "        text-align: right;\n",
       "    }\n",
       "</style>\n",
       "<table border=\"1\" class=\"dataframe\">\n",
       "  <thead>\n",
       "    <tr style=\"text-align: right;\">\n",
       "      <th></th>\n",
       "      <th>Name</th>\n",
       "      <th>Experience</th>\n",
       "      <th>Salary</th>\n",
       "    </tr>\n",
       "  </thead>\n",
       "  <tbody>\n",
       "    <tr>\n",
       "      <th>3</th>\n",
       "      <td>C</td>\n",
       "      <td>5.5</td>\n",
       "      <td>96000</td>\n",
       "    </tr>\n",
       "  </tbody>\n",
       "</table>\n",
       "</div>"
      ],
      "text/plain": [
       "  Name  Experience  Salary\n",
       "3    C         5.5   96000"
      ]
     },
     "execution_count": 20,
     "metadata": {},
     "output_type": "execute_result"
    }
   ],
   "source": [
    "df0.iloc[2:3]"
   ]
  },
  {
   "cell_type": "code",
   "execution_count": null,
   "id": "9e2f3ac5",
   "metadata": {},
   "outputs": [],
   "source": [
    "#Q) access the column' column_name'})\n"
   ]
  },
  {
   "cell_type": "code",
   "execution_count": null,
   "id": "ba265514-a990-4146-998b-0cb388eb7223",
   "metadata": {},
   "outputs": [],
   "source": [
    "print(df7{'column','column2'[])\n",
    " 0 Q)slice out all values greater than 10 of column1 and print out only another _column ', 'column_'name'\n",
    "\n",
    "\n",
    "\n",
    "\n",
    "\n",
    "\n",
    "\n",
    "\n",
    "\n",
    "\n"
   ]
  },
  {
   "cell_type": "code",
   "execution_count": null,
   "id": "257842c7-e137-479d-8603-36aca2c9a2df",
   "metadata": {},
   "outputs": [],
   "source": [
    " #Q)iterate over all rows in df4 "
   ]
  },
  {
   "cell_type": "code",
   "execution_count": null,
   "id": "c2a2284f-45d2-464c-a961-5fc21a9e2beb",
   "metadata": {},
   "outputs": [],
   "source": [
    "for i , j in df4.items()\n",
    "0 false \n",
    "4 True\n",
    "2 True \n",
    "name :0, dtype; object\n",
    "\n",
    "\n",
    "\n",
    "\n",
    "\n",
    "\n",
    "\n",
    "\n",
    "\n"
   ]
  },
  {
   "cell_type": "code",
   "execution_count": 1,
   "id": "04948e41-1013-453e-b251-e3ee91ae12fe",
   "metadata": {},
   "outputs": [],
   "source": [
    "###  check the data"
   ]
  },
  {
   "cell_type": "code",
   "execution_count": null,
   "id": "c30b650c-2d02-4fb3-8bb0-757ff7c8312d",
   "metadata": {},
   "outputs": [],
   "source": []
  },
  {
   "cell_type": "code",
   "execution_count": null,
   "id": "4126742b-8236-4336-a0a5-b178d6cdefe6",
   "metadata": {},
   "outputs": [],
   "source": []
  },
  {
   "cell_type": "code",
   "execution_count": null,
   "id": "1fd6db6e-c890-4e81-b33b-7ca0e1373332",
   "metadata": {},
   "outputs": [],
   "source": []
  },
  {
   "cell_type": "code",
   "execution_count": null,
   "id": "4d68306a-0aaa-41b4-8a2f-023462bb07f8",
   "metadata": {},
   "outputs": [],
   "source": []
  },
  {
   "cell_type": "code",
   "execution_count": 2,
   "id": "8d721784-00b1-4d07-a405-124f92212d9c",
   "metadata": {},
   "outputs": [
    {
     "ename": "SyntaxError",
     "evalue": "unterminated string literal (detected at line 1) (2770044158.py, line 1)",
     "output_type": "error",
     "traceback": [
      "\u001b[1;36m  Cell \u001b[1;32mIn[2], line 1\u001b[1;36m\u001b[0m\n\u001b[1;33m    data =pd.read_csv('salary_data.csv.)\u001b[0m\n\u001b[1;37m                      ^\u001b[0m\n\u001b[1;31mSyntaxError\u001b[0m\u001b[1;31m:\u001b[0m unterminated string literal (detected at line 1)\n"
     ]
    }
   ],
   "source": [
    "data =pd.read_csv('salary_data.csv.)"
   ]
  },
  {
   "cell_type": "code",
   "execution_count": 3,
   "id": "1823584e-40bd-4f02-93a0-f054cb406863",
   "metadata": {},
   "outputs": [
    {
     "ename": "NameError",
     "evalue": "name 'data' is not defined",
     "output_type": "error",
     "traceback": [
      "\u001b[1;31m---------------------------------------------------------------------------\u001b[0m",
      "\u001b[1;31mNameError\u001b[0m                                 Traceback (most recent call last)",
      "Cell \u001b[1;32mIn[3], line 1\u001b[0m\n\u001b[1;32m----> 1\u001b[0m data\u001b[38;5;241m.\u001b[39mhead()\n\u001b[0;32m      2\u001b[0m data\u001b[38;5;241m.\u001b[39mtaj1(\u001b[38;5;241m10\u001b[39m)\n\u001b[0;32m      3\u001b[0m data\u001b[38;5;241m.\u001b[39mshape\n",
      "\u001b[1;31mNameError\u001b[0m: name 'data' is not defined"
     ]
    }
   ],
   "source": [
    "data.head()\n",
    "data.taj1(10)\n",
    "data.shape\n",
    "import pandas as pd\n"
   ]
  },
  {
   "cell_type": "code",
   "execution_count": null,
   "id": "b969b8dc-718f-4acb-bfe0-12fca5e0a692",
   "metadata": {},
   "outputs": [],
   "source": [
    "import pandas as pd\n",
    "importg "
   ]
  },
  {
   "cell_type": "code",
   "execution_count": null,
   "id": "dbdda154-78e6-455d-b628-fc1653b3fda9",
   "metadata": {},
   "outputs": [],
   "source": []
  },
  {
   "cell_type": "code",
   "execution_count": null,
   "id": "ecb17baa-9955-4516-8589-2c7f3b1f41bf",
   "metadata": {},
   "outputs": [],
   "source": []
  },
  {
   "cell_type": "code",
   "execution_count": null,
   "id": "70896e2c-41b3-43ae-a339-e10bfd1f0774",
   "metadata": {},
   "outputs": [],
   "source": []
  },
  {
   "cell_type": "code",
   "execution_count": null,
   "id": "76b4fb24-fed7-4c2e-9121-1b671c7a962f",
   "metadata": {},
   "outputs": [],
   "source": []
  },
  {
   "cell_type": "code",
   "execution_count": null,
   "id": "e8a51fa7-4589-4483-a8e3-d2557db7bd75",
   "metadata": {},
   "outputs": [],
   "source": []
  },
  {
   "cell_type": "code",
   "execution_count": null,
   "id": "579dd3ea-482c-49fe-a9e3-9c1bc39dbd5c",
   "metadata": {},
   "outputs": [],
   "source": []
  },
  {
   "cell_type": "code",
   "execution_count": null,
   "id": "d7267aa4-f623-4dd9-89e8-16aca7df49b6",
   "metadata": {},
   "outputs": [],
   "source": []
  },
  {
   "cell_type": "code",
   "execution_count": null,
   "id": "b1de6d2c-251e-45f8-8473-9f2eb6c7c6c7",
   "metadata": {},
   "outputs": [],
   "source": []
  },
  {
   "cell_type": "code",
   "execution_count": null,
   "id": "e3106632-9e79-4fe8-a401-70c2150443bd",
   "metadata": {},
   "outputs": [],
   "source": []
  },
  {
   "cell_type": "code",
   "execution_count": null,
   "id": "1b777385-0ef1-42f6-a01a-14a0d4c384cb",
   "metadata": {},
   "outputs": [],
   "source": []
  },
  {
   "cell_type": "code",
   "execution_count": null,
   "id": "7b93c99c-f530-49fd-a1b6-beed462e5bc0",
   "metadata": {},
   "outputs": [],
   "source": []
  },
  {
   "cell_type": "code",
   "execution_count": null,
   "id": "ba80b946-92fa-4276-9840-0536055e5ff8",
   "metadata": {},
   "outputs": [],
   "source": []
  },
  {
   "cell_type": "code",
   "execution_count": null,
   "id": "4a43f1a9-83ed-4e51-b39e-cefb3ac929a2",
   "metadata": {},
   "outputs": [],
   "source": []
  },
  {
   "cell_type": "code",
   "execution_count": null,
   "id": "f5215108-2020-400e-b889-f56caf665b7b",
   "metadata": {},
   "outputs": [],
   "source": []
  },
  {
   "cell_type": "code",
   "execution_count": null,
   "id": "820cb091-0aa1-4a27-b0fe-1fb704574822",
   "metadata": {},
   "outputs": [],
   "source": []
  },
  {
   "cell_type": "code",
   "execution_count": null,
   "id": "2e6c7379-6994-4aad-aa70-725d60549765",
   "metadata": {},
   "outputs": [],
   "source": []
  },
  {
   "cell_type": "code",
   "execution_count": null,
   "id": "20bc302a-8845-44d6-a1a8-a7762ddd193b",
   "metadata": {},
   "outputs": [],
   "source": []
  },
  {
   "cell_type": "code",
   "execution_count": null,
   "id": "6d012ceb-cebe-4c2f-8d76-1721564980f6",
   "metadata": {},
   "outputs": [],
   "source": []
  },
  {
   "cell_type": "code",
   "execution_count": null,
   "id": "e6fe0ca1-8ee2-4e14-8ad2-5edeb83c9a4a",
   "metadata": {},
   "outputs": [],
   "source": []
  }
 ],
 "metadata": {
  "kernelspec": {
   "display_name": "Python 3 (ipykernel)",
   "language": "python",
   "name": "python3"
  },
  "language_info": {
   "codemirror_mode": {
    "name": "ipython",
    "version": 3
   },
   "file_extension": ".py",
   "mimetype": "text/x-python",
   "name": "python",
   "nbconvert_exporter": "python",
   "pygments_lexer": "ipython3",
   "version": "3.12.4"
  }
 },
 "nbformat": 4,
 "nbformat_minor": 5
}
