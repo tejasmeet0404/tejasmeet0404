{
 "cells": [
  {
   "cell_type": "markdown",
   "id": "8082d874-bba1-4df0-8abc-613a64bcc516",
   "metadata": {},
   "source": [
    "Step -by -step Guide: Python Data Cleaning (Example using Pandas )"
   ]
  },
  {
   "cell_type": "markdown",
   "id": "2cd0aac5-9de0-42b0-9bb1-79459dea2873",
   "metadata": {},
   "source": [
    "Lets assume youre working on the \" Customer Personality Analysis\" dataset from kaggle."
   ]
  },
  {
   "cell_type": "markdown",
   "id": "e402bbc4-8275-4f27-87f1-df290414014f",
   "metadata": {},
   "source": [
    "1.Load the Data"
   ]
  },
  {
   "cell_type": "raw",
   "id": "a4324ddf-c577-4429-8b12-483b34dac643",
   "metadata": {},
   "source": [
    "import pandas as pd\n",
    "df= pd.read_csv('Customer_Personality_Analysis.csv')"
   ]
  },
  {
   "cell_type": "markdown",
   "id": "d2e525c7-5323-49b5-84fa-ec62339f6e7e",
   "metadata": {},
   "source": [
    "2.Inspect the Data"
   ]
  },
  {
   "cell_type": "raw",
   "id": "590fb661-7c13-4028-a14d-5d09c2f208ca",
   "metadata": {},
   "source": [
    "df.info()\n",
    "df.head()\n",
    "df.describe()"
   ]
  },
  {
   "cell_type": "markdown",
   "id": "3b66ed89-a3fe-46de-b023-09eecf07fe04",
   "metadata": {},
   "source": [
    "3.Handle Missing Values"
   ]
  },
  {
   "cell_type": "raw",
   "id": "1b4fd1d9-92cf-489c-bf32-c428a41d3614",
   "metadata": {},
   "source": [
    "#Check missing values\n",
    "df.isnull().sum()\n",
    "#drop rows with many missing values \n",
    "df.dropna(thresh+5,inplace=True)\n",
    "#Fill missing values\n",
    "df['income'].fillna(df[df['Income'].median(),inplace=True)#or use mean ,mode as approprate\n"
   ]
  },
  {
   "cell_type": "markdown",
   "id": "2f4726d9-9e10-48f9-9401-0af1d3849f1a",
   "metadata": {},
   "source": [
    "Excel Alternative : Use filters to highlight blanks and use formulas (e.g.,=IF(ISBLANK(---)))to identify missing values . then fill or delete as required."
   ]
  },
  {
   "cell_type": "markdown",
   "id": "37426197-0244-4d89-aa64-ff9d9c7e49ca",
   "metadata": {},
   "source": [
    "4.Remove Duplicate Rows"
   ]
  },
  {
   "cell_type": "raw",
   "id": "4ae603eb-d5c0-4b98-9ec9-0abca1ae2a9a",
   "metadata": {},
   "source": [
    "df.droup_duplicates(inplace=True)"
   ]
  },
  {
   "cell_type": "markdown",
   "id": "37142dfd-332f-4e6a-adcd-96d5b26f6a2a",
   "metadata": {},
   "source": [
    "Excel Alternative:Use \"Remove Duplicates\"under the \"Data\"tab."
   ]
  },
  {
   "cell_type": "markdown",
   "id": "52dac9ce-e906-45a5-9744-7edd2a0b4fbf",
   "metadata": {},
   "source": [
    "5.Standardize Text Values"
   ]
  },
  {
   "cell_type": "raw",
   "id": "a92064f7-40aa-49da-baac-5cf0b3fb50dd",
   "metadata": {},
   "source": [
    "#Example: Standardize gender\n",
    "df ['Gender']=df['gender'].str.strip()'str.lower().replace({'f':'female','m':'male'})\n",
    "#Clean country names or other catgorical field\n",
    "df['country']=df['Country'].str.title().str.strip()"
   ]
  },
  {
   "cell_type": "markdown",
   "id": "48514eeb-1c63-4df0-8ff6-4da2cf3eb752",
   "metadata": {},
   "source": [
    "6.Convert and Standrdize data format"
   ]
  },
  {
   "cell_type": "raw",
   "id": "09d25e50-bd41-49b9-91f3-b939588f7dde",
   "metadata": {},
   "source": [
    "df['Dt_Customer'}=pd.to_datetime(df['dt_Customer'],dayfirst=True)"
   ]
  },
  {
   "cell_type": "markdown",
   "id": "3cc8ec3d-c4b9-488b-8ef8-7c8d173a8d2d",
   "metadata": {},
   "source": [
    "7.Rename Columns"
   ]
  },
  {
   "cell_type": "raw",
   "id": "7753c7a1-136d-4f52-be62-026fba3ccff5",
   "metadata": {},
   "source": [
    "df.columns=df.columns.str.lower().str.replace(' ' ,' _')"
   ]
  },
  {
   "cell_type": "markdown",
   "id": "4fdfbbb4-a98a-4458-b4d1-67d003467bf5",
   "metadata": {},
   "source": [
    "8.Fix Data Types"
   ]
  },
  {
   "cell_type": "raw",
   "id": "783dcf23-8eab-419f-90d8-c870659dac1e",
   "metadata": {},
   "source": [
    "df['age']=df['year_birth'].apply(lambda x:2025-x) #derive age df['age']=df['age'].astype(int)"
   ]
  },
  {
   "cell_type": "markdown",
   "id": "4fdac5e5-a41c-4ba5-a8f0-1df47c580038",
   "metadata": {},
   "source": [
    "Deliverables:cleaned Dataset+Summary"
   ]
  },
  {
   "cell_type": "markdown",
   "id": "f5f641fa-708a-4aef-bfc6-9e24a2ed5c70",
   "metadata": {},
   "source": [
    "After cleaning ,save the clean dataset:"
   ]
  },
  {
   "cell_type": "raw",
   "id": "b3dee869-c139-424d-aab2-7d791ad31aa1",
   "metadata": {},
   "source": [
    "df.to_csv('Cleaned_customer_Data.csv',Index=False)"
   ]
  },
  {
   "cell_type": "markdown",
   "id": "af0af99c-bf21-4864-8279-8bd211de95da",
   "metadata": {},
   "source": [
    "Sample Summary of Changes"
   ]
  },
  {
   "cell_type": "markdown",
   "id": "d418c544-df9f-4426-bd37-e702e35d3121",
   "metadata": {},
   "source": [
    "1.\"dropped 10 rows with excessive missing values.\"\n",
    "2.\"Filled missing Income values with the median income.\"\n",
    "3.\"Removed 4 duplicate records .\"\n",
    "4.\"Standardized gender values to \"male\"and \"female\".\"\n",
    "5.\"converted Dt_Customer to datetime format(dd-mm-yyyy).\"\n",
    "6.\"Renamed all column headers to lowercase with underscores.\"\n",
    "7. \"Calculated and fixed the age column from year_birth.\"\n",
    "\n"
   ]
  },
  {
   "cell_type": "code",
   "execution_count": null,
   "id": "b3979989-2562-4ed7-ac72-4249b2ecf2a5",
   "metadata": {},
   "outputs": [],
   "source": []
  },
  {
   "cell_type": "markdown",
   "id": "123a20b4-8c3c-48ae-bb62-a51ae36ca3f2",
   "metadata": {},
   "source": [
    "Interview Questions & Suggested Answers"
   ]
  },
  {
   "cell_type": "markdown",
   "id": "471080b9-ed83-464f-b17a-673e73abdfd6",
   "metadata": {},
   "source": [
    "1.What are missing values and how do you handle them?"
   ]
  },
  {
   "cell_type": "markdown",
   "id": "45ea2b28-25e1-4e48-a6ae-8d44f6d83795",
   "metadata": {},
   "source": [
    "Missing values are empty or null entries in the dataset . They can be handled by:"
   ]
  },
  {
   "cell_type": "markdown",
   "id": "b645cc8c-6bae-48e6-82f2-20d588f891e0",
   "metadata": {},
   "source": [
    "1.Deleting nrows /columns (droups)\n",
    "2.Inputing values using mean , median , mode (fillna)\n",
    "3.Adanced methods like interploation or models-basede imputation\n"
   ]
  },
  {
   "cell_type": "markdown",
   "id": "6c5d89c4-49f8-4875-b6cc-62f6a6b1b64e",
   "metadata": {},
   "source": [
    "2.How do you trat duplicate recoreds ?\n"
   ]
  },
  {
   "cell_type": "markdown",
   "id": "4f8892d0-fd6e-46a8-a645-cf073cd4d4a3",
   "metadata": {},
   "source": [
    "By using drop_duplicate()in Pandas to remove repeated rows.In Excel,use \"Remove Duplicates\"."
   ]
  },
  {
   "cell_type": "markdown",
   "id": "25afe728-77ac-48a8-b5ec-79739517b7ca",
   "metadata": {},
   "source": [
    "3.Difference between dropna() and fillna()?"
   ]
  },
  {
   "cell_type": "markdown",
   "id": "d609b7b4-e1b0-434c-b923-db881da86af8",
   "metadata": {},
   "source": [
    "dropna()removes rows or columns with missing values.\n",
    "fillna()fills missing values with a specified value or method."
   ]
  },
  {
   "cell_type": "markdown",
   "id": "9fde3e95-dc3b-4d81-bbe7-5b3be0a3df6d",
   "metadata": {},
   "source": [
    "4.What is outlier treatment and why is it important ?\n"
   ]
  },
  {
   "cell_type": "markdown",
   "id": "b474982d-3b89-4f5a-9a24-c257f26d6810",
   "metadata": {},
   "source": [
    "Outlier treatment involves making data consistent in format and structure (e.g.,data format , text casing , units ).It includes renaming , text normalization , and converting data types."
   ]
  },
  {
   "cell_type": "markdown",
   "id": "fcbdfda0-c57a-4796-93fd-982130a14842",
   "metadata": {},
   "source": [
    "5.Explain the process of standaerdizing data.?"
   ]
  },
  {
   "cell_type": "markdown",
   "id": "2b587e59-b14b-4b04-8201-88ece3b943d6",
   "metadata": {},
   "source": [
    "Standardization involves making data consistent in format and structure (e.g.,date format , text casing, units).It includes renaming , text normalization , and converting data types."
   ]
  },
  {
   "cell_type": "markdown",
   "id": "dc0f312f-9942-4673-8e20-e8972d01a438",
   "metadata": {},
   "source": [
    "6.How do you handle inconsistant data formats(e.g.,date/time)?"
   ]
  },
  {
   "cell_type": "markdown",
   "id": "e13821ea-a417-4846-b2f8-5e85dbacbc05",
   "metadata": {},
   "source": [
    "convert all values to standard format using parsing fuction like pd.to _datetime()_in pandas or TEXT functions in Excel."
   ]
  },
  {
   "cell_type": "markdown",
   "id": "f65e9f70-bc7e-45c1-99c2-536f6296ada1",
   "metadata": {},
   "source": [
    "7.What are common data cleaning challenges?"
   ]
  },
  {
   "cell_type": "markdown",
   "id": "eb594a05-e3b3-4d49-a346-6f61d768a3ec",
   "metadata": {},
   "source": [
    "1.missing or inconsistent data\n",
    "2.Ambiguous data labels \n",
    "3.Mixed data types \n",
    "4.Typos or misspellings\n",
    "5.Hidden characters or formatting"
   ]
  },
  {
   "cell_type": "markdown",
   "id": "422c0453-ceaf-4c23-945c-443b877bde39",
   "metadata": {},
   "source": [
    "8.How can you check data quality?"
   ]
  },
  {
   "cell_type": "markdown",
   "id": "1d371e37-8972-415d-b3fc-60149cb54c3c",
   "metadata": {},
   "source": [
    "1.Use .info()and.describe()to inspect data\n",
    "2.Check for missing or duplicate values \n",
    "3.Validate ranges and uniqueness\n",
    "4.Use visualizations (boxplots,histograms)to detect anomalies"
   ]
  },
  {
   "cell_type": "code",
   "execution_count": null,
   "id": "49a51b2e-1ded-4b07-b6ce-9d1cb1d14cc4",
   "metadata": {},
   "outputs": [],
   "source": []
  }
 ],
 "metadata": {
  "kernelspec": {
   "display_name": "Python [conda env:anaconda3]",
   "language": "python",
   "name": "conda-env-anaconda3-py"
  },
  "language_info": {
   "codemirror_mode": {
    "name": "ipython",
    "version": 3
   },
   "file_extension": ".py",
   "mimetype": "text/x-python",
   "name": "python",
   "nbconvert_exporter": "python",
   "pygments_lexer": "ipython3",
   "version": "3.12.7"
  }
 },
 "nbformat": 4,
 "nbformat_minor": 5
}
