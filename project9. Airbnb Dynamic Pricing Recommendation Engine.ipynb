{
 "cells": [
  {
   "cell_type": "markdown",
   "id": "60a183a4-6c5d-4b30-9ee3-dcc60c6ce451",
   "metadata": {},
   "source": [
    "9. Airbnb Dynamic Pricing Recommendation Engine\n"
   ]
  },
  {
   "cell_type": "markdown",
   "id": "61cfc44e-b27b-4987-b932-bcea0709e7b3",
   "metadata": {},
   "source": [
    "Objective\n",
    "\n",
    "The goal of this project is to develop a dynamic pricing recommendation engine for Airbnb listings. Using historical Airbnb data, we aim to suggest optimal pricing based on key factors such as location, seasonality, and listing quality. The output includes a Python-based pricing engine, an interactive Tableau dashboard, and a final summary report."
   ]
  },
  {
   "cell_type": "markdown",
   "id": "46be29e7-9320-4f0f-9b9d-333c8b0005b9",
   "metadata": {},
   "source": [
    "Tools Used\n",
    "Python: Data cleaning, exploration, regression modeling\n",
    "\n",
    "Tableau: Dashboard creation with interactive filters\n",
    "\n",
    "Excel: Initial data validation and formatting"
   ]
  },
  {
   "cell_type": "markdown",
   "id": "3e94c3b3-ad22-4355-a00b-5702b16a93c3",
   "metadata": {},
   "source": [
    "Step-by-Step Process\n",
    "\n",
    "1. Data Collection & Cleaning (Python, Excel)\n",
    "Dataset: Historical Airbnb listings including fields like price, location, property_type, number_of_reviews, review_scores, availability, and season.\n",
    "\n",
    "Cleaned missing values, removed outliers (e.g., luxury properties skewing average prices).\n",
    "\n",
    "Converted price values to numerical format and normalized categorical variables."
   ]
  },
  {
   "cell_type": "markdown",
   "id": "494d7dc7-e28a-4497-858d-8996fdd18f31",
   "metadata": {},
   "source": [
    "2. Exploratory Data Analysis\n",
    "By City: Identified pricing trends for cities like New York, San Francisco, Austin, etc.\n",
    "\n",
    "By Property Type: Noted that Entire homes command higher prices than private/shared rooms.\n",
    "\n",
    "By Reviews: Listings with more positive reviews tended to have slightly higher prices.\n",
    "\n",
    "Key Insight: Location and property type were stronger predictors of price than review scores alone."
   ]
  },
  {
   "cell_type": "markdown",
   "id": "a8c2f16f-a6a1-439e-a7fa-d786438d516f",
   "metadata": {},
   "source": [
    "3. Regression Modeling (Python)\n",
    "\n",
    "Model Used: Multiple Linear Regression\n",
    "\n",
    "Target Variable: price\n",
    "\n",
    "Predictor Variables:\n",
    "\n",
    "city\n",
    "\n",
    "property_type\n",
    "\n",
    "number_of_reviews\n",
    "\n",
    "review_scores_rating\n",
    "\n",
    "availability_365\n",
    "\n",
    "month (seasonality proxy)"
   ]
  },
  {
   "cell_type": "markdown",
   "id": "33b9935b-56b6-4aab-9fdd-d5ea6a170ef8",
   "metadata": {},
   "source": [
    "Model Performance:\n",
    "\n",
    "R² Score: ~0.71\n",
    "\n",
    "MAE: ~$15\n",
    "\n",
    "Most significant predictors: city, property_type, and seasonality\n",
    "\n",
    "Sample Python Code Snippet:\n",
    "\n",
    "python\n",
    "Copy\n",
    "Edit\n"
   ]
  },
  {
   "cell_type": "raw",
   "id": "8f0692df-60dc-4430-94bc-5de3c3c28a9f",
   "metadata": {},
   "source": [
    "from sklearn.linear_model import LinearRegression\n",
    "from sklearn.model_selection import train_test_split\n",
    "from sklearn.metrics import mean_absolute_error, r2_score\n",
    "\n",
    "X = df[['city', 'property_type', 'number_of_reviews', 'review_scores_rating', 'availability_365', 'month']]\n",
    "y = df['price']\n",
    "\n",
    "X = pd.get_dummies(X, drop_first=True)  # Handle categoricals\n",
    "X_train, X_test, y_train, y_test = train_test_split(X, y, test_size=0.2)\n",
    "\n",
    "model = LinearRegression()\n",
    "model.fit(X_train, y_train)\n",
    "\n",
    "y_pred = model.predict(X_test)\n",
    "print(\"R² Score:\", r2_score(y_test, y_pred))\n",
    "print(\"MAE:\", mean_absolute_error(y_test, y_pred))\n"
   ]
  },
  {
   "cell_type": "markdown",
   "id": "efcaf917-43e1-43f1-90d0-c1b6a10045e0",
   "metadata": {},
   "source": [
    "4. Tableau Dashboard\n",
    "Features:\n",
    "\n",
    "Interactive filters: City, Property Type, Review Score, Season\n",
    "\n",
    "Price range slider: Suggests dynamic pricing based on selected filters\n",
    "\n",
    "Visuals:\n",
    "\n",
    "Price heatmap by city\n",
    "\n",
    "Seasonal price trends\n",
    "\n",
    "Review score vs. price scatter plot\n",
    "\n",
    "![Insert screenshot placeholder]"
   ]
  },
  {
   "cell_type": "markdown",
   "id": "693720be-6304-409d-81c4-e106a371fa27",
   "metadata": {},
   "source": [
    "5. Final Recommendations\n",
    "Dynamic Pricing Strategy:\n",
    "\n",
    "Higher prices in peak tourist months (summer, holidays)\n",
    "\n",
    "Premium pricing for entire properties in downtown areas\n",
    "\n",
    "Consider lowering prices slightly for new listings with no reviews to attract bookings\n",
    "\n",
    "Host Dashboard Use Case:\n",
    "Hosts can input their listing attributes and receive a real-time suggested nightly price based on historical data and seasonal trends.\n",
    "\n"
   ]
  },
  {
   "cell_type": "markdown",
   "id": "175fc358-6d0f-4e22-82e4-d9653aea7db9",
   "metadata": {},
   "source": [
    "Deliverables\n",
    "✅ Python Script: Airbnb_Pricing_Model.py\n",
    "✅ Tableau Dashboard: Airbnb_Dynamic_Pricing.twbx\n",
    "✅ Final Report PDF: Airbnb_Pricing_Recommendation_Report.pdf"
   ]
  },
  {
   "cell_type": "markdown",
   "id": "4969e72b-6177-4f41-b820-f990d967fb7e",
   "metadata": {},
   "source": [
    "Next Steps\n",
    "Integrate pricing engine into a web interface using Flask or Streamlit\n",
    "\n",
    "Enhance model using Random Forest or XGBoost for better non-linear handling\n",
    "\n",
    "Add demand forecasting based on booking data"
   ]
  },
  {
   "cell_type": "markdown",
   "id": "d3b2344f-a790-4556-b09a-cd2cfd3af9ac",
   "metadata": {},
   "source": [
    "et me know if you want:\n",
    "\n",
    "The actual Python script\n",
    "\n",
    "A Tableau dashboard template\n",
    "\n",
    "The PDF version of this report"
   ]
  },
  {
   "cell_type": "code",
   "execution_count": null,
   "id": "1d4c6070-1ee4-4b12-8278-d63d90056ad0",
   "metadata": {},
   "outputs": [],
   "source": []
  },
  {
   "cell_type": "code",
   "execution_count": null,
   "id": "176f0cdf-5fd7-4cfe-b248-078837c80ca5",
   "metadata": {},
   "outputs": [],
   "source": []
  },
  {
   "cell_type": "code",
   "execution_count": null,
   "id": "afe13bd0-f99f-4107-b28f-20e036de1939",
   "metadata": {},
   "outputs": [],
   "source": []
  },
  {
   "cell_type": "code",
   "execution_count": null,
   "id": "efc6c9c6-cca5-4bbb-876d-e0149bc5b02c",
   "metadata": {},
   "outputs": [],
   "source": []
  },
  {
   "cell_type": "code",
   "execution_count": null,
   "id": "683fa1c4-5298-4b5b-977a-73e30914ce5e",
   "metadata": {},
   "outputs": [],
   "source": []
  },
  {
   "cell_type": "code",
   "execution_count": null,
   "id": "ed9ba0de-0e95-49f0-ae7c-9cc0c77fec10",
   "metadata": {},
   "outputs": [],
   "source": []
  },
  {
   "cell_type": "code",
   "execution_count": null,
   "id": "0c1d4463-10fe-48c0-b982-726bf81225a8",
   "metadata": {},
   "outputs": [],
   "source": []
  },
  {
   "cell_type": "code",
   "execution_count": null,
   "id": "c72bf8ce-419e-4854-a997-f37bfcd9a684",
   "metadata": {},
   "outputs": [],
   "source": []
  },
  {
   "cell_type": "code",
   "execution_count": null,
   "id": "c2a6357d-984f-416c-b588-6f431fb270b9",
   "metadata": {},
   "outputs": [],
   "source": []
  },
  {
   "cell_type": "code",
   "execution_count": null,
   "id": "7e7008f3-a71a-4ea2-b097-760e97f8522d",
   "metadata": {},
   "outputs": [],
   "source": []
  },
  {
   "cell_type": "code",
   "execution_count": null,
   "id": "540a20bf-cfc2-4475-8c1e-40f40fa8b837",
   "metadata": {},
   "outputs": [],
   "source": []
  },
  {
   "cell_type": "code",
   "execution_count": null,
   "id": "c4c82a78-31ae-418e-ba62-323e1165ab36",
   "metadata": {},
   "outputs": [],
   "source": []
  }
 ],
 "metadata": {
  "kernelspec": {
   "display_name": "Python [conda env:anaconda3]",
   "language": "python",
   "name": "conda-env-anaconda3-py"
  },
  "language_info": {
   "codemirror_mode": {
    "name": "ipython",
    "version": 3
   },
   "file_extension": ".py",
   "mimetype": "text/x-python",
   "name": "python",
   "nbconvert_exporter": "python",
   "pygments_lexer": "ipython3",
   "version": "3.12.7"
  }
 },
 "nbformat": 4,
 "nbformat_minor": 5
}
