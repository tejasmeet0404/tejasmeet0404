{
 "cells": [
  {
   "cell_type": "markdown",
   "id": "4435915c-a9a1-4ef8-bb04-737aec2f3069",
   "metadata": {},
   "source": [
    "TASK 6: Sales Trend Analysis Using Aggregations                                                                                                     \n"
   ]
  },
  {
   "cell_type": "markdown",
   "id": "10851438-3c1d-43a5-89f8-dd47ce642b68",
   "metadata": {},
   "source": [
    "Objective: Analyze monthly revenue and order volume.\n",
    " Tools: PostgreSQL / MySQL / SQLite\n",
    " Deliverables: SQL script + results table                                                                                                                           \n",
    "Hints/Mini Guide:\n",
    " a.Use EXTRACT(MONTH FROM order_date) for month. \n",
    "\n",
    " b.GROUP BY year/month.\n",
    "\n",
    " c.Use SUM() for revenue.\n",
    "            \n",
    " d.COUNT(DISTINCT order_id) for volume. \n",
    "            \n",
    " e.Use ORDER BY for sorting. \n",
    "\n",
    "f. Limit results for specific time periods. \n",
    "  Dataset: online_sales (orders table with order_date, amount, product_id \n",
    "Outcome:Learn how to group data and analyze time trends.                                                           "
   ]
  },
  {
   "cell_type": "markdown",
   "id": "76863a03-728d-45ec-bebf-6e8bcd37d834",
   "metadata": {},
   "source": [
    "SQL Script :Monthly Revenue & Order Volume Analysis"
   ]
  },
  {
   "cell_type": "markdown",
   "id": "dec211f0-009e-4014-aede-e9149b364e38",
   "metadata": {},
   "source": [
    "\n",
    "Assuming the table is named online_sales and includes the fields:\n",
    "\n",
    "order_date (DATE)\n",
    "\n",
    "amount (numeric/decimal)\n",
    "\n",
    "order_id (unique order identifier)\n",
    "\n",
    "product_id (not used in this analysis)\n"
   ]
  },
  {
   "cell_type": "markdown",
   "id": "34785928-1bca-4b12-b3d1-b5c14f2b4d9e",
   "metadata": {},
   "source": [
    "SQL Query:"
   ]
  },
  {
   "cell_type": "raw",
   "id": "eb7ce970-3f23-433d-bc9e-aea1d9577176",
   "metadata": {},
   "source": [
    "-- Monthly Revenue and Order Volume\n",
    "SELECT \n",
    "    EXTRACT(YEAR FROM order_date) AS order_year,\n",
    "    EXTRACT(MONTH FROM order_date) AS order_month,\n",
    "    SUM(amount) AS monthly_revenue,\n",
    "    COUNT(DISTINCT order_id) AS monthly_order_volume\n",
    "FROM \n",
    "    online_sales\n",
    "WHERE \n",
    "    order_date BETWEEN '2023-01-01' AND '2023-12-31'  -- Filter as needed\n",
    "GROUP BY \n",
    "    EXTRACT(YEAR FROM order_date),\n",
    "    EXTRACT(MONTH FROM order_date)\n",
    "ORDER BY \n",
    "    order_year, \n",
    "    order_month;\n"
   ]
  },
  {
   "cell_type": "markdown",
   "id": "003d2add-d0d5-43d4-82e8-fd246da50ea9",
   "metadata": {},
   "source": [
    " Example Results Table:"
   ]
  },
  {
   "cell_type": "raw",
   "id": "ce275ae0-d27c-4432-985a-6d1584aef826",
   "metadata": {},
   "source": [
    "order_year\t     order_month         \tmonthly_revenue   \tmonthly_order_volume\n",
    "2023\t\t          1                  10500.00\t               135\n",
    "2023\t\t          2                  9800.50\t               128\n",
    "2023\t\t          3                  12340.75\t               142\n",
    "\n"
   ]
  },
  {
   "cell_type": "markdown",
   "id": "b02edb67-9488-4c6e-aaa9-b0387ee16356",
   "metadata": {},
   "source": [
    "Interview  Question & Answers"
   ]
  },
  {
   "cell_type": "markdown",
   "id": "68cba0a2-605c-4713-a6a5-440cef24cd0b",
   "metadata": {},
   "source": [
    "1.How do you group  data by month and year ?"
   ]
  },
  {
   "cell_type": "markdown",
   "id": "bb46debc-48c2-4404-874d-12070a3861d1",
   "metadata": {},
   "source": [
    "Ans:EXTRACT(YEAR FROM date) and EXTRACT (MONTH FROM date) together in GROUP"
   ]
  },
  {
   "cell_type": "raw",
   "id": "2b5ee4bf-3ce3-4e5c-9488-93e8a00fdc2e",
   "metadata": {},
   "source": [
    "GROUP BY EXTRACT(YEAR FROM order_date), EXTRACT(MONTH FROM order_date)\n"
   ]
  },
  {
   "cell_type": "markdown",
   "id": "b464d091-c0b9-4e4d-8f79-969fbd6b9ee8",
   "metadata": {},
   "source": [
    "2.What's the difference between COUNT(*) and COUNT(DISTINCT col)?"
   ]
  },
  {
   "cell_type": "markdown",
   "id": "8b8b3bac-6462-422f-80b9-838fc5ddcb40",
   "metadata": {},
   "source": [
    "COUNT(*): Counts all rows including duplicates and NULLs.\n",
    "\n",
    "COUNT(DISTINCT col): Counts only unique, non-NULL values in the specified column."
   ]
  },
  {
   "cell_type": "markdown",
   "id": "c9d95216-3083-486f-acb0-c038a8223a82",
   "metadata": {},
   "source": [
    "3. How do you calculate monthly revenue?\n",
    "\n",
    "By summing the amount field for each month:"
   ]
  },
  {
   "cell_type": "raw",
   "id": "b94eaae2-56a4-4705-b0b4-6a1390b515d4",
   "metadata": {},
   "source": [
    "SUM(amount)\n"
   ]
  },
  {
   "cell_type": "markdown",
   "id": "f4041231-a523-4b2d-a0f5-ffa2cd5f1bb1",
   "metadata": {},
   "source": [
    "4. What are aggregate functions in SQL?"
   ]
  },
  {
   "cell_type": "raw",
   "id": "0c9c6473-65eb-42ce-8ae3-60f5b51f449a",
   "metadata": {},
   "source": [
    "Aggregate functions operate on a set of values to return a single value:\n",
    "\n",
    "SUM(), COUNT(), AVG(), MAX(), MIN()"
   ]
  },
  {
   "cell_type": "markdown",
   "id": "768d6192-258e-47c6-8c50-b4fdca651325",
   "metadata": {},
   "source": [
    "5. How to handle NULLs in aggregates?"
   ]
  },
  {
   "cell_type": "markdown",
   "id": "cab301dd-cd1b-4eff-bc08-d510fd5b46f2",
   "metadata": {},
   "source": [
    "Aggregates like SUM() and AVG() ignore NULLs.\n",
    "\n",
    "To explicitly handle them, use COALESCE(column, 0) to treat NULL as zero:"
   ]
  },
  {
   "cell_type": "raw",
   "id": "291ed4bd-3619-435b-9672-8dc51757f8d1",
   "metadata": {},
   "source": [
    "SUM(COALESCE(amount, 0))\n"
   ]
  },
  {
   "cell_type": "markdown",
   "id": "4def72ad-053e-41a1-8d76-525a96b8b40d",
   "metadata": {},
   "source": [
    "6. What’s the role of ORDER BY and GROUP BY?"
   ]
  },
  {
   "cell_type": "markdown",
   "id": "f4ab1200-dd33-4fcc-9347-d0423163a4e3",
   "metadata": {},
   "source": [
    "GROUP BY: Groups rows that share the same values into summary rows.\n",
    "\n",
    "ORDER BY: Sorts the final output (e.g., by month or revenue)."
   ]
  },
  {
   "cell_type": "markdown",
   "id": "30ae937a-773d-4fc2-b8c7-3a686a168b72",
   "metadata": {},
   "source": [
    "7. How do you get the top 3 months by sales?"
   ]
  },
  {
   "cell_type": "raw",
   "id": "3f54870e-fbe4-4bab-9b8f-7ff46a001f64",
   "metadata": {},
   "source": [
    "SELECT \n",
    "    EXTRACT(YEAR FROM order_date) AS order_year,\n",
    "    EXTRACT(MONTH FROM order_date) AS order_month,\n",
    "    SUM(amount) AS monthly_revenue\n",
    "FROM \n",
    "    online_sales\n",
    "GROUP BY \n",
    "    EXTRACT(YEAR FROM order_date), EXTRACT(MONTH FROM order_date)\n",
    "ORDER BY \n",
    "    monthly_revenue DESC\n",
    "LIMIT 3;\n"
   ]
  }
 ],
 "metadata": {
  "kernelspec": {
   "display_name": "Python [conda env:anaconda3]",
   "language": "python",
   "name": "conda-env-anaconda3-py"
  },
  "language_info": {
   "codemirror_mode": {
    "name": "ipython",
    "version": 3
   },
   "file_extension": ".py",
   "mimetype": "text/x-python",
   "name": "python",
   "nbconvert_exporter": "python",
   "pygments_lexer": "ipython3",
   "version": "3.12.7"
  }
 },
 "nbformat": 4,
 "nbformat_minor": 5
}
