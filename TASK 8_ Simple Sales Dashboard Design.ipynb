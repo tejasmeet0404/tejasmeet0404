{
 "cells": [
  {
   "cell_type": "markdown",
   "id": "32502404-e96b-4b96-81cd-1fafa88a8329",
   "metadata": {},
   "source": [
    "TASK 8: Simple Sales Dashboard Design"
   ]
  },
  {
   "cell_type": "markdown",
   "id": "c8c562aa-c2f0-4769-b6a8-b69684bd06da",
   "metadata": {},
   "source": [
    "Objective:\n",
    "\n",
    " Create a basic interactive dashboard that shows sales performance by product, region, and month"
   ]
  },
  {
   "cell_type": "markdown",
   "id": "31f91f70-e705-4fa1-b0ab-cb95deba0119",
   "metadata": {},
   "source": [
    "Tools:\n",
    " Power BI or Tableau (choose one)\n",
    " (Optional: Python + Pandas for cleaning)\n",
    "\n",
    " Dataset:\n",
    " Superstore_Sales.csv (Columns: Order Date, Region, Category, Sales, Profit)/ ANY DATA SET\n",
    " \n",
    " Deliverables:\n",
    " 1 screenshot or PDF export of the dashboard\n",
    " 3–4 insights written in a text file or slide"
   ]
  },
  {
   "cell_type": "markdown",
   "id": "68edf520-9520-4d5e-b265-502e77830c6f",
   "metadata": {},
   "source": [
    "Step-by-Step Guide in Power BI:"
   ]
  },
  {
   "cell_type": "markdown",
   "id": "f6085331-34ee-4903-8a06-89bf73b484e7",
   "metadata": {},
   "source": [
    "1. Import Data\n",
    "\n",
    "Open Power BI Desktop\n",
    "\n",
    "Click Home > Get Data > Text/CSV\n",
    "\n",
    "Select Superstore_Sales.csv\n",
    "\n",
    "Load the dataset into Power BI"
   ]
  },
  {
   "cell_type": "markdown",
   "id": "916c01c4-a583-4259-b27f-7520f68549a7",
   "metadata": {},
   "source": [
    "2. Convert Order Date to \"Month-Year\""
   ]
  },
  {
   "cell_type": "raw",
   "id": "52d33004-88c8-42f9-8d8d-1b8cff81baa7",
   "metadata": {},
   "source": [
    "MonthYear = FORMAT('TableName'[Order Date], \"MMM-YYYY\")\n"
   ]
  },
  {
   "cell_type": "raw",
   "id": "0875c626-8aad-4e56-8092-02ce53f4bc75",
   "metadata": {},
   "source": [
    "3. Create Visuals\n",
    " Line Chart: Sales Over Months\n",
    "Axis: MonthYear\n",
    "\n",
    "Values: Sales\n",
    "\n",
    "Sort by: Order Date for chronological display\n",
    "\n",
    " Bar Chart: Sales by Region\n",
    "Axis: Region\n",
    "\n",
    "Values: Sales\n",
    "\n",
    "Color-code top regions   \n",
    "\n",
    "\n",
    "Donut Chart: Sales by Category\n",
    "Legend: Category\n",
    "\n",
    "Values: Sales"
   ]
  },
  {
   "cell_type": "markdown",
   "id": "72cf2cc6-bd19-4170-be9d-4871a3da6499",
   "metadata": {},
   "source": [
    "4. Add Slicer"
   ]
  },
  {
   "cell_type": "markdown",
   "id": "221509e2-f48a-4af4-ba53-0157c1a95726",
   "metadata": {},
   "source": [
    "Insert a slicer visual\n",
    "\n",
    "Field: Region or Category"
   ]
  },
  {
   "cell_type": "markdown",
   "id": "3bd13944-820b-4bf2-be60-5ab1fb1e6853",
   "metadata": {},
   "source": [
    "5. Use Colors to Highlight Top Areas\n",
    "\n",
    "Use conditional formatting or manual color selection\n",
    "\n",
    "Highlight the highest performing Region/Category in different shades"
   ]
  },
  {
   "cell_type": "markdown",
   "id": "14ed8199-a399-4079-aae2-b0a07a81aa56",
   "metadata": {},
   "source": [
    "Deliverables:"
   ]
  },
  {
   "cell_type": "markdown",
   "id": "86bef8f4-f817-4e82-8945-6c3e5b2876bf",
   "metadata": {},
   "source": [
    "1. Dashboard Export\n",
    "\n",
    "Once your dashboard is done:\n",
    "\n",
    "Click File > Export > PDF\n",
    "\n",
    "Or take a screenshot of your dashboard"
   ]
  },
  {
   "cell_type": "markdown",
   "id": "3b0e9257-d60c-42a4-b507-aeb729a897ad",
   "metadata": {},
   "source": [
    "2. 3–4 Insights (Save in a Text File or Slide)\n",
    "   \n",
    "Example insights:"
   ]
  },
  {
   "cell_type": "raw",
   "id": "3c830867-7951-4ec0-b4c4-41877e7e22a4",
   "metadata": {},
   "source": [
    "1. The West region consistently had the highest sales from June to October.\n",
    "2. Technology category generated the most revenue, especially in Q3.\n",
    "3. Sales peaked in December, likely due to year-end promotions.\n",
    "4. The Central region had the lowest performance in profit margin despite decent sales.\n"
   ]
  },
  {
   "cell_type": "markdown",
   "id": "45b38f45-aff3-4d83-9f0b-d91a236978e2",
   "metadata": {},
   "source": [
    " Interview Questions & Sample Answers:"
   ]
  },
  {
   "cell_type": "markdown",
   "id": "8e13ac98-1445-4c3b-8b42-6f16aa31534e",
   "metadata": {},
   "source": [
    "1.What does a dashboard do?"
   ]
  },
  {
   "cell_type": "markdown",
   "id": "82325bdd-cca6-4b62-a8ab-bedd2f339a4f",
   "metadata": {},
   "source": [
    "Ans: A dashboard visualizes key metrics and trends in data , allowing users to quickly understand performance and make decisions."
   ]
  },
  {
   "cell_type": "markdown",
   "id": "ddbd476a-5a7b-4f44-9eff-21d5db359bc1",
   "metadata": {},
   "source": [
    "2.How do you choose the right chart ?"
   ]
  },
  {
   "cell_type": "markdown",
   "id": "c4fa5d06-806b-4529-93e7-df79d31bc183",
   "metadata": {},
   "source": [
    "Ans: Based on what you want to show:\n",
    "\n",
    "  Trends over time → Line chart\n",
    "\n",
    " Comparison between categories → Bar/Column chart\n",
    "\n",
    " Proportions → Donut or Pie chart\n",
    "\n",
    "\n",
    "\n"
   ]
  },
  {
   "cell_type": "markdown",
   "id": "e1993ff1-df3b-4b79-96d9-48acdbadc177",
   "metadata": {},
   "source": [
    "3.What is a slicer/filter?"
   ]
  },
  {
   "cell_type": "markdown",
   "id": "f46d0c1d-07ab-4089-93c1-06e6ac64d019",
   "metadata": {},
   "source": [
    "Ans:A slicer is a visual filter that lets users interactively narrow down data shown in charts (e.g., by Region or Category).\n",
    "\n"
   ]
  },
  {
   "cell_type": "markdown",
   "id": "577eebf2-8e32-4308-a31f-ec392d4c7104",
   "metadata": {},
   "source": [
    "4.Why do we use KPIs?"
   ]
  },
  {
   "cell_type": "markdown",
   "id": "9d791887-a694-4ff7-a3af-ab68a513757f",
   "metadata": {},
   "source": [
    "Ans: KPIs (key Performance Indicators) help track and evaluate the success of specific goals such as sales targets or profit margins."
   ]
  },
  {
   "cell_type": "markdown",
   "id": "067eb9fb-866b-42c4-9cee-711c3701dddd",
   "metadata": {},
   "source": [
    "5.What did your dashboard show about sales?"
   ]
  },
  {
   "cell_type": "markdown",
   "id": "d55bc832-6c9c-43e9-8f01-dab0e221db0b",
   "metadata": {},
   "source": [
    "Ans:It revealed that the West region and Technology category led in sales, with seasonal peaks toward the end of the year."
   ]
  },
  {
   "cell_type": "markdown",
   "id": "314795da-7e72-495d-b5b8-21c3c689bf8c",
   "metadata": {},
   "source": [
    "6.How do you make a dashboard look clean?"
   ]
  },
  {
   "cell_type": "markdown",
   "id": "b45a6b84-c36a-43e8-983c-46f6b42172e1",
   "metadata": {},
   "source": [
    "Ans:Use consistent colors , minimal text, logical chart layout ,and clear labels.Avoid clutter and maintain whitespace balance."
   ]
  },
  {
   "cell_type": "markdown",
   "id": "78d1eb82-1edf-41c2-8b1e-cdde1473eba8",
   "metadata": {},
   "source": [
    "7.Did you clean the data before starting ?"
   ]
  },
  {
   "cell_type": "markdown",
   "id": "6babdcbe-7aef-4d39-bacd-98bfd8fb8a7b",
   "metadata": {},
   "source": [
    "Yes ,I checked for null values, ensured date formatting, and created a Month-Year column for time- based visuals."
   ]
  },
  {
   "cell_type": "code",
   "execution_count": null,
   "id": "8bbdb1dd-0327-44a1-ba43-69743a7868c9",
   "metadata": {},
   "outputs": [],
   "source": []
  },
  {
   "cell_type": "code",
   "execution_count": null,
   "id": "77b36056-bf33-4f25-9de8-efc8c3a0165f",
   "metadata": {},
   "outputs": [],
   "source": []
  },
  {
   "cell_type": "code",
   "execution_count": null,
   "id": "9611638c-a184-4099-96e4-0dede622f170",
   "metadata": {},
   "outputs": [],
   "source": []
  },
  {
   "cell_type": "code",
   "execution_count": null,
   "id": "dedeaacd-e67f-494e-a125-2370ca681a6d",
   "metadata": {},
   "outputs": [],
   "source": []
  },
  {
   "cell_type": "code",
   "execution_count": null,
   "id": "947dfcd6-3b67-4b13-872c-e7bd202d938b",
   "metadata": {},
   "outputs": [],
   "source": []
  },
  {
   "cell_type": "code",
   "execution_count": null,
   "id": "b28b8b2b-00dd-41a7-a454-8fd84f217d96",
   "metadata": {},
   "outputs": [],
   "source": []
  },
  {
   "cell_type": "code",
   "execution_count": null,
   "id": "f2a760be-a034-49e6-93b0-a98b2afae1a3",
   "metadata": {},
   "outputs": [],
   "source": []
  },
  {
   "cell_type": "code",
   "execution_count": null,
   "id": "9d4af0ea-0732-4d94-9254-dd870cdb9596",
   "metadata": {},
   "outputs": [],
   "source": []
  },
  {
   "cell_type": "code",
   "execution_count": null,
   "id": "d15f45b9-7a4e-48ec-bf8f-722d018a63c1",
   "metadata": {},
   "outputs": [],
   "source": []
  },
  {
   "cell_type": "code",
   "execution_count": null,
   "id": "6fce588c-a352-48db-b94e-055a496b9e1d",
   "metadata": {},
   "outputs": [],
   "source": []
  },
  {
   "cell_type": "code",
   "execution_count": null,
   "id": "44f566c2-bad4-41e5-931e-e7df7ef9f98f",
   "metadata": {},
   "outputs": [],
   "source": []
  }
 ],
 "metadata": {
  "kernelspec": {
   "display_name": "Python [conda env:anaconda3]",
   "language": "python",
   "name": "conda-env-anaconda3-py"
  },
  "language_info": {
   "codemirror_mode": {
    "name": "ipython",
    "version": 3
   },
   "file_extension": ".py",
   "mimetype": "text/x-python",
   "name": "python",
   "nbconvert_exporter": "python",
   "pygments_lexer": "ipython3",
   "version": "3.12.7"
  }
 },
 "nbformat": 4,
 "nbformat_minor": 5
}
