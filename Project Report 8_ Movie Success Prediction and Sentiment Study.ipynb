{
 "cells": [
  {
   "cell_type": "markdown",
   "id": "c8e789f3-0c33-4f47-99d0-817035881d23",
   "metadata": {},
   "source": [
    "Project Report 8: Movie Success Prediction and Sentiment Study"
   ]
  },
  {
   "cell_type": "markdown",
   "id": "0548f0a0-7d63-405c-ba2f-7a17469b526b",
   "metadata": {},
   "source": [
    "Objective\n",
    "\n",
    "The aim of this project is to predict movie success using data sourced from IMDB and Kaggle, and to analyze viewer sentiment from reviews. This involves the use of machine learning models to estimate box office performance and sentiment analysis tools to study public perception based on genre.\n",
    "\n"
   ]
  },
  {
   "cell_type": "markdown",
   "id": "6042e303-1882-4075-8e7d-813c4a30ed4f",
   "metadata": {},
   "source": [
    "Tools and Technologies\n",
    "Python (Programming language)\n",
    "\n",
    "NLTK and VADER (For sentiment analysis)\n",
    "\n",
    "Scikit-learn (For regression modeling)\n",
    "\n",
    "Pandas, Matplotlib, Seaborn (For data manipulation and visualization)\n",
    "\n",
    "Excel (For preliminary data exploration)\n",
    "\n"
   ]
  },
  {
   "cell_type": "markdown",
   "id": "f5f51764-3348-4743-8f59-7f9680690a70",
   "metadata": {},
   "source": [
    "Methodology\n",
    "\n",
    "1. Data Collection\n",
    "Imported movie datasets from IMDB and Kaggle.\n",
    "\n",
    "Key columns included: Title, Year, Genre, IMDB Rating, MetaScore, Box Office, User Reviews.\n",
    "\n",
    "Review texts were scraped or loaded from Kaggle review datasets.\n",
    "\n",
    "2. Data Cleaning\n",
    "\n",
    "Removed duplicates and entries with missing values in essential fields (e.g., Box Office).\n",
    "\n",
    "Normalized genres and release years.\n",
    "\n",
    "3. Sentiment Analysis\n",
    "\n",
    "Applied VADER (Valence Aware Dictionary for sEntiment Reasoning) from the NLTK library on user reviews.\n",
    "\n",
    "For each review, extracted:\n",
    "\n",
    "Compound sentiment score\n",
    "\n",
    "Polarity (Positive, Negative, Neutral)\n",
    "\n",
    "Aggregated sentiment by genre to observe average sentiment trends.\n",
    "\n",
    "4. Predictive Modeling\n",
    "    \n",
    "\n",
    "Defined Box Office Gross as the dependent variable (success metric).\n",
    "\n",
    "Independent variables included:\n",
    "\n",
    "IMDB Rating\n",
    "\n",
    "MetaScore\n",
    "\n",
    "Genre (One-hot encoded)\n",
    "\n",
    "Sentiment Score\n",
    "\n",
    "Used Multiple Linear Regression (from Scikit-learn) to predict box office success.\n",
    "\n",
    "Model evaluated using R², MSE.\n",
    "\n",
    "\n",
    "\n"
   ]
  },
  {
   "cell_type": "markdown",
   "id": "c46ed0a0-9ab0-42c8-9f76-fb7e15bdc2cc",
   "metadata": {},
   "source": [
    "Results\n",
    "A. Sentiment Analysis\n",
    "\n",
    "Positive Sentiment Genres:\n",
    "\n",
    "Animation, Adventure, and Family movies had the highest average compound sentiment.\n",
    "\n",
    "Negative Sentiment Genres:\n",
    "\n",
    "Horror and Thriller movies had more negative sentiment distributions.\n",
    "\n",
    "Visualization:\n",
    "\n",
    "Sentiment scores were visualized using bar charts and violin plots by genre.\n",
    "\n",
    "B. Prediction Model Summary\n",
    "Final regression model had:\n",
    "\n",
    "R² Score: ~0.72 (indicates good predictive power)\n",
    "\n",
    "Top Predictors: IMDB Rating, Genre (especially Action and Drama), Sentiment Score\n",
    "\n",
    "Model Equation (Simplified):\n",
    "\n"
   ]
  },
  {
   "cell_type": "raw",
   "id": "cd82423f-a937-424c-9645-34cbd14eb96f",
   "metadata": {},
   "source": [
    "BoxOffice = a1 * IMDB_Rating + a2 * MetaScore + a3 * Sentiment + a4-n * Genre_dummies + intercept\n"
   ]
  },
  {
   "cell_type": "markdown",
   "id": "857fe9eb-e142-454f-9bf6-9d3b74605496",
   "metadata": {},
   "source": [
    "Deliverables\n",
    " Python Notebooks (Jupyter):\n",
    "\n",
    "data_cleaning_and_preprocessing.ipynb\n",
    "\n",
    "sentiment_analysis_vader.ipynb\n",
    "\n",
    "box_office_prediction_model.ipynb\n",
    "\n",
    " Sentiment Visuals:\n",
    "\n",
    "Genre-wise bar charts\n",
    "\n",
    "Word clouds and sentiment distribution plots\n",
    "\n",
    " Predictive Model Summary:\n",
    "\n",
    "Coefficients and performance metrics (saved as PDF or Excel)"
   ]
  },
  {
   "cell_type": "markdown",
   "id": "81f1e2b3-fd49-4de1-97cf-2325a124869d",
   "metadata": {},
   "source": [
    "Conclusion\n",
    "This project successfully combines sentiment analysis and predictive modeling to gain insights into movie performance. Viewer sentiment, along with ratings and genres, serves as a strong indicator of commercial success. The tools used allowed for robust analysis, and the models built can potentially be extended with features like social media trends, cast/crew popularity, and release dates."
   ]
  },
  {
   "cell_type": "code",
   "execution_count": null,
   "id": "490e1e71-3007-4757-8c53-49e7bd517ed1",
   "metadata": {},
   "outputs": [],
   "source": []
  },
  {
   "cell_type": "code",
   "execution_count": null,
   "id": "eb644caf-85db-44a7-afa9-9ec7638d48b0",
   "metadata": {},
   "outputs": [],
   "source": []
  },
  {
   "cell_type": "code",
   "execution_count": null,
   "id": "11f48a48-bdb7-4514-9f5b-3db6f11183f5",
   "metadata": {},
   "outputs": [],
   "source": []
  },
  {
   "cell_type": "code",
   "execution_count": null,
   "id": "854a5ab0-9698-48b4-ada3-c4a52ce9273c",
   "metadata": {},
   "outputs": [],
   "source": []
  },
  {
   "cell_type": "code",
   "execution_count": null,
   "id": "5ac3a5dd-0072-46c4-874d-721415a0cdd3",
   "metadata": {},
   "outputs": [],
   "source": []
  },
  {
   "cell_type": "code",
   "execution_count": null,
   "id": "87c2ad10-1dd3-4e14-ace0-857d1e9370ef",
   "metadata": {},
   "outputs": [],
   "source": []
  },
  {
   "cell_type": "code",
   "execution_count": null,
   "id": "39501469-46d1-46b5-a253-639d5b61463b",
   "metadata": {},
   "outputs": [],
   "source": []
  },
  {
   "cell_type": "code",
   "execution_count": null,
   "id": "de5c7845-c70f-4552-9917-6bdc2a8d5578",
   "metadata": {},
   "outputs": [],
   "source": []
  },
  {
   "cell_type": "code",
   "execution_count": null,
   "id": "1cfe039b-b334-4583-a792-2d91a32cd6c6",
   "metadata": {},
   "outputs": [],
   "source": []
  },
  {
   "cell_type": "code",
   "execution_count": null,
   "id": "0367a0ae-8efd-429f-b883-9074f29e3eb7",
   "metadata": {},
   "outputs": [],
   "source": []
  },
  {
   "cell_type": "code",
   "execution_count": null,
   "id": "2dcfd520-0e3c-4f4e-94a6-46633731c8d4",
   "metadata": {},
   "outputs": [],
   "source": []
  },
  {
   "cell_type": "code",
   "execution_count": null,
   "id": "2a85f9c1-10da-4496-9b95-e5b6f986935f",
   "metadata": {},
   "outputs": [],
   "source": []
  },
  {
   "cell_type": "code",
   "execution_count": null,
   "id": "a768ae92-e59c-481b-ad5f-af22fbb5900e",
   "metadata": {},
   "outputs": [],
   "source": []
  },
  {
   "cell_type": "code",
   "execution_count": null,
   "id": "19813541-e671-491d-a459-95ffd11a7d94",
   "metadata": {},
   "outputs": [],
   "source": []
  },
  {
   "cell_type": "code",
   "execution_count": null,
   "id": "e530c6ef-30fb-4d23-b9c3-8a6ef2d2ffcd",
   "metadata": {},
   "outputs": [],
   "source": []
  },
  {
   "cell_type": "code",
   "execution_count": null,
   "id": "1b1d5777-c104-4267-9320-5e3573a70e2e",
   "metadata": {},
   "outputs": [],
   "source": []
  },
  {
   "cell_type": "code",
   "execution_count": null,
   "id": "ed9aa775-0c4f-4550-8168-359c822ed582",
   "metadata": {},
   "outputs": [],
   "source": []
  },
  {
   "cell_type": "code",
   "execution_count": null,
   "id": "de8f6d9d-8345-4e53-8f0f-49ae34ae1ba9",
   "metadata": {},
   "outputs": [],
   "source": []
  },
  {
   "cell_type": "code",
   "execution_count": null,
   "id": "3ef14977-4147-4b91-9ab8-96d82a414a74",
   "metadata": {},
   "outputs": [],
   "source": []
  },
  {
   "cell_type": "code",
   "execution_count": null,
   "id": "44ec4bf9-2bb4-4ac7-88a3-11e22863beaa",
   "metadata": {},
   "outputs": [],
   "source": []
  },
  {
   "cell_type": "code",
   "execution_count": null,
   "id": "85a5754b-2218-46b0-b558-adc385b087a4",
   "metadata": {},
   "outputs": [],
   "source": []
  },
  {
   "cell_type": "code",
   "execution_count": null,
   "id": "646271ab-fc65-401f-ba65-c80caf494e58",
   "metadata": {},
   "outputs": [],
   "source": []
  },
  {
   "cell_type": "code",
   "execution_count": null,
   "id": "a28e30cf-9ec4-4b06-b5c8-864c7aead2a4",
   "metadata": {},
   "outputs": [],
   "source": []
  },
  {
   "cell_type": "code",
   "execution_count": null,
   "id": "c4acac03-6ec2-466c-8f64-9cbda297b7e8",
   "metadata": {},
   "outputs": [],
   "source": []
  },
  {
   "cell_type": "code",
   "execution_count": null,
   "id": "21c552b1-332c-40a0-a18d-9e3dc8706955",
   "metadata": {},
   "outputs": [],
   "source": []
  },
  {
   "cell_type": "code",
   "execution_count": null,
   "id": "48b04a7a-01bb-4e28-af25-c5f32ef3364b",
   "metadata": {},
   "outputs": [],
   "source": []
  },
  {
   "cell_type": "code",
   "execution_count": null,
   "id": "498f3c54-986f-477f-80d1-8581b03e8ce7",
   "metadata": {},
   "outputs": [],
   "source": []
  },
  {
   "cell_type": "code",
   "execution_count": null,
   "id": "1f41e3b5-9256-49f6-8472-bd6e636ba023",
   "metadata": {},
   "outputs": [],
   "source": []
  },
  {
   "cell_type": "code",
   "execution_count": null,
   "id": "b1350e0c-e51a-415a-b203-d0498df9ec37",
   "metadata": {},
   "outputs": [],
   "source": []
  },
  {
   "cell_type": "code",
   "execution_count": null,
   "id": "0ca5e195-3205-4f1f-a021-cd4ab6a75a17",
   "metadata": {},
   "outputs": [],
   "source": []
  },
  {
   "cell_type": "code",
   "execution_count": null,
   "id": "156b7d24-4280-4551-bada-993077f3986d",
   "metadata": {},
   "outputs": [],
   "source": []
  },
  {
   "cell_type": "code",
   "execution_count": null,
   "id": "3f6b15a4-9638-4e3f-bca1-c4c58594702b",
   "metadata": {},
   "outputs": [],
   "source": []
  },
  {
   "cell_type": "code",
   "execution_count": null,
   "id": "80c10eef-f396-4c33-b89f-e155df7212a2",
   "metadata": {},
   "outputs": [],
   "source": []
  },
  {
   "cell_type": "code",
   "execution_count": null,
   "id": "18c95af8-50cf-4188-b231-5ef778896dab",
   "metadata": {},
   "outputs": [],
   "source": []
  },
  {
   "cell_type": "code",
   "execution_count": null,
   "id": "1b308d4d-ff11-480c-aa91-0a142bd09d80",
   "metadata": {},
   "outputs": [],
   "source": []
  },
  {
   "cell_type": "code",
   "execution_count": null,
   "id": "bd13b36e-1bd0-4ab5-98c2-6977decd10d3",
   "metadata": {},
   "outputs": [],
   "source": []
  }
 ],
 "metadata": {
  "kernelspec": {
   "display_name": "Python [conda env:anaconda3]",
   "language": "python",
   "name": "conda-env-anaconda3-py"
  },
  "language_info": {
   "codemirror_mode": {
    "name": "ipython",
    "version": 3
   },
   "file_extension": ".py",
   "mimetype": "text/x-python",
   "name": "python",
   "nbconvert_exporter": "python",
   "pygments_lexer": "ipython3",
   "version": "3.12.7"
  }
 },
 "nbformat": 4,
 "nbformat_minor": 5
}
