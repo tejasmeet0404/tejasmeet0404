{
 "cells": [
  {
   "cell_type": "markdown",
   "id": "fd06fc49-2bbf-468e-b51f-340c5980ec87",
   "metadata": {},
   "source": [
    "Project 5: E-commerce Return Rate Reduction Analysis"
   ]
  },
  {
   "cell_type": "markdown",
   "id": "7f2dff10-3326-4051-ad61-85290f6a101c",
   "metadata": {},
   "source": [
    "Objective"
   ]
  },
  {
   "cell_type": "markdown",
   "id": "e0c760cb-c199-42ba-ae13-48bae376aadc",
   "metadata": {},
   "source": [
    "The primary goal of this project is to identify the underlying factors contributing to product returns and to understand how return rates vary by product category, geographic region, and marketing channel. Additionally, we aim to build a model to predict the likelihood of a product being returned and present these insights via an interactive dashboard.\n",
    "\n"
   ]
  },
  {
   "cell_type": "markdown",
   "id": "daa399bb-c71c-4cdb-9768-f5128a93dae3",
   "metadata": {},
   "source": [
    "Tools Used"
   ]
  },
  {
   "cell_type": "markdown",
   "id": "7e7c03dc-57e1-4e2c-8d0c-38b192eb6fcc",
   "metadata": {},
   "source": [
    "Python: Data cleaning, feature engineering, and logistic regression model development.\n",
    "\n",
    "SQL: Data extraction and preliminary aggregation from transactional databases.\n",
    "\n",
    "Power BI: Visualization and dashboard development for business users."
   ]
  },
  {
   "cell_type": "markdown",
   "id": "105b359e-4581-45f9-929b-ec58d6f85c11",
   "metadata": {},
   "source": [
    "Methodology\n",
    "Step 1: Data Preparation\n",
    "Source: Orders and Returns datasets extracted via SQL queries.\n",
    "\n",
    "Cleaning:\n",
    "\n",
    "Removed duplicate transactions.\n",
    "\n",
    "Handled missing values (e.g., null categories, incomplete return reasons).\n",
    "\n",
    "Standardized categorical fields (e.g., region names, supplier codes).\n",
    "\n",
    "Merging: Combined order and return data on transaction ID to flag returned items.\n",
    "\n"
   ]
  },
  {
   "cell_type": "markdown",
   "id": "07787677-82cf-45ed-9d36-706ba5d4cfe9",
   "metadata": {},
   "source": [
    "Step 2: Return Rate Analysis\n",
    "Return % by Product Category:\n",
    "\n",
    "Categories like Apparel and Footwear had the highest return rates (20%+).\n",
    "\n",
    "Return % by Supplier:\n",
    "\n",
    "Identified outlier suppliers with return rates > 25%, potentially due to quality or sizing issues.\n",
    "\n",
    "Return % by Geography:\n",
    "\n",
    "Higher return rates observed in urban regions, likely due to convenience of return logistics.\n",
    "\n",
    "Return % by Marketing Channel:\n",
    "\n",
    "Products marketed via paid social ads had higher return rates than those from email campaigns or organic search."
   ]
  },
  {
   "cell_type": "markdown",
   "id": "43026937-2045-4595-b99c-2c59ad9713a6",
   "metadata": {},
   "source": [
    "Predictive Modeling\n",
    "Model: Logistic Regression\n",
    "\n",
    "Features Used:\n",
    "\n",
    "Product category\n",
    "\n",
    "Price\n",
    "\n",
    "Discount %\n",
    "\n",
    "Region\n",
    "\n",
    "Supplier ID\n",
    "\n",
    "Marketing channel\n",
    "\n",
    "Delivery time\n",
    "\n",
    "Outcome: Probability of return (binary classification)\n",
    "\n",
    "Model Metrics:\n",
    "\n",
    "Accuracy: 78%\n",
    "\n",
    "AUC: 0.82\n",
    "\n",
    "Precision (High Risk Products): 74%\n",
    "\n"
   ]
  },
  {
   "cell_type": "markdown",
   "id": "b48fdf6b-5cb0-4cd4-abbc-0efb1cb5af0d",
   "metadata": {},
   "source": [
    "Power BI Dashboard\n",
    "\n",
    "\n",
    "Key Features:\n",
    "\n",
    "Return rate drill-down by category, region, and supplier.\n",
    "\n",
    "Filter by date range, channel, and customer type.\n",
    "\n",
    "Return Risk Score visualized on product level (using logistic regression output).\n",
    "\n",
    "Highlight: Top 100 High-Risk SKUs flagged for operational review."
   ]
  },
  {
   "cell_type": "markdown",
   "id": "0ef5dae4-8bb2-4f8a-a989-f1d80bd1f09a",
   "metadata": {},
   "source": [
    "Dashboard Title:\n",
    "\n",
    "Product Return Risk Analysis"
   ]
  },
  {
   "cell_type": "markdown",
   "id": "767e1551-b1e8-4f98-8998-e08a620e30dd",
   "metadata": {},
   "source": [
    "Hosting & Access\n",
    "Platform: Power BI Service (workspace created under organization’s analytics group)\n",
    "\n",
    "Access Control:\n",
    "\n",
    "Role-based access enabled\n",
    "\n",
    "Executives: High-level KPIs, trends\n",
    "\n",
    "Category Managers: Drill-down by category/supplier\n",
    "\n",
    "Operations: Region, logistics, high-risk SKUs\n",
    "RLS (Row-Level Security) rules applied for geographic/departmental restrictions\n",
    "\n"
   ]
  },
  {
   "cell_type": "markdown",
   "id": "a24c3240-bd88-4dbe-b300-35c9b31cdec5",
   "metadata": {},
   "source": [
    "Key Dashboard Components"
   ]
  },
  {
   "cell_type": "markdown",
   "id": "3fd97469-4268-4168-9ced-70dc62560860",
   "metadata": {},
   "source": [
    "| Section                            | Visual Type          | Description                                                                   |\n",
    "| ---------------------------------- | -------------------- | ----------------------------------------------------------------------------- |\n",
    "| **KPI Summary**                    | KPI cards            | Total Orders, Return Rate %, High-Risk Products Count, Avg Return Probability |\n",
    "| **Return Rate by Category**        | Stacked column chart | Shows return rates across all product categories                              |\n",
    "| **Return Rate by Supplier**        | Bar chart            | Identifies suppliers with highest return ratios                               |\n",
    "| **Geographic Return Heatmap**      | Map visual           | Regional breakdown of return %                                                |\n",
    "| **Marketing Channel Performance**  | Donut chart          | Return distribution by marketing source                                       |\n",
    "| **Return Risk Score Distribution** | Histogram            | Predicted risk scores from ML model                                           |\n",
    "| **High-Risk Products Table**       | Data table           | Product ID, Name, Category, Return Prob., Action Flag                         |\n",
    "| **Filters/Drill-throughs**         | Slicers              | Time range, Category, Region, Supplier, Channel                               |\n"
   ]
  },
  {
   "cell_type": "markdown",
   "id": "6540db3c-ad56-4643-8cfe-c7071bd3e79e",
   "metadata": {},
   "source": [
    "Features\n",
    "\n",
    " Drill-Through Filters: Clickable categories/suppliers for deep-dive analysis\n",
    "\n",
    " Automated Data Refresh:\n",
    "\n",
    "Frequency: Daily (via scheduled refresh in Power BI Service)\n",
    "\n",
    "Source: Azure SQL Database / OneDrive for Business (CSV backup)\n",
    "\n",
    " Export Options:\n",
    "\n",
    "Export full reports to PDF, PPTX, Excel"
   ]
  },
  {
   "cell_type": "markdown",
   "id": "d1f8ee16-6583-4c0c-9edc-d67809086847",
   "metadata": {},
   "source": [
    ". Integration with Python Outputs\n",
    "Import high_return_risk_products.csv directly into Power BI as a dataset\n",
    "\n",
    "Include prediction outputs (return_probability) for real-time ML visualization"
   ]
  },
  {
   "cell_type": "markdown",
   "id": "1ce83f2a-54f5-4102-b929-ad2518b63d12",
   "metadata": {},
   "source": [
    "Future Enhancements\n",
    "Embed product images for better visual context\n",
    "\n",
    "Add customer feedback sentiment (if available)\n",
    "\n",
    "Trigger email alerts for categories with sudden return spikes"
   ]
  },
  {
   "cell_type": "markdown",
   "id": "ee405500-c3f8-428b-bed0-b9ac5fcc4d2c",
   "metadata": {},
   "source": [
    " Deliverables\n",
    "\n",
    " \n",
    " Python Codebase\n",
    " \n",
    "data_cleaning.py – handles nulls, merges datasets.\n",
    "\n",
    "feature_engineering.py – transforms categorical data, scales numerical features.\n",
    "\n",
    "return_prediction_model.py – trains and evaluates the logistic regression model."
   ]
  },
  {
   "cell_type": "markdown",
   "id": "ad907687-4968-487f-b1ca-20bc0891e823",
   "metadata": {},
   "source": [
    "data_cleaning.py"
   ]
  },
  {
   "cell_type": "raw",
   "id": "c00fe395-0247-4c96-a59c-32eb1b9c2cfe",
   "metadata": {},
   "source": [
    "import pandas as pd\n",
    "\n",
    "def load_data(order_file, return_file):\n",
    "    orders = pd.read_csv(order_file)\n",
    "    returns = pd.read_csv(return_file)\n",
    "    return orders, returns\n",
    "\n",
    "def clean_data(orders, returns):\n",
    "    # Drop duplicates\n",
    "    orders = orders.drop_duplicates()\n",
    "    returns = returns.drop_duplicates()\n",
    "\n",
    "    # Handle missing values\n",
    "    orders.fillna({'category': 'Unknown', 'region': 'Unknown'}, inplace=True)\n",
    "    returns.fillna({'reason': 'Unspecified'}, inplace=True)\n",
    "\n",
    "    # Merge datasets\n",
    "    orders['is_returned'] = orders['order_id'].isin(returns['order_id']).astype(int)\n",
    "\n",
    "    return orders\n",
    "\n",
    "if __name__ == \"__main__\":\n",
    "    orders, returns = load_data(\"orders.csv\", \"returns.csv\")\n",
    "    clean_orders = clean_data(orders, returns)\n",
    "    clean_orders.to_csv(\"clean_orders.csv\", index=False)\n"
   ]
  },
  {
   "cell_type": "markdown",
   "id": "9e02cc54-6f4e-4c80-8d83-62612883e11f",
   "metadata": {},
   "source": [
    "feature_engineering.py"
   ]
  },
  {
   "cell_type": "raw",
   "id": "53819e05-52cb-4b41-b62a-4d0682eb87da",
   "metadata": {},
   "source": [
    "import pandas as pd\n",
    "from sklearn.preprocessing import StandardScaler, OneHotEncoder\n",
    "from sklearn.compose import ColumnTransformer\n",
    "from sklearn.pipeline import Pipeline\n",
    "\n",
    "def build_pipeline():\n",
    "    numeric_features = ['price', 'discount_percent', 'delivery_days']\n",
    "    categorical_features = ['category', 'region', 'marketing_channel', 'supplier_id']\n",
    "\n",
    "    numeric_transformer = StandardScaler()\n",
    "    categorical_transformer = OneHotEncoder(handle_unknown='ignore')\n",
    "\n",
    "    preprocessor = ColumnTransformer(\n",
    "        transformers=[\n",
    "            ('num', numeric_transformer, numeric_features),\n",
    "            ('cat', categorical_transformer, categorical_features)\n",
    "        ]\n",
    "    )\n",
    "\n",
    "    return preprocessor\n",
    "\n",
    "def transform_data(data, preprocessor):\n",
    "    X = data[['price', 'discount_percent', 'delivery_days', 'category', 'region', 'marketing_channel', 'supplier_id']]\n",
    "    y = data['is_returned']\n",
    "    X_transformed = preprocessor.fit_transform(X)\n",
    "    return X_transformed, y, preprocessor\n",
    "\n",
    "if __name__ == \"__main__\":\n",
    "    df = pd.read_csv(\"clean_orders.csv\")\n",
    "    preprocessor = build_pipeline()\n",
    "    X, y, preprocessor = transform_data(df, preprocessor)\n"
   ]
  },
  {
   "cell_type": "markdown",
   "id": "05a7cbec-1795-4965-8f3c-2c3acdbfd0c0",
   "metadata": {},
   "source": [
    "return_prediction_model.py"
   ]
  },
  {
   "cell_type": "code",
   "execution_count": null,
   "id": "b9ce1422-8fc8-4e54-88cd-b1867b33c193",
   "metadata": {},
   "outputs": [],
   "source": [
    "import joblib\n",
    "from sklearn.linear_model import LogisticRegression\n",
    "from sklearn.model_selection import train_test_split\n",
    "from sklearn.metrics import classification_report, roc_auc_score\n",
    "import pandas as pd\n",
    "from feature_engineering import build_pipeline, transform_data\n",
    "\n",
    "# Load and preprocess data\n",
    "df = pd.read_csv(\"clean_orders.csv\")\n",
    "preprocessor = build_pipeline()\n",
    "X, y, preprocessor = transform_data(df, preprocessor)\n",
    "\n",
    "# Split data\n",
    "X_train, X_test, y_train, y_test = train_test_split(X, y, test_size=0.2, random_state=42)\n",
    "\n",
    "# Train model\n",
    "model = LogisticRegression(max_iter=500)\n",
    "model.fit(X_train, y_train)\n",
    "\n",
    "# Evaluate\n",
    "y_pred = model.predict(X_test)\n",
    "y_prob = model.predict_proba(X_test)[:, 1]\n",
    "\n",
    "print(classification_report(y_test, y_pred))\n",
    "print(\"AUC Score:\", roc_auc_score(y_test, y_prob))\n",
    "\n",
    "# Save model and preprocessor\n",
    "joblib.dump(model, \"return_model.pkl\")\n",
    "joblib.dump(preprocessor, \"preprocessor.pkl\")\n",
    "\n",
    "# Export high-risk products\n",
    "df['return_probability'] = model.predict_proba(preprocessor.transform(df.drop(columns='is_returned')))[:, 1]\n",
    "high_risk = df[df['return_probability'] >= 0.7]\n",
    "high_risk.to_csv(\"high_return_risk_products.csv\", index=False)\n"
   ]
  },
  {
   "cell_type": "markdown",
   "id": "e8c9519f-eec0-41a6-af5d-0ace444c53fa",
   "metadata": {},
   "source": [
    " Deliverables\n",
    "\n",
    " \n",
    " Python Codebase\n",
    " \n",
    "data_cleaning.py – handles nulls, merges datasets.\n",
    "\n",
    "feature_engineering.py – transforms categorical data, scales numerical features.\n",
    "\n",
    "return_prediction_model.py – trains and evaluates the logistic regression model."
   ]
  },
  {
   "cell_type": "markdown",
   "id": "70296c11-eab0-4024-b449-0afef0d814aa",
   "metadata": {},
   "source": [
    "Power BI Dashboard\n",
    "Hosted on Power BI Service with role-based access.\n",
    "\n",
    "Exportable visual reports and automated refresh (daily)."
   ]
  },
  {
   "cell_type": "markdown",
   "id": "9273db9b-ec9f-4273-8d67-42463d76ff65",
   "metadata": {},
   "source": [
    "CSV Output: High-Risk Products\n",
    "\n",
    "File: high_return_risk_products.csv\n",
    "\n",
    "Columns: SKU, Product Name, Return Probability, Category, Supplier, Risk Band (High/Medium/Low)\n",
    "\n"
   ]
  },
  {
   "cell_type": "markdown",
   "id": "1e90f3f1-3058-4a58-a428-2fbe34658af1",
   "metadata": {},
   "source": [
    "Recommendations\n",
    "Quality checks on top-returned SKUs and suppliers.\n",
    "\n",
    "Refine product descriptions and images to reduce returns in high-risk categories.\n",
    "\n",
    "Adjust return policies or shipping options for high-return regions.\n",
    "\n",
    "Use predictive model outputs to personalize product recommendations and limit risky items in campaigns.\n",
    "\n"
   ]
  },
  {
   "cell_type": "markdown",
   "id": "903abf59-5a08-4a60-8d02-919041f7f4bf",
   "metadata": {},
   "source": [
    "Recommendations\n",
    "\n",
    "Based on the return analysis and predictive modeling, we propose the following strategic actions to reduce return rates and improve overall customer satisfaction:"
   ]
  },
  {
   "cell_type": "markdown",
   "id": "030d19ef-931e-4ed9-93fb-27ab5b23e97b",
   "metadata": {},
   "source": [
    "Quality Control on High-Return SKUs and Suppliers\n",
    "Perform targeted audits on the most frequently returned products.\n",
    "\n",
    "Collaborate with high-return suppliers to improve product quality, packaging, or sizing consistency.\n",
    "\n",
    "Establish a supplier performance scorecard based on return rates and customer feedback."
   ]
  },
  {
   "cell_type": "markdown",
   "id": "7b473900-8aa9-4ec0-9a41-e92ed0b0aedc",
   "metadata": {},
   "source": [
    "Enhance Product Descriptions and Imagery\n",
    "Improve clarity in product descriptions, especially for high-return categories like apparel and electronics.\n",
    "\n",
    "Include high-resolution, multi-angle images and detailed size/fit guides.\n",
    "\n",
    "Incorporate customer Q&A and reviews directly on product pages to preempt misaligned expectations."
   ]
  },
  {
   "cell_type": "markdown",
   "id": "5c9cc5fc-6394-458b-8853-eaf835b01b0a",
   "metadata": {},
   "source": [
    " Adjust Return Policies and Logistics\n",
    "Re-evaluate return policies in regions with high return rates—consider implementing:\n",
    "\n",
    "Stricter return windows\n",
    "\n",
    "Store-credit-only returns for certain products\n",
    "\n",
    "Offer faster delivery options and better packaging to reduce returns due to damages or delays."
   ]
  },
  {
   "cell_type": "markdown",
   "id": "b9c7e090-5340-4058-bd23-4ab7e015020c",
   "metadata": {},
   "source": [
    " Leverage Predictive Analytics in Marketing\n",
    "Use the logistic regression model to:\n",
    "\n",
    "Flag high-risk SKUs and reduce their visibility in broad campaigns.\n",
    "\n",
    "Personalize recommendations by excluding likely-to-be-returned items for specific customer segments.\n",
    "\n",
    "Run A/B tests on promotions involving high-risk products to validate campaign effectiveness."
   ]
  },
  {
   "cell_type": "markdown",
   "id": "77ec1741-05cf-4b3f-b2c1-073f2b3c61e1",
   "metadata": {},
   "source": [
    "Continuous Monitoring and Dashboard Insights\n",
    "Use the Power BI dashboard to:\n",
    "\n",
    "Track trends in return risk scores and adjust merchandising strategies in real-time.\n",
    "\n",
    "Enable drill-through analysis for category managers and operations teams to take quick corrective action."
   ]
  },
  {
   "cell_type": "code",
   "execution_count": null,
   "id": "7452a5d3-c578-4423-be36-ad6502e4528b",
   "metadata": {},
   "outputs": [],
   "source": []
  },
  {
   "cell_type": "code",
   "execution_count": null,
   "id": "1efd49d5-5913-4c0e-a3de-03c02894a592",
   "metadata": {},
   "outputs": [],
   "source": []
  },
  {
   "cell_type": "code",
   "execution_count": null,
   "id": "aef8dd74-f751-458f-a987-c1dc658e34de",
   "metadata": {},
   "outputs": [],
   "source": []
  },
  {
   "cell_type": "code",
   "execution_count": null,
   "id": "cec1df60-a92e-422a-a8fc-106a953e83c7",
   "metadata": {},
   "outputs": [],
   "source": []
  },
  {
   "cell_type": "code",
   "execution_count": null,
   "id": "1f669897-1216-4b31-9780-a67b3c5f33e8",
   "metadata": {},
   "outputs": [],
   "source": []
  }
 ],
 "metadata": {
  "kernelspec": {
   "display_name": "Python [conda env:anaconda3]",
   "language": "python",
   "name": "conda-env-anaconda3-py"
  },
  "language_info": {
   "codemirror_mode": {
    "name": "ipython",
    "version": 3
   },
   "file_extension": ".py",
   "mimetype": "text/x-python",
   "name": "python",
   "nbconvert_exporter": "python",
   "pygments_lexer": "ipython3",
   "version": "3.12.7"
  }
 },
 "nbformat": 4,
 "nbformat_minor": 5
}
