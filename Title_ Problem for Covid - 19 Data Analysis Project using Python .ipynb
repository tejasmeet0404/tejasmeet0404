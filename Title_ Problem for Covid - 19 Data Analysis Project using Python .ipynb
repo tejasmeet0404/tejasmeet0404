{
 "cells": [
  {
   "cell_type": "markdown",
   "id": "5475b367-0696-44c7-ab8d-2ff789bda231",
   "metadata": {},
   "source": [
    "Title: Problem for Covid - 19 Data Analysis Project using Python "
   ]
  },
  {
   "cell_type": "markdown",
   "id": "dc880e95-7040-400c-b133-fd7ded0deb6c",
   "metadata": {},
   "source": [
    "using Python Dataset link : \n",
    "Url = https://raw.githubusercontent.com/SR1608/Datasets/main/covid data.csv "
   ]
  },
  {
   "cell_type": "markdown",
   "id": "a774b92d-dd60-41b2-b795-98614b68afc4",
   "metadata": {},
   "source": [
    " Step 1: Import Dataset using Pandas"
   ]
  },
  {
   "cell_type": "raw",
   "id": "095469a2-00ef-4caa-bcfa-4822900997b1",
   "metadata": {},
   "source": [
    "import pandas as pd\n",
    "\n",
    "url = 'https://raw.githubusercontent.com/SR1608/Datasets/main/covid%20data.csv'\n",
    "df = pd.read_csv(url)\n"
   ]
  },
  {
   "cell_type": "markdown",
   "id": "eb0da0ac-2f83-434a-955f-76aabff777c3",
   "metadata": {},
   "source": [
    "Step 2: High Level Data Understanding"
   ]
  },
  {
   "cell_type": "markdown",
   "id": "5e1efe77-ad14-41ab-8edf-006a38fc52bf",
   "metadata": {},
   "source": [
    "a. Number of rows and columns"
   ]
  },
  {
   "cell_type": "raw",
   "id": "5620718e-230d-4192-8aca-46d69656b98c",
   "metadata": {},
   "source": [
    "df.shape  # (rows, columns)\n"
   ]
  },
  {
   "cell_type": "markdown",
   "id": "5d800e3b-0724-4c05-9efd-0c1bbdeb341b",
   "metadata": {},
   "source": [
    "b. Data types of columns"
   ]
  },
  {
   "cell_type": "raw",
   "id": "84850dcb-6a53-4f51-a91c-6c43073d8960",
   "metadata": {},
   "source": [
    "df.dtypes\n"
   ]
  },
  {
   "cell_type": "markdown",
   "id": "e407534e-6597-4afe-95bc-ce88015a0845",
   "metadata": {},
   "source": [
    "c. Info & Describe"
   ]
  },
  {
   "cell_type": "markdown",
   "id": "7c6ab87e-d79b-4dae-aa3a-1d0625eb1025",
   "metadata": {},
   "source": [
    "df.info()\n",
    "df.describe()\n"
   ]
  },
  {
   "cell_type": "markdown",
   "id": "e8da4c29-28f6-4083-b8a2-0f5586bd3686",
   "metadata": {},
   "source": [
    " Step 3: Low Level Data Understanding"
   ]
  },
  {
   "cell_type": "markdown",
   "id": "93ea94a4-ec15-491d-a270-a81f0c696550",
   "metadata": {},
   "source": [
    "a. Unique values in location"
   ]
  },
  {
   "cell_type": "raw",
   "id": "089959c8-e517-4519-8785-62430df088b6",
   "metadata": {},
   "source": [
    "df['location'].nunique()\n"
   ]
  },
  {
   "cell_type": "markdown",
   "id": "e90152b5-776c-49f4-afb0-41154f512524",
   "metadata": {},
   "source": [
    "b. Continent with maximum frequency"
   ]
  },
  {
   "cell_type": "raw",
   "id": "d52b4164-bf57-4c04-a91e-16934c0bf90d",
   "metadata": {},
   "source": [
    "df['continent'].value_counts().idxmax()\n"
   ]
  },
  {
   "cell_type": "markdown",
   "id": "cf5e9dab-0411-48c2-9e29-7699d0a0225c",
   "metadata": {},
   "source": [
    "c. Maximum & Mean in total_cases"
   ]
  },
  {
   "cell_type": "raw",
   "id": "08cedf0a-ef71-4d15-aa20-479c530cea86",
   "metadata": {},
   "source": [
    "df['total_cases'].max(), df['total_cases'].mean()\n"
   ]
  },
  {
   "cell_type": "markdown",
   "id": "56b3184f-4783-48d0-97dc-266c7f1dcd01",
   "metadata": {},
   "source": [
    "d. Quartiles of total_deaths"
   ]
  },
  {
   "cell_type": "raw",
   "id": "64bb12c7-20d4-4b08-b69c-a147efffd2d3",
   "metadata": {},
   "source": [
    "df['total_deaths'].quantile([0.25, 0.50, 0.75])\n"
   ]
  },
  {
   "cell_type": "markdown",
   "id": "b4936110-01d0-444e-8ea6-5f3c7e596266",
   "metadata": {},
   "source": [
    "e. Continent with max human_development_index"
   ]
  },
  {
   "cell_type": "raw",
   "id": "a7849e18-05d0-4e84-b497-7260e7cdd049",
   "metadata": {},
   "source": [
    "df.loc[df['human_development_index'].idxmax(), 'continent']\n"
   ]
  },
  {
   "cell_type": "markdown",
   "id": "536fe383-160f-4d6b-9de7-58f3192f59d2",
   "metadata": {},
   "source": [
    "f. Continent with min gdp_per_capita"
   ]
  },
  {
   "cell_type": "raw",
   "id": "d3eac1f5-cb35-45f1-86b6-b44a8d90d43a",
   "metadata": {},
   "source": [
    "df.loc[df['gdp_per_capita'].idxmin(), 'continent']\n"
   ]
  },
  {
   "cell_type": "markdown",
   "id": "c9bdf18a-e580-41e9-8bfa-b9d4ae758df5",
   "metadata": {},
   "source": [
    " Step 4: Filter Relevant Columns"
   ]
  },
  {
   "cell_type": "raw",
   "id": "d6599d3f-f0e0-4fbf-a9c2-2a05aa97d3a5",
   "metadata": {},
   "source": [
    "df = df[['continent','location','date','total_cases','total_deaths','gdp_per_capita','human_development_index']]\n"
   ]
  },
  {
   "cell_type": "markdown",
   "id": "a098b0bc-23be-47b3-9f5c-4349686a1fc8",
   "metadata": {},
   "source": [
    "Step 5: Data Cleaning"
   ]
  },
  {
   "cell_type": "markdown",
   "id": "6ad68d2d-8ccb-469e-8b83-7cabcb4ed69e",
   "metadata": {},
   "source": [
    "a. Remove duplicates"
   ]
  },
  {
   "cell_type": "raw",
   "id": "4b3ba5be-ce0a-43c3-a7cb-af5f01c76852",
   "metadata": {},
   "source": [
    "df.drop_duplicates(inplace=True)\n"
   ]
  },
  {
   "cell_type": "markdown",
   "id": "023e3f27-9886-4a3a-afcc-cae144283892",
   "metadata": {},
   "source": [
    "b. Missing values in all columns"
   ]
  },
  {
   "cell_type": "raw",
   "id": "8d2a6cc8-a545-45dc-8736-eed867cf10bf",
   "metadata": {},
   "source": [
    "df.isnull().sum()\n"
   ]
  },
  {
   "cell_type": "markdown",
   "id": "0f5e9e4e-8b51-4cc7-8942-5822b896e996",
   "metadata": {},
   "source": [
    "c. Remove rows with missing continent"
   ]
  },
  {
   "cell_type": "raw",
   "id": "b505b9e8-f224-48fe-a620-81bd6a4075db",
   "metadata": {},
   "source": [
    "df.dropna(subset=['continent'], inplace=True)\n"
   ]
  },
  {
   "cell_type": "markdown",
   "id": "a2589fee-3d44-4ebc-ab08-98062eaaf1f8",
   "metadata": {},
   "source": [
    "d. Fill remaining missing values with 0"
   ]
  },
  {
   "cell_type": "raw",
   "id": "0696ec39-5409-49da-bb41-2a10298f4b97",
   "metadata": {},
   "source": [
    "df.fillna(0, inplace=True)\n"
   ]
  },
  {
   "cell_type": "markdown",
   "id": "60cce16b-274e-479e-9edd-65ce5fcc40bc",
   "metadata": {},
   "source": [
    "Step 6: DateTime Format"
   ]
  },
  {
   "cell_type": "markdown",
   "id": "9e516fd0-8094-44c2-856b-20671eedb395",
   "metadata": {},
   "source": [
    "a. Convert date to datetime"
   ]
  },
  {
   "cell_type": "raw",
   "id": "777e6383-c889-4402-a21f-5e33c7dc5245",
   "metadata": {},
   "source": [
    "df['date'] = pd.to_datetime(df['date'])\n"
   ]
  },
  {
   "cell_type": "markdown",
   "id": "1534d86b-1114-476d-a083-82ef72a8db89",
   "metadata": {},
   "source": [
    "b. Extract month"
   ]
  },
  {
   "cell_type": "raw",
   "id": "eb211ce4-ad99-4af5-88d6-9297f4fe95bd",
   "metadata": {},
   "source": [
    "df['month'] = df['date'].dt.month\n"
   ]
  },
  {
   "cell_type": "markdown",
   "id": "84f4d833-9d8b-4e2c-b7d3-adf9b2dbe9a8",
   "metadata": {},
   "source": [
    "Step 7: Data Aggregation"
   ]
  },
  {
   "cell_type": "markdown",
   "id": "b6b7050e-a374-4bb9-8e0d-157188a5cff5",
   "metadata": {},
   "source": [
    "a. Group by continent and find max"
   ]
  },
  {
   "cell_type": "raw",
   "id": "8255a4b1-d69c-4446-b271-a9e8b4284bb9",
   "metadata": {},
   "source": [
    "df_groupby = df.groupby('continent').max().reset_index()\n"
   ]
  },
  {
   "cell_type": "markdown",
   "id": "80c9c516-7819-48c7-a119-9980f7dd1129",
   "metadata": {},
   "source": [
    " Step 8: Feature Engineering"
   ]
  },
  {
   "cell_type": "raw",
   "id": "bb6f2d4e-176f-4546-814a-93885517789a",
   "metadata": {},
   "source": [
    "df_groupby['total_deaths_to_total_cases'] = df_groupby['total_deaths'] / df_groupby['total_cases']\n"
   ]
  },
  {
   "cell_type": "markdown",
   "id": "bf631a2e-6b5f-424e-9002-879ae34f7677",
   "metadata": {},
   "source": [
    " Step 9: Data Visualization"
   ]
  },
  {
   "cell_type": "raw",
   "id": "10cecbb9-9845-4534-aebc-94277b6795b1",
   "metadata": {},
   "source": [
    "import seaborn as sns\n",
    "import matplotlib.pyplot as plt\n",
    "\n",
    "# a. Histogram for 'gdp_per_capita'\n",
    "sns.histplot(df['gdp_per_capita'], kde=True)\n",
    "plt.title('Distribution of GDP per Capita')\n",
    "plt.show()\n",
    "\n",
    "# b. Scatter plot of 'total_cases' vs 'gdp_per_capita'\n",
    "sns.scatterplot(x='total_cases', y='gdp_per_capita', data=df)\n",
    "plt.title('Total Cases vs GDP per Capita')\n",
    "plt.show()\n",
    "\n",
    "# c. Pairplot\n",
    "sns.pairplot(df_groupby)\n",
    "plt.show()\n",
    "\n",
    "# d. Bar plot of 'continent' vs 'total_cases'\n",
    "sns.catplot(x='continent', y='total_cases', data=df_groupby, kind='bar')\n",
    "plt.title('Total Cases by Continent')\n",
    "plt.show()\n"
   ]
  },
  {
   "cell_type": "markdown",
   "id": "d42753b7-c96d-41d4-bf8a-c38ba8ee4fcd",
   "metadata": {},
   "source": [
    "Step 10: Save the df_groupby to CSV"
   ]
  },
  {
   "cell_type": "raw",
   "id": "1f58b8ba-30d0-481d-8bf7-ade754835679",
   "metadata": {},
   "source": [
    "df_groupby.to_csv('df_groupby.csv', index=False)\n"
   ]
  },
  {
   "cell_type": "code",
   "execution_count": null,
   "id": "1b597703-1787-449c-afa8-36f7ab621add",
   "metadata": {},
   "outputs": [],
   "source": []
  },
  {
   "cell_type": "code",
   "execution_count": null,
   "id": "5c3b40f1-8e54-4279-b49a-4a6bb8406571",
   "metadata": {},
   "outputs": [],
   "source": []
  },
  {
   "cell_type": "code",
   "execution_count": null,
   "id": "2cdf34ec-96b3-4a0d-9cd3-a036e81c9bfb",
   "metadata": {},
   "outputs": [],
   "source": []
  },
  {
   "cell_type": "code",
   "execution_count": null,
   "id": "8bd448a5-5579-46bd-b9e0-74fdf9e9cb76",
   "metadata": {},
   "outputs": [],
   "source": []
  },
  {
   "cell_type": "code",
   "execution_count": null,
   "id": "d22f3c7e-a08f-404c-bdd9-f650347c2c04",
   "metadata": {},
   "outputs": [],
   "source": []
  },
  {
   "cell_type": "code",
   "execution_count": null,
   "id": "92783425-d5ee-4a48-aae5-8bcd46b2483b",
   "metadata": {},
   "outputs": [],
   "source": []
  },
  {
   "cell_type": "code",
   "execution_count": null,
   "id": "eef0b34e-91bd-4efe-8e02-ff30e9f7bf22",
   "metadata": {},
   "outputs": [],
   "source": []
  },
  {
   "cell_type": "code",
   "execution_count": null,
   "id": "fba13e37-86db-484c-95c2-fa1e4190cf99",
   "metadata": {},
   "outputs": [],
   "source": []
  },
  {
   "cell_type": "code",
   "execution_count": null,
   "id": "8b1acbd2-2205-4a78-bc94-0d22b60a4a86",
   "metadata": {},
   "outputs": [],
   "source": []
  }
 ],
 "metadata": {
  "kernelspec": {
   "display_name": "Python [conda env:anaconda3]",
   "language": "python",
   "name": "conda-env-anaconda3-py"
  },
  "language_info": {
   "codemirror_mode": {
    "name": "ipython",
    "version": 3
   },
   "file_extension": ".py",
   "mimetype": "text/x-python",
   "name": "python",
   "nbconvert_exporter": "python",
   "pygments_lexer": "ipython3",
   "version": "3.12.7"
  }
 },
 "nbformat": 4,
 "nbformat_minor": 5
}
