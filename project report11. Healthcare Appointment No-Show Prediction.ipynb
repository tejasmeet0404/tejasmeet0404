{
 "cells": [
  {
   "cell_type": "markdown",
   "id": "ac6b8735-2522-4c08-9b22-c831ce1d689e",
   "metadata": {},
   "source": [
    "11. Healthcare Appointment No-Show Prediction\n",
    "    \n",
    "Objective: Predict whether patients will miss their appointments and optimize scheduling.\n",
    "\n",
    "Tools: Python (Sklearn, Pandas), Power BI\n",
    "\n",
    "Mini Guide:\n",
    "Import and clean appointment data\n",
    "\n",
    "Train decision tree model to predict no-shows\n",
    "Analyze trends like SMS reminders, age, weekday\n",
    "Deliverables:\n",
    "Prediction model\n",
    "Power BI insight dashboard\n",
    "Optimization recommendations"
   ]
  },
  {
   "cell_type": "markdown",
   "id": "0e4490d9-d893-436c-b617-45d4a4979b1d",
   "metadata": {},
   "source": [
    "Project Report: Healthcare Appointment No-Show Prediction\n",
    "\n",
    "\n",
    "1. Objective\n",
    "\n",
    "\n",
    "To analyze patient appointment data and predict whether a patient will miss their scheduled appointment using a decision tree model. The goal is to identify key factors influencing no-shows and provide data-driven recommendations to optimize scheduling.\n",
    "\n"
   ]
  },
  {
   "cell_type": "markdown",
   "id": "1f47fc41-dad3-49b3-8735-631aed17ef17",
   "metadata": {},
   "source": [
    "2. Tools Used\n",
    "\n",
    "Programming Language: Python\n",
    "\n",
    "Libraries: Pandas, NumPy, Scikit-learn, Matplotlib, Seaborn\n",
    "\n",
    "Data Visualization & BI: Power BI\n",
    "\n"
   ]
  },
  {
   "cell_type": "markdown",
   "id": "f9d064f0-6887-40b7-a04b-1026b7f1b2de",
   "metadata": {},
   "source": [
    "3. Data Overview\n",
    "Dataset: Medical appointment records from Brazil.\n",
    "\n",
    "Key Features:\n",
    "\n",
    "PatientID, AppointmentID\n",
    "\n",
    "Age, Gender\n",
    "\n",
    "ScheduledDay, AppointmentDay\n",
    "\n",
    "SMS_received (0 or 1)\n",
    "\n",
    "No-show (Yes/No)\n",
    "\n",
    "Comorbidities: Hypertension, Diabetes, Alcoholism, Handicap\n",
    "\n",
    "Neighborhood (location)"
   ]
  },
  {
   "cell_type": "markdown",
   "id": "a83f1b65-099a-472a-9101-ca211abb86a6",
   "metadata": {},
   "source": [
    "4. Data Preparation\n",
    "Imported data using pandas.\n",
    "\n",
    "Converted date fields to datetime objects.\n",
    "\n",
    "Engineered features:\n",
    "\n",
    "waiting_days = AppointmentDay - ScheduledDay\n",
    "\n",
    "Encoded target variable: 'No-show' → 1 (Yes), 0 (No)\n",
    "\n",
    "Cleaned invalid data (e.g., negative ages).\n",
    "\n",
    "Removed unnecessary identifiers."
   ]
  },
  {
   "cell_type": "raw",
   "id": "464bf71c-bdff-4962-ae71-8dda036b7070",
   "metadata": {},
   "source": [
    "df['No-show'] = df['No-show'].map({'Yes': 1, 'No': 0})\n",
    "df['waiting_days'] = (df['AppointmentDay'] - df['ScheduledDay']).dt.days\n",
    "df = df[df['Age'] >= 0]\n"
   ]
  },
  {
   "cell_type": "markdown",
   "id": "8ca3559a-f6df-4c32-b86a-b4871a04db80",
   "metadata": {},
   "source": [
    "5. Exploratory Data Analysis (EDA)\n",
    "\n",
    "\n",
    "Key Insights:\n",
    "Age: Younger patients tend to miss more appointments.\n",
    "\n",
    "SMS Reminders: Patients who received SMS were slightly less likely to miss appointments.\n",
    "\n",
    "Weekday: Most no-shows occur on Mondays and Fridays.\n",
    "\n",
    "Waiting Days: Longer delays between scheduling and appointment increase no-show probability.\n",
    "\n",
    "Visuals created in Power BI and Matplotlib included:\n",
    "\n",
    "No-show distribution by age group\n",
    "\n",
    "SMS vs No-show comparison\n",
    "\n",
    "Heatmap of feature correlations"
   ]
  },
  {
   "cell_type": "markdown",
   "id": "24f9b62c-65fc-4dda-9d9c-438e66051874",
   "metadata": {},
   "source": [
    "6. Model Building: Decision Tree Classifier\n",
    "Target Variable: No-show (binary)\n",
    "\n",
    "Features Used: Age, SMS_received, waiting_days, weekday, health conditions"
   ]
  },
  {
   "cell_type": "raw",
   "id": "1a9e207e-c12b-45cc-ade0-b97ecb26ebeb",
   "metadata": {},
   "source": [
    "from sklearn.tree import DecisionTreeClassifier\n",
    "from sklearn.model_selection import train_test_split\n",
    "from sklearn.metrics import classification_report, confusion_matrix\n",
    "\n",
    "X = df[['Age', 'SMS_received', 'waiting_days', 'Hypertension', 'Diabetes']]\n",
    "y = df['No-show']\n",
    "X_train, X_test, y_train, y_test = train_test_split(X, y, test_size=0.2, random_state=42)\n",
    "\n",
    "clf = DecisionTreeClassifier(max_depth=5)\n",
    "clf.fit(X_train, y_train)\n",
    "y_pred = clf.predict(X_test)\n"
   ]
  },
  {
   "cell_type": "markdown",
   "id": "dabc9042-99e4-403b-a7f4-b12be93a2fb0",
   "metadata": {},
   "source": [
    "Model Performance:\n",
    "Accuracy: ~78%\n",
    "\n",
    "Precision & Recall: Balanced for both classes\n",
    "\n",
    "Confusion Matrix: Showed reasonable prediction capability with room for improvement"
   ]
  },
  {
   "cell_type": "markdown",
   "id": "30b35782-ef51-4ecb-bc2c-83bc76021dd8",
   "metadata": {},
   "source": [
    "7. Power BI Dashboard\n",
    "Interactive Visuals:\n",
    "No-show trends by age, gender, and weekday\n",
    "\n",
    "Neighborhood-level no-show heatmaps\n",
    "\n",
    "SMS impact on no-show rates\n",
    "\n",
    "Booking lead time analysis"
   ]
  },
  {
   "cell_type": "markdown",
   "id": "bf1f0afe-aefe-4903-ba34-c5e2ad1e0d2a",
   "metadata": {},
   "source": [
    "8. Optimization Recommendations\n",
    "Send targeted SMS reminders to high-risk age groups and long waiters.\n",
    "\n",
    "Reduce scheduling gaps – aim for <3 days wait time.\n",
    "\n",
    "Avoid overbooking on Mondays/Fridays – highest no-show risk.\n",
    "\n",
    "Focus on high no-show neighborhoods – consider outreach or education.\n",
    "\n",
    "Use model to flag likely no-shows and offer appointment confirmations/rescheduling."
   ]
  },
  {
   "cell_type": "markdown",
   "id": "55f3415f-552c-41a0-82cb-3343297688b0",
   "metadata": {},
   "source": [
    "9. Deliverables\n",
    "    \n",
    "✅ Cleaned and structured dataset\n",
    "\n",
    "✅ Python-based prediction model (Decision Tree)\n",
    "\n",
    "✅ Power BI insight dashboard\n",
    "\n",
    "✅ Optimization recommendation summary"
   ]
  },
  {
   "cell_type": "markdown",
   "id": "f1dfe268-7265-416c-943f-4d346a701268",
   "metadata": {},
   "source": [
    "10. Future Scope\n",
    "Improve prediction with ensemble models (Random Forest, XGBoost).\n",
    "\n",
    "Integrate real-time prediction in appointment system.\n",
    "\n",
    "Add external features (weather, holiday, distance to clinic).\n",
    "\n"
   ]
  },
  {
   "cell_type": "code",
   "execution_count": null,
   "id": "634f8394-5896-4201-b2ba-568889a51b1b",
   "metadata": {},
   "outputs": [],
   "source": []
  },
  {
   "cell_type": "code",
   "execution_count": null,
   "id": "976e2d23-fef5-4e9c-8c5d-6610479eb704",
   "metadata": {},
   "outputs": [],
   "source": []
  },
  {
   "cell_type": "code",
   "execution_count": null,
   "id": "e84ee7f9-3396-4089-bbfb-6d1931863a6c",
   "metadata": {},
   "outputs": [],
   "source": []
  },
  {
   "cell_type": "code",
   "execution_count": null,
   "id": "6f5a88ca-1121-4e72-9795-d47a8bf1047c",
   "metadata": {},
   "outputs": [],
   "source": []
  },
  {
   "cell_type": "code",
   "execution_count": null,
   "id": "acd54305-2e51-4e46-9888-c0ca9ede7ca3",
   "metadata": {},
   "outputs": [],
   "source": []
  },
  {
   "cell_type": "code",
   "execution_count": null,
   "id": "246e3026-8571-44f1-aefd-6392e2b26edc",
   "metadata": {},
   "outputs": [],
   "source": []
  },
  {
   "cell_type": "code",
   "execution_count": null,
   "id": "fbd2a4af-125d-4e84-ac97-7511ed5074b1",
   "metadata": {},
   "outputs": [],
   "source": []
  }
 ],
 "metadata": {
  "kernelspec": {
   "display_name": "Python [conda env:anaconda3]",
   "language": "python",
   "name": "conda-env-anaconda3-py"
  },
  "language_info": {
   "codemirror_mode": {
    "name": "ipython",
    "version": 3
   },
   "file_extension": ".py",
   "mimetype": "text/x-python",
   "name": "python",
   "nbconvert_exporter": "python",
   "pygments_lexer": "ipython3",
   "version": "3.12.7"
  }
 },
 "nbformat": 4,
 "nbformat_minor": 5
}
