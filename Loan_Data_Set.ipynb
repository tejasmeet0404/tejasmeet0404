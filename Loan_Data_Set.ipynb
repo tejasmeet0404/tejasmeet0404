{
  "cells": [
    {
      "cell_type": "code",
      "execution_count": null,
      "id": "24de2314",
      "metadata": {
        "id": "24de2314"
      },
      "outputs": [],
      "source": []
    },
    {
      "cell_type": "code",
      "execution_count": null,
      "id": "0f2cea19",
      "metadata": {
        "id": "0f2cea19",
        "outputId": "9b589fa3-d970-4dd3-9cd1-e1fee624b470"
      },
      "outputs": [
        {
          "name": "stdout",
          "output_type": "stream",
          "text": [
            "0.8506493506493507\n",
            "[[ 23  20]\n",
            " [  3 108]]\n"
          ]
        },
        {
          "name": "stderr",
          "output_type": "stream",
          "text": [
            "/opt/anaconda3/lib/python3.9/site-packages/sklearn/linear_model/_logistic.py:469: ConvergenceWarning: lbfgs failed to converge (status=1):\n",
            "STOP: TOTAL NO. of ITERATIONS REACHED LIMIT.\n",
            "\n",
            "Increase the number of iterations (max_iter) or scale the data as shown in:\n",
            "    https://scikit-learn.org/stable/modules/preprocessing.html\n",
            "Please also refer to the documentation for alternative solver options:\n",
            "    https://scikit-learn.org/stable/modules/linear_model.html#logistic-regression\n",
            "  n_iter_i = _check_optimize_result(\n"
          ]
        }
      ],
      "source": [
        "import pandas as pd\n",
        "df=pd.read_csv(\"/Users/meghaprajapati/Downloads/loan_data_set.csv\")\n",
        "\n",
        "df.isnull().sum()\n",
        "\n",
        "df.fillna(method=\"ffill\",inplace=True)\n",
        "df.fillna(method=\"bfill\",inplace=True)\n",
        "\n",
        "df1=pd.get_dummies(df,columns=[\"Gender\",\"Married\",\"Dependents\",\"Education\",\"Self_Employed\",\"Property_Area\",\"Loan_Status\"])\n",
        "\n",
        "df1.dtypes\n",
        "df1.drop(\"Gender_Female\",axis=1,inplace=True)\n",
        "df1.drop(\"Married_No\",axis=1,inplace=True)\n",
        "df1.drop(\"Education_Graduate\",axis=1,inplace=True)\n",
        "df1.drop(\"Self_Employed_No\",axis=1,inplace=True)\n",
        "df1.drop(\"Property_Area_Rural\",axis=1,inplace=True)\n",
        "df1.drop(\"Loan_Status_N\",axis=1,inplace=True)\n",
        "df1.drop(\"Dependents_3+\",axis=1,inplace=True)\n",
        "\n",
        "\n",
        "x=df1.iloc[:,2:15]\n",
        "y=df1.iloc[:,-1]\n",
        "\n",
        "from sklearn.model_selection import train_test_split\n",
        "x_train,x_test,y_train,y_test=train_test_split(x,y,test_size=0.25,random_state=(0))\n",
        "\n",
        "from sklearn.linear_model import LogisticRegression\n",
        "m1=LogisticRegression()\n",
        "m1.fit(x_train, y_train)\n",
        "y_pred=m1.predict(x_test)\n",
        "\n",
        "from sklearn.metrics import accuracy_score,confusion_matrix\n",
        "acc=accuracy_score(y_test, y_pred)\n",
        "c=confusion_matrix(y_test,y_pred)\n",
        "print(acc)\n",
        "print(c)\n"
      ]
    }
  ],
  "metadata": {
    "kernelspec": {
      "display_name": "Python 3 (ipykernel)",
      "language": "python",
      "name": "python3"
    },
    "language_info": {
      "codemirror_mode": {
        "name": "ipython",
        "version": 3
      },
      "file_extension": ".py",
      "mimetype": "text/x-python",
      "name": "python",
      "nbconvert_exporter": "python",
      "pygments_lexer": "ipython3",
      "version": "3.9.12"
    },
    "colab": {
      "provenance": []
    }
  },
  "nbformat": 4,
  "nbformat_minor": 5
}