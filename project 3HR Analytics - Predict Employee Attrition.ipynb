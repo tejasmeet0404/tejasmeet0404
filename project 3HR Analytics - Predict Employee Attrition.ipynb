{
 "cells": [
  {
   "cell_type": "markdown",
   "id": "f70493f3-3776-453a-b3f9-a89fc0505166",
   "metadata": {},
   "source": [
    "project3-HR Analytics - Predict Employee Attrition"
   ]
  },
  {
   "cell_type": "markdown",
   "id": "0aa40461-ed47-456d-ac37-7190b8b098fe",
   "metadata": {},
   "source": [
    " 1. Exploratory Data Analysis (EDA)\n",
    "\n",
    "Tools: Python (Pandas, Seaborn)"
   ]
  },
  {
   "cell_type": "markdown",
   "id": "28cf7a59-0291-4ade-9526-a84e7f1d73c2",
   "metadata": {},
   "source": [
    "Steps:\n",
    "Load & clean data: Check for null values, outliers, and data types.\n",
    "\n",
    "Univariate Analysis:\n",
    "\n",
    "Plot attrition rate by department\n",
    "\n",
    "Attrition vs. salary bands (Low/Medium/High)\n",
    "\n",
    "Promotion history vs. attrition\n",
    "\n",
    "Bivariate Analysis:\n",
    "\n",
    "Correlation heatmap (Seaborn)\n",
    "\n",
    "Crosstabs for categorical features (e.g., promotion_last_5years, satisfaction_level, salary)"
   ]
  },
  {
   "cell_type": "markdown",
   "id": "c1a6cdc2-13b4-4388-97b2-ccac7e340eb0",
   "metadata": {},
   "source": [
    "Sample Code:"
   ]
  },
  {
   "cell_type": "raw",
   "id": "bc39529a-f0e3-4dca-a3a6-fd404b38863f",
   "metadata": {},
   "source": [
    "import pandas as pd\n",
    "import seaborn as sns\n",
    "import matplotlib.pyplot as plt\n",
    "\n",
    "df = pd.read_csv(\"HR_data.csv\")\n",
    "\n",
    "# Attrition by department\n",
    "sns.countplot(x='department', hue='left', data=df)\n",
    "plt.title('Attrition by Department')\n",
    "\n",
    "# Salary band vs attrition\n",
    "sns.countplot(x='salary', hue='left', data=df)\n",
    "plt.title('Attrition vs Salary')\n"
   ]
  },
  {
   "cell_type": "markdown",
   "id": "fbcb2481-1540-4245-9752-96adf9b47f7d",
   "metadata": {},
   "source": [
    "2. Classification Model\n",
    "\n",
    "Tools: Python (Sklearn)"
   ]
  },
  {
   "cell_type": "raw",
   "id": "63dda563-5061-4b67-a693-504a156114c4",
   "metadata": {},
   "source": [
    "Steps:\n",
    "Encode categorical features\n",
    "\n",
    "Train-test split\n",
    "\n",
    "Build and evaluate Logistic Regression and Decision Tree\n",
    "\n",
    "Evaluate with accuracy, precision, recall, and confusion matrix"
   ]
  },
  {
   "cell_type": "raw",
   "id": "585e4a9d-d944-4fcf-8d45-448557f60f4b",
   "metadata": {},
   "source": [
    "from sklearn.model_selection import train_test_split\n",
    "from sklearn.tree import DecisionTreeClassifier\n",
    "from sklearn.metrics import classification_report, confusion_matrix\n",
    "\n",
    "X = df.drop(['left'], axis=1)  # feature columns\n",
    "y = df['left']\n",
    "\n",
    "X = pd.get_dummies(X, drop_first=True)  # Encode categoricals\n",
    "\n",
    "X_train, X_test, y_train, y_test = train_test_split(X, y, test_size=0.2)\n",
    "\n",
    "model = DecisionTreeClassifier()\n",
    "model.fit(X_train, y_train)\n",
    "\n",
    "y_pred = model.predict(X_test)\n",
    "\n",
    "print(confusion_matrix(y_test, y_pred))\n",
    "print(classification_report(y_test, y_pred))\n"
   ]
  },
  {
   "cell_type": "markdown",
   "id": "b2a53bd9-a9cb-40ab-b270-202d92b06a49",
   "metadata": {},
   "source": [
    " 3. SHAP Value Analysis\n",
    "\n",
    "Tools: Python (SHAP)\n",
    "\n",
    "Steps:\n",
    "Use SHAP to explain individual predictions\n",
    "\n",
    "Visualize feature importance"
   ]
  },
  {
   "cell_type": "raw",
   "id": "d9259c70-2821-4f08-87a3-c1e75280ba71",
   "metadata": {},
   "source": [
    "import shap\n",
    "\n",
    "explainer = shap.TreeExplainer(model)\n",
    "shap_values = explainer.shap_values(X_test)\n",
    "\n",
    "shap.summary_plot(shap_values, X_test)\n"
   ]
  },
  {
   "cell_type": "markdown",
   "id": "373dd07b-8b5e-4b63-82b5-032c46b205a7",
   "metadata": {},
   "source": [
    " 4. Power BI Dashboard\n",
    "\n",
    "Tools: Power BI\n",
    "\n",
    "Suggested Visuals:\n",
    "Department-wise attrition rates\n",
    "\n",
    "Attrition by salary and promotion\n",
    "\n",
    "Overall KPIs (attrition rate %, avg satisfaction)\n",
    "\n",
    "Top 5 features influencing attrition (from SHAP or model feature importance)"
   ]
  },
  {
   "cell_type": "markdown",
   "id": "c1e8c959-8f94-4a1f-8176-73bbb7ad99fd",
   "metadata": {},
   "source": [
    "Data Preparation:\n",
    "Export processed data and SHAP feature importances to CSV from Python\n",
    "\n",
    "Load into Power BI for dashboard creation"
   ]
  },
  {
   "cell_type": "markdown",
   "id": "edaf50d8-91d1-4157-bc49-0ba322e026cf",
   "metadata": {},
   "source": [
    "5. Deliverables\n",
    "Power BI Dashboard\n",
    "Save as .pbix file\n",
    "\n",
    "Include interactive filters (department, salary level)\n",
    "\n",
    "Model Accuracy Report\n",
    "Include:\n",
    "\n",
    "Model used (Logistic / Decision Tree)\n",
    "\n",
    "Accuracy, Precision, Recall\n",
    "\n",
    "Confusion matrix (as table or heatmap)\n",
    "\n",
    " PDF: Attrition Prevention Suggestions\n",
    "Structure:\n",
    "\n",
    "Executive Summary\n",
    "\n",
    "Key Findings\n",
    "\n",
    "E.g., \"High attrition in Sales and Low Salary Band\"\n",
    "\n",
    "Recommendations\n",
    "\n",
    "Increase engagement programs for high-risk departments\n",
    "\n",
    "Review compensation structure\n",
    "\n",
    "Provide growth opportunities (promotions/training)\n",
    "\n",
    "Data-Driven Support\n",
    "\n",
    "Include SHAP feature impact plots\n",
    "\n"
   ]
  },
  {
   "cell_type": "markdown",
   "id": "d1255782-fab1-43ae-b955-006ec184ca3f",
   "metadata": {},
   "source": [
    "TOP 50 INTERVIEW QUESTIONS FOR DATA ANALYST"
   ]
  },
  {
   "cell_type": "markdown",
   "id": "8be30101-2d80-4c0c-911f-ddc582b9108b",
   "metadata": {},
   "source": [
    "1.What are the key differences between inner join and outer join in SQL?"
   ]
  },
  {
   "cell_type": "markdown",
   "id": "695fa713-b465-44c2-8223-99488f9f1299",
   "metadata": {},
   "source": [
    "Ans:Inner Join vs Outer Join in SQL\n",
    "Inner Join: Returns only matching rows between tables.\n",
    "\n",
    "Outer Join: Returns all records from one or both tables, filling in NULLs where there's no match (Left, Right, or Full)."
   ]
  },
  {
   "cell_type": "markdown",
   "id": "fcf78224-fc0b-4b36-abf7-0290815e0e62",
   "metadata": {},
   "source": [
    "2.How do you handle missing data in a dataset?"
   ]
  },
  {
   "cell_type": "markdown",
   "id": "dc1ac6ce-ba44-49b9-a791-0232c67df235",
   "metadata": {},
   "source": [
    "Ans:Handling Missing Data\n",
    "Drop rows/columns with missing values\n",
    "\n",
    "Impute using mean, median, mode, or model-based approaches\n",
    "\n",
    "Use indicators for missingness if valuable"
   ]
  },
  {
   "cell_type": "markdown",
   "id": "2dfd279d-7811-4cb1-9961-a47c57499a70",
   "metadata": {},
   "source": [
    "3.What is the difference between variance and standard deviation?"
   ]
  },
  {
   "cell_type": "markdown",
   "id": "bce6d769-7bd9-400d-bc11-29e644aba1b1",
   "metadata": {},
   "source": [
    "Ans:Variance vs Standard Deviation\n",
    "Variance: Measures spread of data squared from the mean.\n",
    "\n",
    "Standard Deviation: Square root of variance; in same unit as data."
   ]
  },
  {
   "cell_type": "markdown",
   "id": "df33a3c2-69bb-444c-9801-ff65b67d7f7e",
   "metadata": {},
   "source": [
    "4.Explain the concept of normalization in databases."
   ]
  },
  {
   "cell_type": "markdown",
   "id": "3c861fd0-4e2e-455f-987f-4a341cb66266",
   "metadata": {},
   "source": [
    "Ans:Normalization in Databases\n",
    "Organizing data to reduce redundancy and dependency using forms (1NF, 2NF, etc.).\n",
    "\n"
   ]
  },
  {
   "cell_type": "markdown",
   "id": "a2dd0262-8292-4d3e-ac6c-2e5267e1dd5a",
   "metadata": {},
   "source": [
    "5.What is the role of a primary key in a relational database?"
   ]
  },
  {
   "cell_type": "markdown",
   "id": "297fe593-d610-4522-a4c3-99a68fbdeb91",
   "metadata": {},
   "source": [
    "Ans:Primary Key Role\n",
    "Uniquely identifies each record in a table.\n",
    "\n",
    "Enforces entity integrity."
   ]
  },
  {
   "cell_type": "markdown",
   "id": "e13a2b9b-7d5d-4336-8ec3-4a054ae6132c",
   "metadata": {},
   "source": [
    "6.How would you detect outliers in a dataset?"
   ]
  },
  {
   "cell_type": "markdown",
   "id": "d6eb053e-3b10-4217-8c52-554bc036b31d",
   "metadata": {},
   "source": [
    "Detecting Outliers\n",
    "Statistical methods: Z-score, IQR\n",
    "\n",
    "Visualization: Box plots, scatter plots\n",
    "\n",
    "ML-based: Isolation Forest, DBSCAN\n",
    "\n"
   ]
  },
  {
   "cell_type": "markdown",
   "id": "b6ab9da4-b23d-4f7c-b3c3-d9ce74a318b3",
   "metadata": {},
   "source": [
    "7.What is data wrangling and why is it important?"
   ]
  },
  {
   "cell_type": "markdown",
   "id": "965e704a-7f3e-4810-909b-4255a1557f39",
   "metadata": {},
   "source": [
    "Data Wrangling\n",
    "The process of cleaning and transforming raw data into usable formats.\n",
    "\n",
    "Essential for analysis accuracy."
   ]
  },
  {
   "cell_type": "markdown",
   "id": "0be1a0b6-72d7-4fba-bf53-9514ae62b448",
   "metadata": {},
   "source": [
    "8.Describe a situation where you used data to solve a business problem."
   ]
  },
  {
   "cell_type": "markdown",
   "id": "1e332d91-d9a7-48f3-a5bb-b57de1e5b43a",
   "metadata": {},
   "source": [
    "Example of Solving a Business Problem\n",
    "Reduced churn by 15% using a classification model that identified high-risk users based on engagement data."
   ]
  },
  {
   "cell_type": "markdown",
   "id": "a8579772-861f-416d-8225-2a54e775ccc0",
   "metadata": {},
   "source": [
    "9.What is the difference between a clustered and non-clustered index?"
   ]
  },
  {
   "cell_type": "markdown",
   "id": "dfad2715-9af5-4743-b530-351b5352736f",
   "metadata": {},
   "source": [
    "Ans:Clustered vs Non-Clustered Index\n",
    "Clustered: Sorts the actual data rows in table.\n",
    "\n",
    "Non-clustered: Separate from data, stores pointers."
   ]
  },
  {
   "cell_type": "markdown",
   "id": "6f3d300e-b7ba-4d26-aa09-41aaf2c809c4",
   "metadata": {},
   "source": [
    "10.Explain the difference between supervised and unsupervised learning."
   ]
  },
  {
   "cell_type": "markdown",
   "id": "a7c24ddc-fa58-4f27-8cac-9786a546bdbf",
   "metadata": {},
   "source": [
    "Ans:Supervised vs Unsupervised Learning\n",
    "Supervised: Labeled data (e.g., classification, regression)\n",
    "\n",
    "Unsupervised: No labels (e.g., clustering, PCA)"
   ]
  },
  {
   "cell_type": "markdown",
   "id": "f22ef444-a36c-402f-b391-f49441d4abd6",
   "metadata": {},
   "source": [
    "11.What is the purpose of the GROUP BY clause in SQL?"
   ]
  },
  {
   "cell_type": "markdown",
   "id": "e253c3f7-5d73-4a61-aef9-24327978d637",
   "metadata": {},
   "source": [
    "Ans:GROUP BY in SQL\n",
    "Aggregates data by one or more columns (e.g., SUM(sales) GROUP BY region)"
   ]
  },
  {
   "cell_type": "markdown",
   "id": "5a3d5256-261d-4432-aabc-98d1cc4594cb",
   "metadata": {},
   "source": [
    "12.How do you handle duplicate data entries in a dataset?"
   ]
  },
  {
   "cell_type": "markdown",
   "id": "f054e31e-1e47-4d6a-82e5-3bee36793793",
   "metadata": {},
   "source": [
    "Ans:Handling Duplicate Data\n",
    "Use drop_duplicates(), DISTINCT in SQL, or de-dupe based on key fields."
   ]
  },
  {
   "cell_type": "markdown",
   "id": "92bd6e0f-8990-4e2f-9102-7b8f6fe47f0a",
   "metadata": {},
   "source": [
    "13.What is a pivot table and how have you used it?"
   ]
  },
  {
   "cell_type": "markdown",
   "id": "56dbeff1-397d-4fac-af52-26f723e6f192",
   "metadata": {},
   "source": [
    "Ans:Pivot Table\n",
    "A table summarizing data (e.g., totals, averages) based on rows and columns.\n",
    "\n",
    "Used in Excel or Python (pandas.pivot_table())\n",
    "\n"
   ]
  },
  {
   "cell_type": "markdown",
   "id": "f4dd95b2-e01e-4cbd-ab0d-a337ded61689",
   "metadata": {},
   "source": [
    "14.Explain the differences between a bar chart and a histogram."
   ]
  },
  {
   "cell_type": "markdown",
   "id": "39df2db7-979b-4b6d-b630-3e56b8a89811",
   "metadata": {},
   "source": [
    "Ans:Bar Chart vs Histogram\n",
    "Bar Chart: For categorical data.\n",
    "\n",
    "Histogram: For continuous data distribution."
   ]
  },
  {
   "cell_type": "markdown",
   "id": "73c595ff-62e1-41fa-aa20-177325f857ec",
   "metadata": {},
   "source": [
    "15.How do you optimize a slow SQL query?"
   ]
  },
  {
   "cell_type": "markdown",
   "id": "14823dee-a281-42cc-9243-ad7443a42ea7",
   "metadata": {},
   "source": [
    "Ans:Optimize a Slow SQL Query\n",
    "Use indexes, avoid SELECT *, optimize joins, analyze query plan.\n",
    "\n"
   ]
  },
  {
   "cell_type": "markdown",
   "id": "7baa48c3-c311-44cf-9c62-c597b704dab2",
   "metadata": {},
   "source": [
    "16.What are the common KPIs used in business analysis?"
   ]
  },
  {
   "cell_type": "markdown",
   "id": "e0eaf6bd-9237-4ca5-a852-a9cd4b251fbc",
   "metadata": {},
   "source": [
    "Ans:Common KPIs\n",
    "Revenue, conversion rate, churn, NPS, average order value, retention rate."
   ]
  },
  {
   "cell_type": "markdown",
   "id": "0ecf328b-d8b3-44d7-993e-3b7f7ad09de9",
   "metadata": {},
   "source": [
    "17.What is A/B testing and how is it used in data analysis?"
   ]
  },
  {
   "cell_type": "markdown",
   "id": "0a2fe04d-484a-4598-a7f8-5de8c793f665",
   "metadata": {},
   "source": [
    "Ans:A/B Testing\n",
    "Controlled experiment to compare two versions (A vs B) and measure impact."
   ]
  },
  {
   "cell_type": "markdown",
   "id": "a133df6f-8c8d-4da5-a0f6-5b4cd0fc001e",
   "metadata": {},
   "source": [
    "18.How do you ensure data accuracy and integrity in a project?"
   ]
  },
  {
   "cell_type": "markdown",
   "id": "d7d3a7b0-37c3-443b-9ed7-78d73e16a1db",
   "metadata": {},
   "source": [
    "Ans:Ensuring Data Accuracy\n",
    "Validation rules, audits, data quality checks, version control."
   ]
  },
  {
   "cell_type": "markdown",
   "id": "4ef16f36-dbf8-40fc-a796-a50faafadcc3",
   "metadata": {},
   "source": [
    "19.What is a correlation matrix and how do you interpret it?"
   ]
  },
  {
   "cell_type": "markdown",
   "id": "fcf8bb8c-9d96-4dc0-a67f-467efdab61eb",
   "metadata": {},
   "source": [
    "Ans:Correlation Matrix\n",
    "Shows pairwise correlation (Pearson usually). Values close to ±1 indicate strong linear relationships."
   ]
  },
  {
   "cell_type": "markdown",
   "id": "b68b5cf3-b951-4da7-bdec-93ae1e6ea8e1",
   "metadata": {},
   "source": [
    "20.What is the difference between correlation and causation?"
   ]
  },
  {
   "cell_type": "markdown",
   "id": "e59e4671-30a3-4154-9a63-b65d106e254a",
   "metadata": {},
   "source": [
    "Ans:Correlation vs Causation\n",
    "Correlation: Relationship, not necessarily cause.\n",
    "\n",
    "Causation: One variable directly affects another."
   ]
  },
  {
   "cell_type": "markdown",
   "id": "1c2e47b2-276e-42d3-bc03-a2772d1019cd",
   "metadata": {},
   "source": [
    "21.Describe a data project where you used Python."
   ]
  },
  {
   "cell_type": "markdown",
   "id": "12da3b23-2384-48e6-8706-1d9898caa227",
   "metadata": {},
   "source": [
    "Ans:Python Project Example\n",
    "Built an attrition prediction model using pandas, sklearn, SHAP, and Power BI."
   ]
  },
  {
   "cell_type": "markdown",
   "id": "01a89723-4b59-4683-a420-40c7f36891e7",
   "metadata": {},
   "source": [
    "22.What libraries do you use for data analysis in Python?"
   ]
  },
  {
   "cell_type": "markdown",
   "id": "ffdad614-8b28-4d2d-8b2e-85a44bd04a26",
   "metadata": {},
   "source": [
    "Ans:Python Libraries\n",
    "Pandas, Numpy, Matplotlib, Seaborn, Scikit-learn, SHAP, Statsmodels"
   ]
  },
  {
   "cell_type": "markdown",
   "id": "cf5d3c52-f5fb-484a-85d2-6d5c2920ac04",
   "metadata": {},
   "source": [
    "23.Explain the use of Pandas groupby() function."
   ]
  },
  {
   "cell_type": "markdown",
   "id": "782bafea-d9ea-4094-818a-f6b64379c9e8",
   "metadata": {},
   "source": [
    "Ans:groupby() in Pandas\n",
    "Groups data based on keys and performs aggregation."
   ]
  },
  {
   "cell_type": "raw",
   "id": "84f8b9f5-b44c-4c12-8360-f929659fd0c6",
   "metadata": {},
   "source": [
    "df.groupby('department')['salary'].mean()\n"
   ]
  },
  {
   "cell_type": "markdown",
   "id": "6d3331c6-a422-4820-a48e-311b4ec44380",
   "metadata": {},
   "source": [
    "24.How do you deal with imbalanced datasets?"
   ]
  },
  {
   "cell_type": "markdown",
   "id": "62137c7a-cd63-4ce7-832f-898b5d553dc9",
   "metadata": {},
   "source": [
    "Ans:Dealing with Imbalanced Datasets\n",
    "Resampling (SMOTE, undersampling), class weights, anomaly detection techniques."
   ]
  },
  {
   "cell_type": "markdown",
   "id": "3bc9b296-0cf5-41eb-bc4a-119f2f672875",
   "metadata": {},
   "source": [
    "25.What are the steps of a typical data analysis pipeline?"
   ]
  },
  {
   "cell_type": "markdown",
   "id": "7821a859-b518-479e-a15d-9034cd17f342",
   "metadata": {},
   "source": [
    "Ans:Data Analysis Pipeline\n",
    "Define objective\n",
    "\n",
    "Collect data\n",
    "\n",
    "Clean/wrangle data\n",
    "\n",
    "EDA\n",
    "\n",
    "Modeling (if needed)\n",
    "\n",
    "Visualization/reporting\n",
    "\n",
    "Recommendations\n",
    "\n",
    "Problem Definition\n",
    "\n",
    "Data Collection\n",
    "\n",
    "Data Cleaning\n",
    "\n",
    "Exploratory Data Analysis (EDA)\n",
    "\n",
    "Data Modeling or Statistical Analysis\n",
    "\n",
    "Validation and Testing\n",
    "\n",
    "Visualization and Reporting\n",
    "\n",
    "Deployment or Communication of Results\n"
   ]
  },
  {
   "cell_type": "markdown",
   "id": "310a0ce3-de9f-4a5a-939b-de47ec1c3169",
   "metadata": {},
   "source": [
    "26. What is the purpose of data visualization?"
   ]
  },
  {
   "cell_type": "markdown",
   "id": "029a1186-ba1a-425a-b445-ff6e36d29020",
   "metadata": {},
   "source": [
    "Ans:To present data in a graphical or pictorial format that makes it easier to identify trends, outliers, patterns, and insights, enabling more informed decision-making."
   ]
  },
  {
   "cell_type": "markdown",
   "id": "7a714918-c625-4c0f-bed2-701f4036f2e9",
   "metadata": {},
   "source": [
    "27. Explain the difference between ETL and ELT."
   ]
  },
  {
   "cell_type": "markdown",
   "id": "87d7aa22-f3fc-4ebc-9b3f-7dcad4c50334",
   "metadata": {},
   "source": [
    "Ans:ETL (Extract, Transform, Load): Data is transformed before being loaded into the data warehouse.\n",
    "\n",
    "ELT (Extract, Load, Transform): Data is loaded first and transformed inside the data warehouse, leveraging its compute power.\n",
    "\n"
   ]
  },
  {
   "cell_type": "markdown",
   "id": "f371b67e-430b-43a0-8bf7-d1c1c3c98966",
   "metadata": {},
   "source": [
    "28. What is the difference between OLAP and OLTP systems?"
   ]
  },
  {
   "cell_type": "markdown",
   "id": "6ea20b5e-67af-4c63-8422-34c73edaa344",
   "metadata": {},
   "source": [
    "Ans:OLAP (Online Analytical Processing): Used for complex queries and data analysis (e.g., dashboards, reports).\n",
    "\n",
    "OLTP (Online Transaction Processing): Handles daily transactional data (e.g., banking systems, e-commerce orders)."
   ]
  },
  {
   "cell_type": "markdown",
   "id": "b687825c-3489-497e-9f29-3a0ce3d8f3e7",
   "metadata": {},
   "source": [
    "29. How do you decide which chart to use for a dataset?"
   ]
  },
  {
   "cell_type": "markdown",
   "id": "6a67367f-83ef-4571-99c1-14f8b215e6fc",
   "metadata": {},
   "source": [
    "Ans:Depends on the goal:\n",
    "\n",
    "Trend: Line chart\n",
    "\n",
    "Comparison: Bar chart\n",
    "\n",
    "Distribution: Histogram or box plot\n",
    "\n",
    "Relationships: Scatter plot\n",
    "\n",
    "Composition: Pie chart or stacked bar"
   ]
  },
  {
   "cell_type": "markdown",
   "id": "2010f06d-ff2b-4f9b-a282-99b7a0ec758c",
   "metadata": {},
   "source": [
    "30. What is time series analysis and where have you used it?"
   ]
  },
  {
   "cell_type": "markdown",
   "id": "23f6a6fa-5b7d-40a8-a173-c17eed663def",
   "metadata": {},
   "source": [
    "Ans:Analysis of data points over time to identify trends, seasonality, or forecast.\n",
    "Example: Forecasting sales or analyzing website traffic over months."
   ]
  },
  {
   "cell_type": "markdown",
   "id": "e4fc1bd7-d6b6-4bc4-99c7-b171a6a0dd30",
   "metadata": {},
   "source": [
    "31. Describe your experience with Tableau or Power BI."
   ]
  },
  {
   "cell_type": "markdown",
   "id": "62b64498-7a06-444a-a162-5f22ecbf66bc",
   "metadata": {},
   "source": [
    "Ans:(Example answer): Created dashboards, used calculated fields, connected to SQL data sources, designed interactive reports with filters and drill-downs.\n",
    "\n"
   ]
  },
  {
   "cell_type": "markdown",
   "id": "eb737ee4-7c9c-4637-99d2-576a55d27974",
   "metadata": {},
   "source": [
    "32. What are dimensions and measures in Tableau?"
   ]
  },
  {
   "cell_type": "markdown",
   "id": "7c2a53f8-d0bf-431d-b877-a382a94ca2b0",
   "metadata": {},
   "source": [
    "Ans:Dimensions: Qualitative fields (e.g., country, product name)\n",
    "\n",
    "Measures: Quantitative fields used for calculations (e.g., sales, profit)"
   ]
  },
  {
   "cell_type": "markdown",
   "id": "f607e723-fd4b-4d20-942a-a57ba3246827",
   "metadata": {},
   "source": [
    "33. How do you track data quality over time?"
   ]
  },
  {
   "cell_type": "markdown",
   "id": "decc024b-d532-44de-88e0-830790e0ad93",
   "metadata": {},
   "source": [
    "Ans:Use metrics like completeness, accuracy, consistency, and timeliness. Implement automated checks, dashboards, and alerting systems."
   ]
  },
  {
   "cell_type": "markdown",
   "id": "d43d085a-c868-4b00-a84d-96806030ed97",
   "metadata": {},
   "source": [
    "34. What is multicollinearity and why is it a problem?"
   ]
  },
  {
   "cell_type": "markdown",
   "id": "27dd46b5-a118-4131-a849-df461e86ec3f",
   "metadata": {},
   "source": [
    "Ans:When independent variables in a regression model are highly correlated. It can distort the importance of predictors and lead to unreliable coefficients."
   ]
  },
  {
   "cell_type": "markdown",
   "id": "9f6779ca-947c-4a34-9c31-a661e82696cf",
   "metadata": {},
   "source": [
    "35. How would you analyze user behavior on a website?"
   ]
  },
  {
   "cell_type": "markdown",
   "id": "24599084-150f-4a6c-9eb6-afbe8c81606c",
   "metadata": {},
   "source": [
    "Ans:Use tools like Google Analytics or logs to track clicks, time on page, conversion paths, and heatmaps. Segment users and analyze funnel drop-offs."
   ]
  },
  {
   "cell_type": "markdown",
   "id": "c1ccfbed-236f-43ae-94a2-cda6c5d7b473",
   "metadata": {},
   "source": [
    "36. What are your favorite Python functions for data analysis?"
   ]
  },
  {
   "cell_type": "markdown",
   "id": "326ac8b6-b629-47e7-b85a-84082609bfbf",
   "metadata": {},
   "source": [
    "Ans:groupby(), pivot_table(), describe(), value_counts(), apply(), merge(), matplotlib/seaborn for visualization, and scikit-learn for modeling."
   ]
  },
  {
   "cell_type": "markdown",
   "id": "1a369df7-162e-4e74-8e7e-18c1766e0777",
   "metadata": {},
   "source": [
    "37. What is data cleaning and how do you perform it?"
   ]
  },
  {
   "cell_type": "markdown",
   "id": "b63d1050-accc-4e61-a960-a24bc2e2418b",
   "metadata": {},
   "source": [
    "Ans:Removing inaccuracies or inconsistencies. Includes handling missing data, correcting formats, removing duplicates, and standardizing values."
   ]
  },
  {
   "cell_type": "markdown",
   "id": "a12144a9-53ed-4449-9044-5c9f4cc1387f",
   "metadata": {},
   "source": [
    "38. What does the term 'data storytelling' mean to you?"
   ]
  },
  {
   "cell_type": "markdown",
   "id": "2128a922-7420-4ff3-96cb-9a946ec64647",
   "metadata": {},
   "source": [
    "Ans:Combining data, visuals, and narrative to explain insights in a compelling way that drives action and understanding, especially for non-technical audiences."
   ]
  },
  {
   "cell_type": "markdown",
   "id": "4a3cfd8e-c60c-42f8-9eba-39920953086a",
   "metadata": {},
   "source": [
    "39. How do you handle large datasets efficiently?"
   ]
  },
  {
   "cell_type": "markdown",
   "id": "931c05fc-c8f1-457f-b032-9087f1487eda",
   "metadata": {},
   "source": [
    "Ans:Use chunking, indexing, vectorized operations, memory-efficient libraries like Dask or PySpark, and optimized queries in SQL."
   ]
  },
  {
   "cell_type": "markdown",
   "id": "4606d697-e942-4dd7-87d4-d40617a7254b",
   "metadata": {},
   "source": [
    "40. What are lag and lead functions in SQL?"
   ]
  },
  {
   "cell_type": "markdown",
   "id": "8aec7ca7-7408-4920-a4df-f0a6d6015cde",
   "metadata": {},
   "source": [
    "Ans:LAG(): Accesses a previous row’s value\n",
    "\n",
    "LEAD(): Accesses a following row’s value\n",
    "Useful in time-series or sequential data comparisons."
   ]
  },
  {
   "cell_type": "markdown",
   "id": "7d5c88ed-b1cd-4afa-9715-18256c9e0a88",
   "metadata": {},
   "source": [
    "41. What is a hypothesis test and when would you use it?"
   ]
  },
  {
   "cell_type": "markdown",
   "id": "a005ab52-b9d3-4851-8f16-684e4d2e5667",
   "metadata": {},
   "source": [
    "Ans:A statistical method to test an assumption (null hypothesis) about a population. Used to determine significance, e.g., A/B testing for web design changes."
   ]
  },
  {
   "cell_type": "markdown",
   "id": "8ee67cc4-6ad5-4d9f-b9a8-0004a6cf45d7",
   "metadata": {},
   "source": [
    "42. How do you explain complex data insights to non-technical stakeholders?"
   ]
  },
  {
   "cell_type": "markdown",
   "id": "901dd5b1-bad9-47e5-b0b7-47cfd7e5341f",
   "metadata": {},
   "source": [
    "Ans:Use plain language, visual aids, focus on the “so what” and implications, relate insights to business goals.\n",
    "\n"
   ]
  },
  {
   "cell_type": "markdown",
   "id": "ab8d6f52-4651-4d18-ac40-9312115bc3b3",
   "metadata": {},
   "source": [
    "43. What is the difference between a heatmap and a scatter plot?"
   ]
  },
  {
   "cell_type": "markdown",
   "id": "ba30a1ed-40de-4a0d-822b-92f36da6f144",
   "metadata": {},
   "source": [
    "Ans:Heatmap: Shows values with color intensity in a matrix format.\n",
    "\n",
    "Scatter plot: Displays relationships between two numeric variables with points on a grid."
   ]
  },
  {
   "cell_type": "markdown",
   "id": "9b606034-0ab0-420a-bdc0-caefef688d5b",
   "metadata": {},
   "source": [
    "44. How do you validate a machine learning model?"
   ]
  },
  {
   "cell_type": "markdown",
   "id": "12aefd2f-be00-4c46-a2ce-692669c4db2d",
   "metadata": {},
   "source": [
    "Ans:Using techniques like train/test split, cross-validation, confusion matrix, ROC-AUC, RMSE depending on the problem type."
   ]
  },
  {
   "cell_type": "markdown",
   "id": "afd9c545-c194-4b90-b259-c960bad45633",
   "metadata": {},
   "source": [
    "45. Describe a challenging dataset you worked on."
   ]
  },
  {
   "cell_type": "markdown",
   "id": "ac95b629-cc74-4297-9c5b-f66522721c07",
   "metadata": {},
   "source": [
    "Ans:(Example): A customer churn dataset with imbalanced classes and many missing values. I used oversampling (SMOTE), imputation, and feature engineering to improve model performance."
   ]
  },
  {
   "cell_type": "markdown",
   "id": "179001e4-c31b-4e7c-8186-077c25bbb979",
   "metadata": {},
   "source": [
    "46. What is the role of feature engineering in data analysis?"
   ]
  },
  {
   "cell_type": "markdown",
   "id": "c6b33aa3-5f1b-4741-aaa7-68c0c9b2dd2d",
   "metadata": {},
   "source": [
    "Ans:Creating new input variables that improve model accuracy by capturing hidden relationships or patterns (e.g., extracting date parts or ratios).\n",
    "\n"
   ]
  },
  {
   "cell_type": "markdown",
   "id": "0a33d09b-e980-40f8-af58-db4290dc30f0",
   "metadata": {},
   "source": [
    "47. What is the difference between a data analyst and a data scientist?"
   ]
  },
  {
   "cell_type": "markdown",
   "id": "b76b535b-508e-42f4-9599-b7a9ad49f2ae",
   "metadata": {},
   "source": [
    "Ans:Data Analyst: Focuses on descriptive analytics, reporting, visualization.\n",
    "\n",
    "Data Scientist: Builds predictive models, performs statistical inference, machine learning."
   ]
  },
  {
   "cell_type": "markdown",
   "id": "35a33553-65f7-4cda-b43e-98600e758b2f",
   "metadata": {},
   "source": [
    "48. How do you prioritize tasks when working on multiple data projects?"
   ]
  },
  {
   "cell_type": "markdown",
   "id": "55013df7-e6a1-4916-af17-1712e5060453",
   "metadata": {},
   "source": [
    "Ans:Use frameworks like Eisenhower matrix or agile boards, prioritize by business impact, deadlines, and stakeholder urgency."
   ]
  },
  {
   "cell_type": "markdown",
   "id": "2a526b5d-d0ab-4709-80b9-e3bf77fcbd3a",
   "metadata": {},
   "source": [
    "49. What steps do you take before starting a data analysis project?"
   ]
  },
  {
   "cell_type": "markdown",
   "id": "233802f8-9b6c-4552-8643-fcea6916d683",
   "metadata": {},
   "source": [
    "Ans:Understand the problem\n",
    "\n",
    "Define objectives and KPIs\n",
    "\n",
    "Gather requirements\n",
    "\n",
    "Identify data sources\n",
    "\n",
    "Perform initial data exploration"
   ]
  },
  {
   "cell_type": "markdown",
   "id": "9668a7be-02a1-4d38-80b5-8d7005ade246",
   "metadata": {},
   "source": [
    "50. Describe a situation where your analysis had a measurable business impact.?"
   ]
  },
  {
   "cell_type": "markdown",
   "id": "c4875aca-d619-489b-bd9b-817e3d177ce8",
   "metadata": {},
   "source": [
    "Ans:(Example): Built a churn prediction model that helped the retention team target high-risk users, reducing churn by 15% in three months.\n",
    "\n"
   ]
  },
  {
   "cell_type": "code",
   "execution_count": null,
   "id": "f1fd5cdf-7bdf-453a-b9b4-20ab1a749f55",
   "metadata": {},
   "outputs": [],
   "source": []
  }
 ],
 "metadata": {
  "kernelspec": {
   "display_name": "Python [conda env:anaconda3]",
   "language": "python",
   "name": "conda-env-anaconda3-py"
  },
  "language_info": {
   "codemirror_mode": {
    "name": "ipython",
    "version": 3
   },
   "file_extension": ".py",
   "mimetype": "text/x-python",
   "name": "python",
   "nbconvert_exporter": "python",
   "pygments_lexer": "ipython3",
   "version": "3.12.7"
  }
 },
 "nbformat": 4,
 "nbformat_minor": 5
}
