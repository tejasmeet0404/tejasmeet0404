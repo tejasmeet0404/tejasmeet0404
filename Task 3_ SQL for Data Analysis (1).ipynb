{
 "cells": [
  {
   "cell_type": "markdown",
   "id": "9520747d-206a-44a9-b968-8455c50c0e78",
   "metadata": {},
   "source": [
    "Task 3: SQL for Data Analysis"
   ]
  },
  {
   "cell_type": "markdown",
   "id": "ab0a240c-b9a3-44ab-a1d1-73e13413a538",
   "metadata": {},
   "source": [
    " Deliverables\n",
    "1.SQL Queries in a .sql file (you can name it ecommerce_analysis.sql)\n",
    "\n",
    "\n",
    "2.Screenshots of query outputs (take these from your SQL interface: pgAdmin, MySQL Workbench, DB Browser for SQLite, etc.)"
   ]
  },
  {
   "cell_type": "markdown",
   "id": "ab973d8a-4aa9-4e0b-9608-94c8c5982568",
   "metadata": {},
   "source": [
    "SQL Queries for Data Analysis\n",
    "\n",
    "Assume a sample E-commerce schema like this:"
   ]
  },
  {
   "cell_type": "raw",
   "id": "a37ce5e4-fe8c-48d2-a528-fb192188d05a",
   "metadata": {},
   "source": [
    "Customers(customer_id, name, email, created_at)\n",
    "Orders(order_id, customer_id, order_date, total_amount)\n",
    "Order_Items(order_item_id, order_id, product_id, quantity, price)\n",
    "Products(product_id, name, category, price)\n"
   ]
  },
  {
   "cell_type": "markdown",
   "id": "dab8f286-4bfe-4f0b-a34f-6edf19d15420",
   "metadata": {},
   "source": [
    "a. SELECT, WHERE, ORDER BY, GROUP BY"
   ]
  },
  {
   "cell_type": "raw",
   "id": "1beb523a-107c-4b27-8cf4-a89345817ef3",
   "metadata": {},
   "source": [
    "-- Top 5 highest spending customers\n",
    "SELECT c.customer_id, c.name, SUM(o.total_amount) AS total_spent\n",
    "FROM Customers c\n",
    "JOIN Orders o ON c.customer_id = o.customer_id\n",
    "GROUP BY c.customer_id, c.name\n",
    "ORDER BY total_spent DESC\n",
    "LIMIT 5;\n"
   ]
  },
  {
   "cell_type": "markdown",
   "id": "995c8b7c-776a-438e-b720-c9f69439e743",
   "metadata": {},
   "source": [
    " b. JOINS (INNER, LEFT, RIGHT)"
   ]
  },
  {
   "cell_type": "raw",
   "id": "6613954c-7a60-46c0-a4e2-16ad2f32d4ea",
   "metadata": {},
   "source": [
    "-- List of all orders with customer names and product details\n",
    "SELECT o.order_id, c.name AS customer_name, p.name AS product_name, oi.quantity\n",
    "FROM Orders o\n",
    "INNER JOIN Customers c ON o.customer_id = c.customer_id\n",
    "INNER JOIN Order_Items oi ON o.order_id = oi.order_id\n",
    "INNER JOIN Products p ON oi.product_id = p.product_id;\n"
   ]
  },
  {
   "cell_type": "markdown",
   "id": "433a9b24-fd11-4e7b-8999-6cba7e545824",
   "metadata": {},
   "source": [
    "c. Subqueries"
   ]
  },
  {
   "cell_type": "raw",
   "id": "a5f37385-7c41-496e-9de1-acdf65d1b0d7",
   "metadata": {},
   "source": [
    "-- Customers who spent more than average total spend\n",
    "SELECT customer_id, name\n",
    "FROM Customers\n",
    "WHERE customer_id IN (\n",
    "    SELECT customer_id\n",
    "    FROM Orders\n",
    "    GROUP BY customer_id\n",
    "    HAVING SUM(total_amount) > (\n",
    "        SELECT AVG(total_amount) FROM Orders\n",
    "    )\n",
    ");\n"
   ]
  },
  {
   "cell_type": "markdown",
   "id": "967cf1c5-c42d-4dd6-8a8f-55d2ce65601b",
   "metadata": {},
   "source": [
    "d. Aggregate Functions (SUM, AVG)"
   ]
  },
  {
   "cell_type": "raw",
   "id": "9529535b-782a-41bd-8ee5-077372451262",
   "metadata": {},
   "source": [
    "-- Average order value\n",
    "SELECT AVG(total_amount) AS average_order_value\n",
    "FROM Orders;\n"
   ]
  },
  {
   "cell_type": "markdown",
   "id": "ff4f675e-af2b-431c-821c-840a28f31969",
   "metadata": {},
   "source": [
    "e. Views for Analysis"
   ]
  },
  {
   "cell_type": "raw",
   "id": "fc39e2c3-8438-44e2-8f40-4e1bcb474506",
   "metadata": {},
   "source": [
    "-- Create a view for customer order summary\n",
    "CREATE VIEW customer_order_summary AS\n",
    "SELECT c.customer_id, c.name, COUNT(o.order_id) AS total_orders, SUM(o.total_amount) AS total_spent\n",
    "FROM Customers c\n",
    "JOIN Orders o ON c.customer_id = o.customer_id\n",
    "GROUP BY c.customer_id, c.name;\n"
   ]
  },
  {
   "cell_type": "markdown",
   "id": "8a388ff6-b473-40d5-8d98-59d0a139f2d4",
   "metadata": {},
   "source": [
    "f. Optimize Queries with Indexes"
   ]
  },
  {
   "cell_type": "raw",
   "id": "e5fcf711-ebc1-4429-9276-f876bac77fcf",
   "metadata": {},
   "source": [
    "-- Creating indexes for optimization\n",
    "CREATE INDEX idx_orders_customer_id ON Orders(customer_id);\n",
    "CREATE INDEX idx_order_items_order_id ON Order_Items(order_id);\n"
   ]
  },
  {
   "cell_type": "markdown",
   "id": "4650ae55-e6a5-4858-a91f-e4a244891ba3",
   "metadata": {},
   "source": [
    "Interview Questions & Answers"
   ]
  },
  {
   "cell_type": "markdown",
   "id": "a4086b9e-af07-4dbd-acbd-755353794dc0",
   "metadata": {},
   "source": [
    "1.What is the difference between WHERE and HAVING?"
   ]
  },
  {
   "cell_type": "markdown",
   "id": "bf64853e-2dbf-4c23-8b6a-ec5fb55bd4ec",
   "metadata": {},
   "source": [
    "Ans:WHERE filters rows before aggregation.\n",
    "\n",
    "HAVING filters after aggregation (GROUP BY)."
   ]
  },
  {
   "cell_type": "markdown",
   "id": "376f623a-cd5f-4669-927d-a71c0ec0a09b",
   "metadata": {},
   "source": [
    "2.What are the different types of joins?"
   ]
  },
  {
   "cell_type": "markdown",
   "id": "2c1416a5-af7f-40e7-93f6-4d926463b4de",
   "metadata": {},
   "source": [
    "Ans:INNER JOIN: Only matching records.\n",
    "\n",
    "LEFT JOIN: All from left, matching from right.\n",
    "\n",
    "RIGHT JOIN: All from right, matching from left.\n",
    "\n",
    "FULL OUTER JOIN (not in all DBs): All records from both sides."
   ]
  },
  {
   "cell_type": "markdown",
   "id": "8135b38d-64bd-4e99-82f2-434ea8bb8858",
   "metadata": {},
   "source": [
    "3.How do you calulate average revenue per user in SQL?"
   ]
  },
  {
   "cell_type": "raw",
   "id": "b1880c2d-9a11-4ab8-ab57-cc3701124028",
   "metadata": {},
   "source": [
    "SELECT AVG(user_spending) AS avg_revenue_per_user\n",
    "FROM (\n",
    "  SELECT customer_id, SUM(total_amount) AS user_spending\n",
    "  FROM Orders\n",
    "  GROUP BY customer_id\n",
    ") AS customer_totals;\n"
   ]
  },
  {
   "cell_type": "markdown",
   "id": "76364e5a-a26f-4165-aba6-eaa455426470",
   "metadata": {},
   "source": [
    "4.What are subqueries?"
   ]
  },
  {
   "cell_type": "markdown",
   "id": "d076e641-c8e6-4ef9-acb4-22c084ca6fae",
   "metadata": {},
   "source": [
    "Ans:A subquery is a query nested inside another query (e.g., in WHERE, FROM, or SELECT clauses)."
   ]
  },
  {
   "cell_type": "markdown",
   "id": "1177e1d7-ccf3-40b2-8ecd-0ee35fb28ca2",
   "metadata": {},
   "source": [
    "5.How do you optimize a SQL query?"
   ]
  },
  {
   "cell_type": "markdown",
   "id": "00435027-6339-4172-a837-566f5d260673",
   "metadata": {},
   "source": [
    "Use indexes.\n",
    "\n",
    "Avoid SELECT *.\n",
    "\n",
    "Use EXPLAIN or EXPLAIN ANALYZE.\n",
    "\n",
    "Limit subqueries and nested loops.\n",
    "\n",
    "Proper joins, filter early, cache results."
   ]
  },
  {
   "cell_type": "markdown",
   "id": "225217ae-5957-4533-a0a5-f9ea1a65d18e",
   "metadata": {},
   "source": [
    "6.What is a view in SQL?"
   ]
  },
  {
   "cell_type": "markdown",
   "id": "a886b58d-4e39-4de9-84df-586e00c63888",
   "metadata": {},
   "source": [
    "Ans:A view is a virtual table based on a query. It simplifies complex queries and can be reused."
   ]
  },
  {
   "cell_type": "markdown",
   "id": "c9b39098-3e66-4d3e-8b86-bf54cb9a9c05",
   "metadata": {},
   "source": [
    "7.How would you handle null values in SQL?"
   ]
  },
  {
   "cell_type": "markdown",
   "id": "99da909c-9000-4369-ac55-06994ce6b61b",
   "metadata": {},
   "source": [
    "Ans:Use IS NULL or IS NOT NULL.\n",
    "\n",
    "Use COALESCE(column, default_value) to replace nulls.\n",
    "\n",
    "Be cautious in aggregations (e.g., AVG, SUM ignore nulls).\n",
    "\n"
   ]
  },
  {
   "cell_type": "code",
   "execution_count": null,
   "id": "04d6dcfd-5f98-4f41-8cbe-584c995958e2",
   "metadata": {},
   "outputs": [],
   "source": []
  },
  {
   "cell_type": "code",
   "execution_count": null,
   "id": "4a34c1e6-7bb9-4b26-9078-7e72392c870f",
   "metadata": {},
   "outputs": [],
   "source": []
  },
  {
   "cell_type": "code",
   "execution_count": null,
   "id": "52b0945f-1458-4944-8bf3-c9cd71bc1cb8",
   "metadata": {},
   "outputs": [],
   "source": []
  },
  {
   "cell_type": "code",
   "execution_count": null,
   "id": "51bb2aa0-0d9f-4b41-bcc2-c429a547536e",
   "metadata": {},
   "outputs": [],
   "source": []
  },
  {
   "cell_type": "code",
   "execution_count": null,
   "id": "0de6e38e-675d-430b-836c-741e3056aa29",
   "metadata": {},
   "outputs": [],
   "source": []
  },
  {
   "cell_type": "code",
   "execution_count": null,
   "id": "6cf54e7f-22e3-4004-a4e6-b6deea0fd22a",
   "metadata": {},
   "outputs": [],
   "source": []
  },
  {
   "cell_type": "code",
   "execution_count": null,
   "id": "71bb0a5f-72b2-40fe-9069-e7813b37bede",
   "metadata": {},
   "outputs": [],
   "source": []
  },
  {
   "cell_type": "code",
   "execution_count": null,
   "id": "3de3706e-e873-4b42-b4e4-109fd7e0c6a3",
   "metadata": {},
   "outputs": [],
   "source": []
  },
  {
   "cell_type": "code",
   "execution_count": null,
   "id": "14bbcf4e-3f41-402f-854b-72b9eef4335d",
   "metadata": {},
   "outputs": [],
   "source": []
  },
  {
   "cell_type": "code",
   "execution_count": null,
   "id": "fb8a6ef2-3630-4970-ad15-fb8c69bcc639",
   "metadata": {},
   "outputs": [],
   "source": []
  },
  {
   "cell_type": "code",
   "execution_count": null,
   "id": "94c89b2a-0fa8-42fb-84af-5bb8abaf6fc9",
   "metadata": {},
   "outputs": [],
   "source": []
  },
  {
   "cell_type": "code",
   "execution_count": null,
   "id": "2802256d-357c-4bb1-9f46-b15a6a1b54ab",
   "metadata": {},
   "outputs": [],
   "source": []
  },
  {
   "cell_type": "code",
   "execution_count": null,
   "id": "3786abc3-82c7-4f10-8fb7-44f8a4c73782",
   "metadata": {},
   "outputs": [],
   "source": []
  },
  {
   "cell_type": "code",
   "execution_count": null,
   "id": "c8fd4d7d-ba5e-40d6-b488-8bfc495c53a2",
   "metadata": {},
   "outputs": [],
   "source": []
  },
  {
   "cell_type": "code",
   "execution_count": null,
   "id": "2e4e9c4b-e4b5-4bd6-b6ec-41782635cd3b",
   "metadata": {},
   "outputs": [],
   "source": []
  },
  {
   "cell_type": "code",
   "execution_count": null,
   "id": "f707855c-bce2-4ba2-a7e9-8e8694ff1832",
   "metadata": {},
   "outputs": [],
   "source": []
  }
 ],
 "metadata": {
  "kernelspec": {
   "display_name": "Python [conda env:anaconda3]",
   "language": "python",
   "name": "conda-env-anaconda3-py"
  },
  "language_info": {
   "codemirror_mode": {
    "name": "ipython",
    "version": 3
   },
   "file_extension": ".py",
   "mimetype": "text/x-python",
   "name": "python",
   "nbconvert_exporter": "python",
   "pygments_lexer": "ipython3",
   "version": "3.12.7"
  }
 },
 "nbformat": 4,
 "nbformat_minor": 5
}
