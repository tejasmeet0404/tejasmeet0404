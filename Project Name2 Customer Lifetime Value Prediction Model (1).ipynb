{
 "cells": [
  {
   "cell_type": "markdown",
   "id": "f51d0752-03ff-4d0c-8634-c1f31bc726cd",
   "metadata": {},
   "source": [
    "Project Name 2:Customer Lifetime Value Prediction Model"
   ]
  },
  {
   "cell_type": "code",
   "execution_count": null,
   "id": "d026d621-fc85-4b5b-965f-985f3f5f94a7",
   "metadata": {},
   "outputs": [],
   "source": [
    "Project Overview\n",
    "Goal: Predict customer LTV using their historical purchase behavior for better marketing and retention strategies."
   ]
  },
  {
   "cell_type": "markdown",
   "id": "1d921b96-653f-4644-9bff-d9b5ff943aed",
   "metadata": {},
   "source": [
    "Tools\n",
    "Python (pandas, numpy, sklearn, xgboost, matplotlib, seaborn)\n",
    "\n",
    "Excel (for initial data inspection or final delivery if needed)"
   ]
  },
  {
   "cell_type": "markdown",
   "id": "160d9b73-2cbd-4e1e-adfc-1085170047e4",
   "metadata": {},
   "source": [
    "Dataset Assumptions\n",
    "Let’s assume you have:\n",
    "\n",
    "transactions.csv with: customer_id, order_id, order_date, order_amount\n",
    "\n",
    "(Optionally) customers.csv with customer metadata"
   ]
  },
  {
   "cell_type": "markdown",
   "id": "d5a4cb91-5074-4f83-a7ce-380a192bb8cd",
   "metadata": {},
   "source": [
    "1. Data Preprocessing\n",
    "\n",
    "a. Load and inspect"
   ]
  },
  {
   "cell_type": "raw",
   "id": "c99eaadb-8f6c-4080-adf6-9a8d41a5acf2",
   "metadata": {},
   "source": [
    "import pandas as pd\n",
    "\n",
    "df = pd.read_csv('transactions.csv', parse_dates=['order_date'])\n",
    "print(df.head())\n"
   ]
  },
  {
   "cell_type": "markdown",
   "id": "0786120c-d7a0-4355-ac58-ef368abddffd",
   "metadata": {},
   "source": [
    "b. Clean and prepare\n",
    "\n",
    "Drop duplicates/nulls\n",
    "\n",
    "Ensure correct datatypes"
   ]
  },
  {
   "cell_type": "markdown",
   "id": "2812e4df-fff1-4d1d-9b02-47ef748b57af",
   "metadata": {},
   "source": [
    "c. Merge with customer data (if available)"
   ]
  },
  {
   "cell_type": "raw",
   "id": "aa1ef29d-dc61-4bba-8e4c-071bab066acd",
   "metadata": {},
   "source": [
    "customers = pd.read_csv('customers.csv')\n",
    "df = df.merge(customers, on='customer_id', how='left')\n"
   ]
  },
  {
   "cell_type": "markdown",
   "id": "93613df3-47e0-4115-855f-25b1833ce450",
   "metadata": {},
   "source": [
    "\n",
    "2. Feature Engineering\n",
    "\n",
    "Based on RFM (Recency, Frequency, Monetary):"
   ]
  },
  {
   "cell_type": "raw",
   "id": "0d85e214-e685-47b2-9708-ce85dddf03aa",
   "metadata": {},
   "source": [
    "import numpy as np\n",
    "\n",
    "snapshot_date = df['order_date'].max() + pd.Timedelta(days=1)\n",
    "\n",
    "ltv_df = df.groupby('customer_id').agg({\n",
    "    'order_date': [lambda x: (snapshot_date - x.max()).days,  # Recency\n",
    "                   'count'],                                   # Frequency\n",
    "    'order_amount': ['mean', 'sum']                            # AOV and Total Value\n",
    "}).reset_index()\n",
    "\n",
    "ltv_df.columns = ['customer_id', 'recency', 'frequency', 'aov', 'ltv']\n"
   ]
  },
  {
   "cell_type": "markdown",
   "id": "b63c9d41-9052-4be7-a016-c871145aacd0",
   "metadata": {},
   "source": [
    "3. Model Training\n",
    "\n",
    "a. Prepare features"
   ]
  },
  {
   "cell_type": "raw",
   "id": "35468abf-7fdf-4c44-b222-477ccef7db80",
   "metadata": {},
   "source": [
    "X = ltv_df[['recency', 'frequency', 'aov']]\n",
    "y = ltv_df['ltv']\n"
   ]
  },
  {
   "cell_type": "markdown",
   "id": "b7e4204d-3796-4165-bdc6-7e7d2debbde4",
   "metadata": {},
   "source": [
    "b. Train/test split"
   ]
  },
  {
   "cell_type": "raw",
   "id": "bec38003-739d-4366-b73a-3ba35c3b71ed",
   "metadata": {},
   "source": [
    "from sklearn.model_selection import train_test_split\n",
    "X_train, X_test, y_train, y_test = train_test_split(X, y, test_size=0.2, random_state=42)\n"
   ]
  },
  {
   "cell_type": "markdown",
   "id": "e03de1e8-ab15-4068-8a88-13537b8f049e",
   "metadata": {},
   "source": [
    "c. XGBoost or Random Fores"
   ]
  },
  {
   "cell_type": "raw",
   "id": "689378cb-4920-4f98-80cd-8a88774fdc28",
   "metadata": {},
   "source": [
    "from xgboost import XGBRegressor\n",
    "model = XGBRegressor()\n",
    "model.fit(X_train, y_train)\n"
   ]
  },
  {
   "cell_type": "markdown",
   "id": "7219487e-5ffa-4c12-915f-4eb19ca6a6db",
   "metadata": {},
   "source": [
    "4. Evaluation"
   ]
  },
  {
   "cell_type": "raw",
   "id": "1fa9a3a1-8516-464b-8b16-26fa7c07da5c",
   "metadata": {},
   "source": [
    "from sklearn.metrics import mean_absolute_error, mean_squared_error\n",
    "\n",
    "y_pred = model.predict(X_test)\n",
    "mae = mean_absolute_error(y_test, y_pred)\n",
    "rmse = np.sqrt(mean_squared_error(y_test, y_pred))\n",
    "\n",
    "print(f'MAE: {mae:.2f}, RMSE: {rmse:.2f}')\n"
   ]
  },
  {
   "cell_type": "markdown",
   "id": "e168712b-93a5-456e-95b2-4b6525920b3f",
   "metadata": {},
   "source": [
    "5. Visualization"
   ]
  },
  {
   "cell_type": "raw",
   "id": "ca394941-131a-4891-91e0-4e1441b59491",
   "metadata": {},
   "source": [
    "import matplotlib.pyplot as plt\n",
    "import seaborn as sns\n",
    "\n",
    "plt.figure(figsize=(8,5))\n",
    "sns.scatterplot(x=y_test, y=y_pred)\n",
    "plt.xlabel(\"Actual LTV\")\n",
    "plt.ylabel(\"Predicted LTV\")\n",
    "plt.title(\"Predicted vs Actual LTV\")\n",
    "plt.show()\n"
   ]
  },
  {
   "cell_type": "markdown",
   "id": "5e051d2b-8e19-4463-8f45-121e989d1a16",
   "metadata": {},
   "source": [
    "6. Segmentation"
   ]
  },
  {
   "cell_type": "raw",
   "id": "5b75ed57-b396-469a-be9c-5e08b8a0eead",
   "metadata": {},
   "source": [
    "ltv_df['predicted_ltv'] = model.predict(X)\n",
    "ltv_df['segment'] = pd.qcut(ltv_df['predicted_ltv'], q=4, labels=['Low', 'Mid-Low', 'Mid-High', 'High'])\n"
   ]
  },
  {
   "cell_type": "markdown",
   "id": "571ee792-9ef9-4166-af93-1fd98dacc2c1",
   "metadata": {},
   "source": [
    " 7. Deliverables\n",
    "\n",
    "    \n",
    "✅ Python notebook\n",
    "\n",
    "\n",
    "Organize sections using Markdown cells:\n",
    "\n",
    "Introduction\n",
    "\n",
    "Data preprocessing\n",
    "\n",
    "Feature engineering\n",
    "\n",
    "Model training\n",
    "\n",
    "Evaluation & visualization\n",
    "\n",
    "Segmentation\n",
    "\n",
    "Final predictions export\n",
    "\n",
    "✅ Trained model\n",
    "Optional: Save model"
   ]
  },
  {
   "cell_type": "raw",
   "id": "28f6f586-f980-4bb7-a02c-05fc3fd6aa31",
   "metadata": {},
   "source": [
    "import joblib\n",
    "joblib.dump(model, 'ltv_model.pkl')\n"
   ]
  },
  {
   "cell_type": "markdown",
   "id": "34120c0d-b6ad-4c7c-a30c-2b491c9fb587",
   "metadata": {},
   "source": [
    "Final CSV Output"
   ]
  },
  {
   "cell_type": "raw",
   "id": "547c47ac-205d-4d61-be5e-e5bb33197e02",
   "metadata": {},
   "source": [
    "ltv_df[['customer_id', 'predicted_ltv', 'segment']].to_csv('ltv_predictions.csv', index=False)\n"
   ]
  },
  {
   "cell_type": "markdown",
   "id": "2c6148fb-ac4d-4fb1-937e-bbff00cb167b",
   "metadata": {},
   "source": [
    "Example File Names\n",
    "\n",
    "customer_ltv_prediction.ipynb\n",
    "\n",
    "ltv_model.pkl\n",
    "\n",
    "ltv_predictions.csv"
   ]
  },
  {
   "cell_type": "markdown",
   "id": "cc1edc70-4ff9-485c-ba19-856577e2c222",
   "metadata": {},
   "source": [
    "Customer Lifetime Value Prediction Model\n",
    "\n",
    " Objective:\n",
    "\n",
    "Predict the lifetime value (LTV) of customers based on their purchase behavior to support targeted marketing strategies."
   ]
  },
  {
   "cell_type": "markdown",
   "id": "fdf063f0-c62e-407b-91d5-4ce435edf673",
   "metadata": {},
   "source": [
    "Tools\n",
    "\n",
    "Python: pandas, numpy, sklearn, XGBoost, matplotlib, seaborn\n",
    "\n",
    "Excel: optional for final inspection or data uploads/downloads"
   ]
  },
  {
   "cell_type": "markdown",
   "id": "921d0043-bc16-4dd8-acce-09dd08b68ac2",
   "metadata": {},
   "source": [
    "1. Data Preprocessing"
   ]
  },
  {
   "cell_type": "raw",
   "id": "fe70074e-1212-433a-89bc-2a12cb32251c",
   "metadata": {},
   "source": [
    "import pandas as pd\n",
    "\n",
    "# Load transaction data\n",
    "df = pd.read_csv('transactions.csv', parse_dates=['order_date'])\n",
    "\n",
    "# Inspect data\n",
    "print(df.head())\n",
    "print(df.dtypes)\n",
    "\n",
    "# Optional: Merge with customer metadata\n",
    "# customers = pd.read_csv('customers.csv')\n",
    "# df = df.merge(customers, on='customer_id', how='left')\n",
    "\n",
    "# Drop duplicates and handle missing values\n",
    "df.drop_duplicates(inplace=True)\n",
    "df.dropna(inplace=True)\n"
   ]
  },
  {
   "cell_type": "markdown",
   "id": "013db2d8-c6f1-41f3-a5bf-3a4eaf6f8490",
   "metadata": {},
   "source": [
    "2. Feature Engineering (RFM + AOV)"
   ]
  },
  {
   "cell_type": "raw",
   "id": "86be5ad3-234e-4ad4-8498-67fa9bf6c3eb",
   "metadata": {},
   "source": [
    "snapshot_date = df['order_date'].max() + pd.Timedelta(days=1)\n",
    "\n",
    "rfm = df.groupby('customer_id').agg({\n",
    "    'order_date': [lambda x: (snapshot_date - x.max()).days,  # Recency\n",
    "                   'count'],                                   # Frequency\n",
    "    'order_amount': ['mean', 'sum']                            # AOV, LTV proxy\n",
    "}).reset_index()\n",
    "\n",
    "# Rename columns\n",
    "rfm.columns = ['customer_id', 'recency', 'frequency', 'aov', 'ltv']\n"
   ]
  },
  {
   "cell_type": "markdown",
   "id": "eefb69fc-68d4-476a-a027-e13a7e4bbaf2",
   "metadata": {},
   "source": [
    "3. Model Training\n",
    "\n",
    "Prepare Data"
   ]
  },
  {
   "cell_type": "raw",
   "id": "c95f12a4-0fef-46f3-8930-05fb3cff019f",
   "metadata": {},
   "source": [
    "from sklearn.model_selection import train_test_split\n",
    "\n",
    "X = rfm[['recency', 'frequency', 'aov']]\n",
    "y = rfm['ltv']\n",
    "\n",
    "X_train, X_test, y_train, y_test = train_test_split(X, y, test_size=0.2, random_state=42)\n"
   ]
  },
  {
   "cell_type": "markdown",
   "id": "daa490b3-8590-4af0-bda6-4c3a7de9459d",
   "metadata": {},
   "source": [
    "Train XGBoost Regressor"
   ]
  },
  {
   "cell_type": "raw",
   "id": "78cb41ff-76db-470d-b588-8b7f511a16ed",
   "metadata": {},
   "source": [
    "from xgboost import XGBRegressor\n",
    "\n",
    "model = XGBRegressor()\n",
    "model.fit(X_train, y_train)\n"
   ]
  },
  {
   "cell_type": "markdown",
   "id": "06474eea-3e81-45eb-abbe-994e4dd52b44",
   "metadata": {},
   "source": [
    " 4. Model Evaluation"
   ]
  },
  {
   "cell_type": "raw",
   "id": "3c0d4238-b16b-4849-8142-9b65ac48f099",
   "metadata": {},
   "source": [
    "from sklearn.metrics import mean_absolute_error, mean_squared_error\n",
    "import numpy as np\n",
    "\n",
    "y_pred = model.predict(X_test)\n",
    "\n",
    "mae = mean_absolute_error(y_test, y_pred)\n",
    "rmse = np.sqrt(mean_squared_error(y_test, y_pred))\n",
    "\n",
    "print(f'MAE: {mae:.2f}')\n",
    "print(f'RMSE: {rmse:.2f}')\n"
   ]
  },
  {
   "cell_type": "markdown",
   "id": "1aa246c4-99af-4741-8ff8-9ebeda0a6f71",
   "metadata": {},
   "source": [
    "5. Visualizations"
   ]
  },
  {
   "cell_type": "raw",
   "id": "71c07e78-955a-4fea-a8db-340d91d02d4d",
   "metadata": {},
   "source": [
    "import matplotlib.pyplot as plt\n",
    "import seaborn as sns\n",
    "\n",
    "plt.figure(figsize=(8, 5))\n",
    "sns.scatterplot(x=y_test, y=y_pred)\n",
    "plt.xlabel(\"Actual LTV\")\n",
    "plt.ylabel(\"Predicted LTV\")\n",
    "plt.title(\"Predicted vs Actual LTV\")\n",
    "plt.grid(True)\n",
    "plt.show()\n"
   ]
  },
  {
   "cell_type": "markdown",
   "id": "84be0b40-30b7-492f-8fae-ba7d792cff66",
   "metadata": {},
   "source": [
    "6. Customer Segmentation"
   ]
  },
  {
   "cell_type": "raw",
   "id": "568f52ae-5e46-45a6-a93e-5175fd8e8825",
   "metadata": {},
   "source": [
    "rfm['predicted_ltv'] = model.predict(X)\n",
    "rfm['segment'] = pd.qcut(rfm['predicted_ltv'], q=4, labels=['Low', 'Mid-Low', 'Mid-High', 'High'])\n"
   ]
  },
  {
   "cell_type": "markdown",
   "id": "97bf0a28-0bb7-4d18-aae9-f4df46e93374",
   "metadata": {},
   "source": [
    " 7. Deliverables\n",
    "\n",
    "a. Save Model"
   ]
  },
  {
   "cell_type": "markdown",
   "id": "56f8e414-74d8-465f-952b-32e0f55a7a5c",
   "metadata": {},
   "source": [
    "b. Export Predictions to CSV"
   ]
  },
  {
   "cell_type": "raw",
   "id": "811f6432-b8cd-444b-8e72-1083b97ca32c",
   "metadata": {},
   "source": [
    "rfm[['customer_id', 'predicted_ltv', 'segment']].to_csv('ltv_predictions.csv', index=False)\n"
   ]
  },
  {
   "cell_type": "markdown",
   "id": "649139a2-9e39-4231-8e43-14a8d4d0f75a",
   "metadata": {},
   "source": [
    "Deliverable Summary\n",
    "✅ Python Notebook: customer_ltv_prediction.ipynb\n",
    "\n",
    "✅ Model File: ltv_model.pkl\n",
    "\n",
    "✅ Final CSV Output: ltv_predictions.csv\n",
    "\n",
    "✅ Visualizations: Embedded in notebook (scatterplot, evaluation metrics)"
   ]
  },
  {
   "cell_type": "code",
   "execution_count": null,
   "id": "bea893cf-a8d3-4cf3-a67a-03df53a951f9",
   "metadata": {},
   "outputs": [],
   "source": []
  }
 ],
 "metadata": {
  "kernelspec": {
   "display_name": "Python [conda env:anaconda3]",
   "language": "python",
   "name": "conda-env-anaconda3-py"
  },
  "language_info": {
   "codemirror_mode": {
    "name": "ipython",
    "version": 3
   },
   "file_extension": ".py",
   "mimetype": "text/x-python",
   "name": "python",
   "nbconvert_exporter": "python",
   "pygments_lexer": "ipython3",
   "version": "3.12.7"
  }
 },
 "nbformat": 4,
 "nbformat_minor": 5
}
