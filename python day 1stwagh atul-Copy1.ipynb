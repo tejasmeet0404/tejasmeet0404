{
 "cells": [
  {
   "cell_type": "markdown",
   "id": "27d605db-87b0-4748-abee-11be4221ec0f",
   "metadata": {},
   "source": [
    "<a id='1'></a><> <h3 style=\"background-color: Black; color:white\" ><br>CELL<br></h3>"
   ]
  },
  {
   "cell_type": "markdown",
   "id": "869444cf-0f58-4274-8209-0790aa163ec7",
   "metadata": {},
   "source": [
    "Hello This is day 1 of python"
   ]
  },
  {
   "cell_type": "code",
   "execution_count": 1,
   "id": "c6e75637-be90-4c67-86e0-eb670cb64bf0",
   "metadata": {},
   "outputs": [
    {
     "name": "stdout",
     "output_type": "stream",
     "text": [
      "Hello World\n"
     ]
    }
   ],
   "source": [
    "print(\"Hello World\")"
   ]
  },
  {
   "cell_type": "raw",
   "id": "5a76b26b-5fcd-4c4c-8512-8060b890a975",
   "metadata": {},
   "source": [
    "I want my notebook raw "
   ]
  },
  {
   "cell_type": "markdown",
   "id": "55e02616-6db6-4c02-9af9-b0a9e2d95be6",
   "metadata": {},
   "source": [
    "Python is a progamming language which is high leval and general purpose in natue,python \n",
    "is an interpreated language.\n",
    "The current version of python is3.11\n",
    "We are writing python programs in jupyter notebook which is the part of anaconda navigator.\n",
    "we are going to write information or order in the cells of jypter notebook which comes up with diff mode.\n",
    "python is case sensitive in nature."
   ]
  },
  {
   "cell_type": "markdown",
   "id": "7dd59551-94ef-48c3-a055-5f1f9853bb5b",
   "metadata": {},
   "source": [
    "Keywords and Identifiers:"
   ]
  },
  {
   "cell_type": "markdown",
   "id": "5e9d241d-9c39-4911-8d3d-95e6c4d98d06",
   "metadata": {},
   "source": [
    "<a id='1'></a><> <h3 style=\"background-color: Black; color:white\" ><br>Keywords and identifiers<br></h3> "
   ]
  },
  {
   "cell_type": "markdown",
   "id": "122c0633-f5b2-4d9f-8df0-5645e741523a",
   "metadata": {},
   "source": [
    "<a id='1'></a><> <h3 style=\"background-color: Black; color:white\" ><br>Keywords<br></h3>"
   ]
  },
  {
   "cell_type": "markdown",
   "id": "2b042b5e-5ae1-417b-a779-98717d1d4c15",
   "metadata": {},
   "source": [
    "keywords are case reserved words in python.overall we have 36 keywords."
   ]
  },
  {
   "cell_type": "code",
   "execution_count": null,
   "id": "89b2387b-4c78-4403-97bd-df1b25016108",
   "metadata": {},
   "outputs": [],
   "source": [
    "def,import,True. false"
   ]
  },
  {
   "cell_type": "markdown",
   "id": "77ace234-d5ad-496e-a6c9-a3f90874603d",
   "metadata": {},
   "source": [
    "<a id='1'></a><> <h3 style=\"background-color: Black; color:white\" ><br>Identifiers<br></h3>"
   ]
  },
  {
   "cell_type": "markdown",
   "id": "eb2a423f-d0d0-476e-87f9-d1a9eca61b70",
   "metadata": {},
   "source": [
    "Identifiers are those words which helps user to assign specific meaning is it and these are not\n",
    "reserved or built in.\n",
    "we have some rules to declare identiers :\n",
    "\n",
    "1.We cannot use keywords as identifiers .\n",
    "\n",
    "2.identifiers always starts with an alphabet or_followed  with my combination of alphabet and numbers.\n",
    "\n",
    "3.we cannot use any special character as the identifier.!@#$%^&*()"
   ]
  },
  {
   "cell_type": "code",
   "execution_count": 4,
   "id": "5ba0c64b-9d94-4a07-9498-e1b917d91b36",
   "metadata": {
    "jupyter": {
     "source_hidden": true
    }
   },
   "outputs": [],
   "source": [
    "megha_08=67     #statements"
   ]
  },
  {
   "cell_type": "code",
   "execution_count": null,
   "id": "0cfac2ca-4bdd-4c6e-9cec-ed6c1f11ec9d",
   "metadata": {},
   "outputs": [],
   "source": [
    "python09=90.67"
   ]
  },
  {
   "cell_type": "code",
   "execution_count": null,
   "id": "d71ad64e-aa51-4c94-b742-bcc02611d49f",
   "metadata": {},
   "outputs": [],
   "source": [
    "_hey=56"
   ]
  },
  {
   "cell_type": "markdown",
   "id": "34d7c9fb-c6ff-47a0-90d8-c3a014edf35b",
   "metadata": {},
   "source": [
    "<a id='1'></a><> <h3 style=\"background-color: Black; color:white\" ><br>Data Types<br></h3>"
   ]
  },
  {
   "cell_type": "markdown",
   "id": "2b5c330f-0313-4250-b462-964776fcc21f",
   "metadata": {},
   "source": [
    "python has several builtin data types,each data type has its on set of properties, methods and behaviour.\n",
    "\n",
    "prinitive Data types \n",
    "homogenous in nature and have atendency to story 1variable/identifer 1 value.\n",
    "\n",
    "Non homogenous in nature and have atendency to store 1variable/identifier multiple values."
   ]
  },
  {
   "cell_type": "markdown",
   "id": "11c423a2-36d9-4f22-b2d6-f63894a8ba75",
   "metadata": {},
   "source": [
    "#Int:\n",
    "any number coming between the range of +infinity to -infinity we are going to call that as int and it should be a whole number."
   ]
  },
  {
   "cell_type": "code",
   "execution_count": 1,
   "id": "e6977b45-0bc0-42d1-b1cb-5df859ae3e10",
   "metadata": {},
   "outputs": [
    {
     "name": "stdout",
     "output_type": "stream",
     "text": [
      "20\n"
     ]
    }
   ],
   "source": [
    "int_1=20\n",
    "print(int_1)"
   ]
  },
  {
   "cell_type": "code",
   "execution_count": 4,
   "id": "8597aa3c-cb79-49ca-83b7-48a2c2cff7ba",
   "metadata": {},
   "outputs": [
    {
     "name": "stdout",
     "output_type": "stream",
     "text": [
      "<class 'int'>\n"
     ]
    }
   ],
   "source": [
    "print(type(int_1))"
   ]
  },
  {
   "cell_type": "code",
   "execution_count": 3,
   "id": "25b8aca8-1800-45eb-b923-50141f61d9a5",
   "metadata": {},
   "outputs": [
    {
     "data": {
      "text/plain": [
       "int"
      ]
     },
     "execution_count": 3,
     "metadata": {},
     "output_type": "execute_result"
    }
   ],
   "source": [
    "int_2=67\n",
    "type(int_2)"
   ]
  },
  {
   "cell_type": "code",
   "execution_count": 5,
   "id": "fb88c172-30b1-4d71-9995-e95b735be41b",
   "metadata": {},
   "outputs": [
    {
     "data": {
      "text/plain": [
       "int"
      ]
     },
     "execution_count": 5,
     "metadata": {},
     "output_type": "execute_result"
    }
   ],
   "source": [
    "int_3=89\n",
    "type(int_3)"
   ]
  },
  {
   "cell_type": "code",
   "execution_count": null,
   "id": "94cc4af1-a623-4338-8873-9870e303996f",
   "metadata": {},
   "outputs": [],
   "source": [
    "#float:\n",
    "any number coming between the range of +infinity to -infinity we are going to call that as int and it should be a decimal number."
   ]
  },
  {
   "cell_type": "code",
   "execution_count": 6,
   "id": "f6b9735b-d6d3-44dd-8150-2a372eaebc33",
   "metadata": {},
   "outputs": [
    {
     "data": {
      "text/plain": [
       "float"
      ]
     },
     "execution_count": 6,
     "metadata": {},
     "output_type": "execute_result"
    }
   ],
   "source": [
    "float_2=90.4\n",
    "type(float_2)"
   ]
  },
  {
   "cell_type": "code",
   "execution_count": 7,
   "id": "63633535-50a6-4314-ba2d-30eeb66d643c",
   "metadata": {},
   "outputs": [
    {
     "data": {
      "text/plain": [
       "float"
      ]
     },
     "execution_count": 7,
     "metadata": {},
     "output_type": "execute_result"
    }
   ],
   "source": [
    "float_4=78.0\n",
    "type(float_4)"
   ]
  },
  {
   "cell_type": "code",
   "execution_count": null,
   "id": "7173dc5c-0056-4708-85b7-64bbaca66012",
   "metadata": {},
   "outputs": [],
   "source": [
    "#string:\n",
    "any combination of charcter that we are going to declar inside single or double inverted commas are considered as strings.\n"
   ]
  },
  {
   "cell_type": "code",
   "execution_count": 11,
   "id": "e9900c05-6b89-41f6-b132-b72cd8d3134e",
   "metadata": {},
   "outputs": [
    {
     "name": "stdout",
     "output_type": "stream",
     "text": [
      "Hey today is 2nd day of python.\n"
     ]
    }
   ],
   "source": [
    "str_1=\"Hey today is 2nd day of python.\"\n",
    "print(str_1)"
   ]
  },
  {
   "cell_type": "code",
   "execution_count": 13,
   "id": "05c0dcbb-bd33-4d85-9534-7cb36382fcd4",
   "metadata": {},
   "outputs": [
    {
     "name": "stdout",
     "output_type": "stream",
     "text": [
      "Hey today is 2nd day of python.\n"
     ]
    }
   ],
   "source": [
    "print(\"Hey today is 2nd day of python.\")"
   ]
  },
  {
   "cell_type": "code",
   "execution_count": 14,
   "id": "e3665c09-1050-4dae-a8f3-8b7dd84184f4",
   "metadata": {},
   "outputs": [
    {
     "data": {
      "text/plain": [
       "str"
      ]
     },
     "execution_count": 14,
     "metadata": {},
     "output_type": "execute_result"
    }
   ],
   "source": [
    "type(str_1)"
   ]
  },
  {
   "cell_type": "code",
   "execution_count": null,
   "id": "91d6559e-ab6a-478e-9fd8-22eb0c1237c1",
   "metadata": {},
   "outputs": [],
   "source": [
    "#Boolean:\n",
    "if something is in boolean format the output will be either True or False"
   ]
  },
  {
   "cell_type": "code",
   "execution_count": 15,
   "id": "6a3ee88e-e1ce-4653-b635-a7b369ca64b2",
   "metadata": {},
   "outputs": [
    {
     "data": {
      "text/plain": [
       "bool"
      ]
     },
     "execution_count": 15,
     "metadata": {},
     "output_type": "execute_result"
    }
   ],
   "source": [
    "x=True\n",
    "type(x)"
   ]
  },
  {
   "cell_type": "code",
   "execution_count": 16,
   "id": "cb815b8f-617d-4a60-b593-1b2b54daa5d0",
   "metadata": {},
   "outputs": [
    {
     "data": {
      "text/plain": [
       "bool"
      ]
     },
     "execution_count": 16,
     "metadata": {},
     "output_type": "execute_result"
    }
   ],
   "source": [
    "y=False\n",
    "type(y)"
   ]
  },
  {
   "cell_type": "code",
   "execution_count": null,
   "id": "3aeb96fc-1b66-4f67-8298-88bfb6a6e879",
   "metadata": {},
   "outputs": [],
   "source": [
    "#complex:\n",
    "2+3i"
   ]
  },
  {
   "cell_type": "code",
   "execution_count": 17,
   "id": "6de3ada1-3a53-47f0-98c3-daece6263c36",
   "metadata": {},
   "outputs": [
    {
     "name": "stdout",
     "output_type": "stream",
     "text": [
      "(2+3j)\n"
     ]
    }
   ],
   "source": [
    "comp=complex(2,3)\n",
    "print(comp)"
   ]
  },
  {
   "cell_type": "code",
   "execution_count": 18,
   "id": "1e2c5cf2-6170-40ee-aa4d-177a8aa631ac",
   "metadata": {},
   "outputs": [
    {
     "data": {
      "text/plain": [
       "2.0"
      ]
     },
     "execution_count": 18,
     "metadata": {},
     "output_type": "execute_result"
    }
   ],
   "source": [
    "comp.real"
   ]
  },
  {
   "cell_type": "code",
   "execution_count": 20,
   "id": "ddca2e9e-51a0-4303-b0b0-84bf3006765b",
   "metadata": {},
   "outputs": [
    {
     "data": {
      "text/plain": [
       "3.0"
      ]
     },
     "execution_count": 20,
     "metadata": {},
     "output_type": "execute_result"
    }
   ],
   "source": [
    "comp.imag"
   ]
  },
  {
   "cell_type": "code",
   "execution_count": 21,
   "id": "786c02fe-6b05-483e-a45a-bdd351853b53",
   "metadata": {},
   "outputs": [
    {
     "data": {
      "text/plain": [
       "NoneType"
      ]
     },
     "execution_count": 21,
     "metadata": {},
     "output_type": "execute_result"
    }
   ],
   "source": [
    "var_1=None\n",
    "type(var_1)"
   ]
  },
  {
   "cell_type": "markdown",
   "id": "ee5bcbd2-9e72-4bf9-8928-4723b7f239ea",
   "metadata": {},
   "source": [
    "<a id='1'></a><> <h3 style=\"background-color: Black; color:white\" ><br>Non Primitive Data types <br></h3>"
   ]
  },
  {
   "cell_type": "code",
   "execution_count": 23,
   "id": "955b5ece-8e89-4757-b7c5-8506cc212553",
   "metadata": {},
   "outputs": [
    {
     "name": "stdout",
     "output_type": "stream",
     "text": [
      "[56, 45.7, 'string', True]\n"
     ]
    }
   ],
   "source": [
    "#list:\n",
    "#what all data types I can declare inside this square bracket.\n",
    "#how many elements i can declar inside the list.\n",
    "list_1=[56,45.7,\"string\",True]\n",
    "print(list_1)"
   ]
  },
  {
   "cell_type": "code",
   "execution_count": 29,
   "id": "7f6051a8-956b-4aa3-8584-585c118bf7b0",
   "metadata": {},
   "outputs": [
    {
     "data": {
      "text/plain": [
       "list"
      ]
     },
     "execution_count": 29,
     "metadata": {},
     "output_type": "execute_result"
    }
   ],
   "source": [
    "type(list_1)"
   ]
  },
  {
   "cell_type": "code",
   "execution_count": 14,
   "id": "b2e84c4e-e8f7-4323-984a-d9459f0cd983",
   "metadata": {},
   "outputs": [
    {
     "name": "stdout",
     "output_type": "stream",
     "text": [
      "203\n"
     ]
    }
   ],
   "source": [
    "list_num=[10,203,40,506,60,708,90]\n",
    "print(list_num[1])"
   ]
  },
  {
   "cell_type": "code",
   "execution_count": 28,
   "id": "06445050-13fc-4d6f-a2cc-12623dbd998f",
   "metadata": {},
   "outputs": [
    {
     "data": {
      "text/plain": [
       "60"
      ]
     },
     "execution_count": 28,
     "metadata": {},
     "output_type": "execute_result"
    }
   ],
   "source": [
    "list_num[4]"
   ]
  },
  {
   "cell_type": "code",
   "execution_count": 15,
   "id": "6d165268-e4ee-4a59-8bfd-1c064ae1a126",
   "metadata": {},
   "outputs": [
    {
     "data": {
      "text/plain": [
       "'xyz'"
      ]
     },
     "execution_count": 15,
     "metadata": {},
     "output_type": "execute_result"
    }
   ],
   "source": [
    "list_large=[1,2,3,5,6,8,9,0,\"banana\",35,5,7,6,87,9,0,\"xyz\"]\n",
    "list_large[-1]"
   ]
  },
  {
   "cell_type": "code",
   "execution_count": 2,
   "id": "db39f0bd-866c-4ddf-9de4-103f439bdb3c",
   "metadata": {},
   "outputs": [
    {
     "data": {
      "text/plain": [
       "'banana'"
      ]
     },
     "execution_count": 2,
     "metadata": {},
     "output_type": "execute_result"
    }
   ],
   "source": [
    "#nested list:\n",
    "nest_list=[10,20,30,40,50,[\"apple\",\"banana\",\"guava\",\"papaya\"],89]\n",
    "nest_list[-2][1]  "
   ]
  },
  {
   "cell_type": "code",
   "execution_count": 9,
   "id": "306470c9-76e7-4ae1-9d69-928a87655384",
   "metadata": {},
   "outputs": [
    {
     "data": {
      "text/plain": [
       "'guava'"
      ]
     },
     "execution_count": 9,
     "metadata": {},
     "output_type": "execute_result"
    }
   ],
   "source": [
    "#HW:\n",
    "#try to extract\"guava\"from nest_list. \n",
    "nest_list[-2][-2]"
   ]
  },
  {
   "cell_type": "code",
   "execution_count": 10,
   "id": "020857f7-07ca-4cd3-a11d-ae198ff439b6",
   "metadata": {},
   "outputs": [
    {
     "data": {
      "text/plain": [
       "'guava'"
      ]
     },
     "execution_count": 10,
     "metadata": {},
     "output_type": "execute_result"
    }
   ],
   "source": [
    "nest_list[5][2]"
   ]
  },
  {
   "cell_type": "code",
   "execution_count": 4,
   "id": "5edd09e2-5afa-44ba-9a2b-df1ecff7e0e3",
   "metadata": {},
   "outputs": [
    {
     "name": "stdout",
     "output_type": "stream",
     "text": [
      "Help on class list in module builtins:\n",
      "\n",
      "class list(object)\n",
      " |  list(iterable=(), /)\n",
      " |\n",
      " |  Built-in mutable sequence.\n",
      " |\n",
      " |  If no argument is given, the constructor creates a new empty list.\n",
      " |  The argument must be an iterable if specified.\n",
      " |\n",
      " |  Methods defined here:\n",
      " |\n",
      " |  __add__(self, value, /)\n",
      " |      Return self+value.\n",
      " |\n",
      " |  __contains__(self, key, /)\n",
      " |      Return bool(key in self).\n",
      " |\n",
      " |  __delitem__(self, key, /)\n",
      " |      Delete self[key].\n",
      " |\n",
      " |  __eq__(self, value, /)\n",
      " |      Return self==value.\n",
      " |\n",
      " |  __ge__(self, value, /)\n",
      " |      Return self>=value.\n",
      " |\n",
      " |  __getattribute__(self, name, /)\n",
      " |      Return getattr(self, name).\n",
      " |\n",
      " |  __getitem__(self, index, /)\n",
      " |      Return self[index].\n",
      " |\n",
      " |  __gt__(self, value, /)\n",
      " |      Return self>value.\n",
      " |\n",
      " |  __iadd__(self, value, /)\n",
      " |      Implement self+=value.\n",
      " |\n",
      " |  __imul__(self, value, /)\n",
      " |      Implement self*=value.\n",
      " |\n",
      " |  __init__(self, /, *args, **kwargs)\n",
      " |      Initialize self.  See help(type(self)) for accurate signature.\n",
      " |\n",
      " |  __iter__(self, /)\n",
      " |      Implement iter(self).\n",
      " |\n",
      " |  __le__(self, value, /)\n",
      " |      Return self<=value.\n",
      " |\n",
      " |  __len__(self, /)\n",
      " |      Return len(self).\n",
      " |\n",
      " |  __lt__(self, value, /)\n",
      " |      Return self<value.\n",
      " |\n",
      " |  __mul__(self, value, /)\n",
      " |      Return self*value.\n",
      " |\n",
      " |  __ne__(self, value, /)\n",
      " |      Return self!=value.\n",
      " |\n",
      " |  __repr__(self, /)\n",
      " |      Return repr(self).\n",
      " |\n",
      " |  __reversed__(self, /)\n",
      " |      Return a reverse iterator over the list.\n",
      " |\n",
      " |  __rmul__(self, value, /)\n",
      " |      Return value*self.\n",
      " |\n",
      " |  __setitem__(self, key, value, /)\n",
      " |      Set self[key] to value.\n",
      " |\n",
      " |  __sizeof__(self, /)\n",
      " |      Return the size of the list in memory, in bytes.\n",
      " |\n",
      " |  append(self, object, /)\n",
      " |      Append object to the end of the list.\n",
      " |\n",
      " |  clear(self, /)\n",
      " |      Remove all items from list.\n",
      " |\n",
      " |  copy(self, /)\n",
      " |      Return a shallow copy of the list.\n",
      " |\n",
      " |  count(self, value, /)\n",
      " |      Return number of occurrences of value.\n",
      " |\n",
      " |  extend(self, iterable, /)\n",
      " |      Extend list by appending elements from the iterable.\n",
      " |\n",
      " |  index(self, value, start=0, stop=9223372036854775807, /)\n",
      " |      Return first index of value.\n",
      " |\n",
      " |      Raises ValueError if the value is not present.\n",
      " |\n",
      " |  insert(self, index, object, /)\n",
      " |      Insert object before index.\n",
      " |\n",
      " |  pop(self, index=-1, /)\n",
      " |      Remove and return item at index (default last).\n",
      " |\n",
      " |      Raises IndexError if list is empty or index is out of range.\n",
      " |\n",
      " |  remove(self, value, /)\n",
      " |      Remove first occurrence of value.\n",
      " |\n",
      " |      Raises ValueError if the value is not present.\n",
      " |\n",
      " |  reverse(self, /)\n",
      " |      Reverse *IN PLACE*.\n",
      " |\n",
      " |  sort(self, /, *, key=None, reverse=False)\n",
      " |      Sort the list in ascending order and return None.\n",
      " |\n",
      " |      The sort is in-place (i.e. the list itself is modified) and stable (i.e. the\n",
      " |      order of two equal elements is maintained).\n",
      " |\n",
      " |      If a key function is given, apply it once to each list item and sort them,\n",
      " |      ascending or descending, according to their function values.\n",
      " |\n",
      " |      The reverse flag can be set to sort in descending order.\n",
      " |\n",
      " |  ----------------------------------------------------------------------\n",
      " |  Class methods defined here:\n",
      " |\n",
      " |  __class_getitem__(...)\n",
      " |      See PEP 585\n",
      " |\n",
      " |  ----------------------------------------------------------------------\n",
      " |  Static methods defined here:\n",
      " |\n",
      " |  __new__(*args, **kwargs)\n",
      " |      Create and return a new object.  See help(type) for accurate signature.\n",
      " |\n",
      " |  ----------------------------------------------------------------------\n",
      " |  Data and other attributes defined here:\n",
      " |\n",
      " |  __hash__ = None\n",
      "\n"
     ]
    }
   ],
   "source": [
    "help(list)"
   ]
  },
  {
   "cell_type": "code",
   "execution_count": null,
   "id": "6d00469d-66da-48b3-a647-4c35df47d4ef",
   "metadata": {},
   "outputs": [],
   "source": [
    "#list:\n",
    "it is built-in data type and follows indexing.Indexing works in both forward\n",
    "and backwords direction. forword indexing always start with 0 where has backwords indexing always starts with-1"
   ]
  },
  {
   "cell_type": "code",
   "execution_count": 5,
   "id": "2c07121b-228a-4c50-be35-cee3357a6f4b",
   "metadata": {},
   "outputs": [
    {
     "name": "stdout",
     "output_type": "stream",
     "text": [
      "[56, 45.7, 'string', True, 'apple']\n"
     ]
    }
   ],
   "source": [
    "#methods for the list:\n",
    "#what is I want to add one element bythe end of the list is already declared.\n",
    "list_1=[56,45.7,\"string\",True]\n",
    "list_1.append(\"apple\")\n",
    "print(list_1)          "
   ]
  },
  {
   "cell_type": "code",
   "execution_count": 21,
   "id": "435ea729-d581-41dc-bf02-48274f89ced6",
   "metadata": {},
   "outputs": [],
   "source": [
    "#I want to add multiple element by the end of the list.\n",
    "list_1.extend([\"banana\",\"litchi\"])"
   ]
  },
  {
   "cell_type": "code",
   "execution_count": 22,
   "id": "6c21c138-1a98-46bd-a1a7-4735c2d46780",
   "metadata": {},
   "outputs": [
    {
     "name": "stdout",
     "output_type": "stream",
     "text": [
      "[56, 45.7, 'string', True, 'apple', 'banana', 'litchi']\n"
     ]
    }
   ],
   "source": [
    "print(list_1)"
   ]
  },
  {
   "cell_type": "code",
   "execution_count": 23,
   "id": "6ac7b845-46c7-4982-b749-6f3f5c66c936",
   "metadata": {},
   "outputs": [],
   "source": [
    "#add element at some respective position inside the list.\n",
    "list_1.insert(3,\"new\")"
   ]
  },
  {
   "cell_type": "code",
   "execution_count": 24,
   "id": "53892320-66de-43e3-88cf-88996c1b09e6",
   "metadata": {},
   "outputs": [
    {
     "data": {
      "text/plain": [
       "[56, 45.7, 'string', 'new', True, 'apple', 'banana', 'litchi']"
      ]
     },
     "execution_count": 24,
     "metadata": {},
     "output_type": "execute_result"
    }
   ],
   "source": [
    "list_1"
   ]
  },
  {
   "cell_type": "code",
   "execution_count": 25,
   "id": "15eab264-6cb0-48fc-b9e6-df2f1415ea93",
   "metadata": {},
   "outputs": [
    {
     "data": {
      "text/plain": [
       "'litchi'"
      ]
     },
     "execution_count": 25,
     "metadata": {},
     "output_type": "execute_result"
    }
   ],
   "source": [
    "#delete element from the last of the list.\n",
    "list_1.pop()"
   ]
  },
  {
   "cell_type": "code",
   "execution_count": 26,
   "id": "ecf40f6c-4f00-4a54-9346-e1a95c3bc7f5",
   "metadata": {},
   "outputs": [
    {
     "name": "stdout",
     "output_type": "stream",
     "text": [
      "[56, 45.7, 'string', 'new', True, 'apple', 'banana']\n"
     ]
    }
   ],
   "source": [
    "print(list_1)"
   ]
  },
  {
   "cell_type": "code",
   "execution_count": 27,
   "id": "a35a07ac-be9c-4338-a696-6f10bcf2667c",
   "metadata": {},
   "outputs": [
    {
     "data": {
      "text/plain": [
       "'string'"
      ]
     },
     "execution_count": 27,
     "metadata": {},
     "output_type": "execute_result"
    }
   ],
   "source": [
    "#delete something from the desired index position.\n",
    "list_1.pop(2)"
   ]
  },
  {
   "cell_type": "code",
   "execution_count": 28,
   "id": "96cd9d57-ebb4-40de-8929-53513f0d239d",
   "metadata": {},
   "outputs": [
    {
     "name": "stdout",
     "output_type": "stream",
     "text": [
      "[56, 45.7, 'new', True, 'apple', 'banana']\n"
     ]
    }
   ],
   "source": [
    "print(list_1)"
   ]
  },
  {
   "cell_type": "code",
   "execution_count": 29,
   "id": "a245ac47-1ef6-4601-89f7-771c90bb077b",
   "metadata": {},
   "outputs": [],
   "source": [
    "#when we want to delete the element from the list.\n",
    "list_1.remove(\"apple\")"
   ]
  },
  {
   "cell_type": "code",
   "execution_count": 30,
   "id": "6eeb1428-e6a8-40f3-af61-168c0a005cc4",
   "metadata": {},
   "outputs": [
    {
     "data": {
      "text/plain": [
       "[56, 45.7, 'new', True, 'banana']"
      ]
     },
     "execution_count": 30,
     "metadata": {},
     "output_type": "execute_result"
    }
   ],
   "source": [
    "list_1"
   ]
  },
  {
   "cell_type": "code",
   "execution_count": 31,
   "id": "f18c6fa5-9e1d-4b72-8400-595bb516a0a3",
   "metadata": {},
   "outputs": [
    {
     "data": {
      "text/plain": [
       "2"
      ]
     },
     "execution_count": 31,
     "metadata": {},
     "output_type": "execute_result"
    }
   ],
   "source": [
    "#identify the index position of some element present inside the list.\n",
    "list_1.index(\"new\")"
   ]
  },
  {
   "cell_type": "code",
   "execution_count": 60,
   "id": "a9b9bbf2-671e-40b1-97b0-89c1b899484c",
   "metadata": {},
   "outputs": [],
   "source": [
    "#we want to delete all the elements from the  list but keep the identity of the list intact.\n",
    "list_1.clear()"
   ]
  },
  {
   "cell_type": "code",
   "execution_count": 47,
   "id": "b677418d-08a5-4826-bfea-9af1eec44e2e",
   "metadata": {},
   "outputs": [
    {
     "data": {
      "text/plain": [
       "[]"
      ]
     },
     "execution_count": 47,
     "metadata": {},
     "output_type": "execute_result"
    }
   ],
   "source": [
    "list_1"
   ]
  },
  {
   "cell_type": "code",
   "execution_count": 49,
   "id": "8450dbca-e3c7-436b-9023-90f0db98f218",
   "metadata": {},
   "outputs": [
    {
     "name": "stdout",
     "output_type": "stream",
     "text": [
      "[1, 2, 3, 5, 6, 8, 9, 0, 'banana', 35, 5, 7, 6, 87, 9, 0, 'xyz']\n"
     ]
    }
   ],
   "source": [
    "print(list_large)"
   ]
  },
  {
   "cell_type": "code",
   "execution_count": 52,
   "id": "b0a1d237-ae1c-4286-a0c5-b31eae770c86",
   "metadata": {},
   "outputs": [],
   "source": [
    "#create a copy of all the elements present inside list_large.\n",
    "copied_list=list_large.copy()"
   ]
  },
  {
   "cell_type": "code",
   "execution_count": 66,
   "id": "6c505145-2cf4-4c6b-a2c2-8a51af8f58b6",
   "metadata": {},
   "outputs": [
    {
     "name": "stdout",
     "output_type": "stream",
     "text": [
      "[1, 2, 3, 5, 6, 8, 9, 0, 'banana', 35, 5, 7, 6, 87, 9, 0, 'xyz']\n"
     ]
    }
   ],
   "source": [
    "print(copied_list)"
   ]
  },
  {
   "cell_type": "code",
   "execution_count": 73,
   "id": "d2c381e5-33a4-4934-9902-679f7fbcc5ec",
   "metadata": {},
   "outputs": [],
   "source": [
    "list_num=[0,23,14,25,89,5,2,4]\n",
    "list_num.sort()"
   ]
  },
  {
   "cell_type": "code",
   "execution_count": 74,
   "id": "3a3843d7-a24b-42b3-ae4d-9bb1e71f7ded",
   "metadata": {},
   "outputs": [
    {
     "data": {
      "text/plain": [
       "[0, 2, 4, 5, 14, 23, 25, 89]"
      ]
     },
     "execution_count": 74,
     "metadata": {},
     "output_type": "execute_result"
    }
   ],
   "source": [
    "list_num"
   ]
  },
  {
   "cell_type": "code",
   "execution_count": 75,
   "id": "af404420-e70c-4626-af08-de25d30e59f7",
   "metadata": {},
   "outputs": [],
   "source": [
    "list_str=[\"basketball\",\"apple\",\"banana\",\"cat\"]\n",
    "list_str.sort(reverse=True)"
   ]
  },
  {
   "cell_type": "code",
   "execution_count": 76,
   "id": "bd6110fb-b69d-4e97-9cfd-aa1e9b8e5784",
   "metadata": {},
   "outputs": [
    {
     "data": {
      "text/plain": [
       "['cat', 'basketball', 'banana', 'apple']"
      ]
     },
     "execution_count": 76,
     "metadata": {},
     "output_type": "execute_result"
    }
   ],
   "source": [
    "list_str"
   ]
  },
  {
   "cell_type": "code",
   "execution_count": 77,
   "id": "933b7b24-2d25-496c-926a-76961ba3e19d",
   "metadata": {},
   "outputs": [
    {
     "data": {
      "text/plain": [
       "['cat', 'basketball', 'banana', 'apple']"
      ]
     },
     "execution_count": 77,
     "metadata": {},
     "output_type": "execute_result"
    }
   ],
   "source": [
    "list_str"
   ]
  },
  {
   "cell_type": "code",
   "execution_count": null,
   "id": "21011d78-cd63-46bb-b473-c6d4dc9a916b",
   "metadata": {},
   "outputs": [],
   "source": [
    "list_str.reverse()"
   ]
  },
  {
   "cell_type": "code",
   "execution_count": 79,
   "id": "3e8832c5-8be8-4a9f-941d-aceeafee2063",
   "metadata": {},
   "outputs": [
    {
     "data": {
      "text/plain": [
       "['cat', 'basketball', 'banana', 'apple']"
      ]
     },
     "execution_count": 79,
     "metadata": {},
     "output_type": "execute_result"
    }
   ],
   "source": [
    "list_str"
   ]
  },
  {
   "cell_type": "markdown",
   "id": "e195d21c-37d7-4b96-9f11-37ef2a1132dc",
   "metadata": {},
   "source": [
    "<a id='1'></a><> <h3 style=\"background-color: Black; color:white\" ><br>Tuple<br></h3>"
   ]
  },
  {
   "cell_type": "code",
   "execution_count": 19,
   "id": "d93b01a1-252d-4e68-865d-1d9ef846ebdf",
   "metadata": {},
   "outputs": [
    {
     "name": "stdout",
     "output_type": "stream",
     "text": [
      "(10, 203, 40, 56, 67, 34, 78)\n"
     ]
    }
   ],
   "source": [
    "tuple_x=(10,203,40,56,67,34,78)\n",
    "print(tuple_x)"
   ]
  },
  {
   "cell_type": "code",
   "execution_count": 82,
   "id": "c52a0a65-df6c-46f2-b702-8f216946f5a2",
   "metadata": {},
   "outputs": [
    {
     "data": {
      "text/plain": [
       "tuple"
      ]
     },
     "execution_count": 82,
     "metadata": {},
     "output_type": "execute_result"
    }
   ],
   "source": [
    "type(tuple_x)"
   ]
  },
  {
   "cell_type": "code",
   "execution_count": 86,
   "id": "c80b47eb-67fb-4e10-96de-fc3eb6f8a858",
   "metadata": {},
   "outputs": [
    {
     "data": {
      "text/plain": [
       "'apple'"
      ]
     },
     "execution_count": 86,
     "metadata": {},
     "output_type": "execute_result"
    }
   ],
   "source": [
    "#what all data type are supported inside the tuple?\n",
    "tuple_data=(12,6.7,\"apple\",True,None,[12,3,4,5])\n",
    "tuple_data[2]"
   ]
  },
  {
   "cell_type": "code",
   "execution_count": null,
   "id": "15fcb957-b137-422d-8bbb-97bb00408ad2",
   "metadata": {},
   "outputs": [],
   "source": [
    "tuple is a type of non primitive data type and follows almost same propoerties to as that of list but also contains some major differences.\n",
    "we can also declare all types ofa data inside the tuple and its also follows indexing."
   ]
  },
  {
   "cell_type": "code",
   "execution_count": 20,
   "id": "e3825eb6-3ad8-4c87-9277-7f143f2589d2",
   "metadata": {},
   "outputs": [
    {
     "name": "stdout",
     "output_type": "stream",
     "text": [
      "(10, 203, 40, 56, 89, 'tuple', 'apple')\n"
     ]
    }
   ],
   "source": [
    "tuple_3=10,203, 40,56,89,\"tuple\", \"apple\"\n",
    "print(tuple_3)"
   ]
  },
  {
   "cell_type": "code",
   "execution_count": 21,
   "id": "cf21f28a-bf34-4680-b7cc-3e3401f030b2",
   "metadata": {},
   "outputs": [
    {
     "data": {
      "text/plain": [
       "(40, 56, 89)"
      ]
     },
     "execution_count": 21,
     "metadata": {},
     "output_type": "execute_result"
    }
   ],
   "source": [
    "tuple_3[2:5]"
   ]
  },
  {
   "cell_type": "code",
   "execution_count": 6,
   "id": "43e1271b-1b12-4e4b-bca7-db111a99e4cf",
   "metadata": {},
   "outputs": [
    {
     "data": {
      "text/plain": [
       "(10, 203, 40)"
      ]
     },
     "execution_count": 6,
     "metadata": {},
     "output_type": "execute_result"
    }
   ],
   "source": [
    "tuple_3[:3]"
   ]
  },
  {
   "cell_type": "code",
   "execution_count": 7,
   "id": "59e807c0-c720-4e4c-9c7d-89ac776ca9b1",
   "metadata": {},
   "outputs": [
    {
     "data": {
      "text/plain": [
       "(89, 'tuple', 'apple')"
      ]
     },
     "execution_count": 7,
     "metadata": {},
     "output_type": "execute_result"
    }
   ],
   "source": [
    "tuple_3[4:7]"
   ]
  },
  {
   "cell_type": "code",
   "execution_count": 8,
   "id": "53c135b7-ecce-4006-a6ee-b095ec678410",
   "metadata": {},
   "outputs": [
    {
     "data": {
      "text/plain": [
       "(89, 'tuple', 'apple')"
      ]
     },
     "execution_count": 8,
     "metadata": {},
     "output_type": "execute_result"
    }
   ],
   "source": [
    "tuple_3[4:]\n"
   ]
  },
  {
   "cell_type": "code",
   "execution_count": 9,
   "id": "e519f754-2360-430b-a070-a6dd18d0c98a",
   "metadata": {},
   "outputs": [
    {
     "data": {
      "text/plain": [
       "(89, 'tuple', 'apple')"
      ]
     },
     "execution_count": 9,
     "metadata": {},
     "output_type": "execute_result"
    }
   ],
   "source": [
    "tuple_3[-3:]"
   ]
  },
  {
   "cell_type": "code",
   "execution_count": 27,
   "id": "45fa2372-84db-4892-a9b9-f6ddd1df0ba9",
   "metadata": {},
   "outputs": [
    {
     "data": {
      "text/plain": [
       "(56, 89, 'tuple')"
      ]
     },
     "execution_count": 27,
     "metadata": {},
     "output_type": "execute_result"
    }
   ],
   "source": [
    "tuple_3=10,203,40,56,89,\"tuple\",\"apple\"\n",
    "tuple_3[-4:-1]"
   ]
  },
  {
   "cell_type": "code",
   "execution_count": 36,
   "id": "858a3e1f-8f9a-41bd-a596-c3833e56ab9d",
   "metadata": {},
   "outputs": [],
   "source": [
    "#nested tuple:\n",
    "tuple_1=(10,203,40,60,78,45,90,34,(50,5686,35,78,56,29),90,576,89)"
   ]
  },
  {
   "cell_type": "code",
   "execution_count": 37,
   "id": "66f8d371-6620-4c8f-b21c-0019d73413f6",
   "metadata": {},
   "outputs": [
    {
     "name": "stdout",
     "output_type": "stream",
     "text": [
      "Help on class tuple in module builtins:\n",
      "\n",
      "class tuple(object)\n",
      " |  tuple(iterable=(), /)\n",
      " |\n",
      " |  Built-in immutable sequence.\n",
      " |\n",
      " |  If no argument is given, the constructor returns an empty tuple.\n",
      " |  If iterable is specified the tuple is initialized from iterable's items.\n",
      " |\n",
      " |  If the argument is a tuple, the return value is the same object.\n",
      " |\n",
      " |  Built-in subclasses:\n",
      " |      asyncgen_hooks\n",
      " |      MonthDayNano\n",
      " |      UnraisableHookArgs\n",
      " |\n",
      " |  Methods defined here:\n",
      " |\n",
      " |  __add__(self, value, /)\n",
      " |      Return self+value.\n",
      " |\n",
      " |  __contains__(self, key, /)\n",
      " |      Return bool(key in self).\n",
      " |\n",
      " |  __eq__(self, value, /)\n",
      " |      Return self==value.\n",
      " |\n",
      " |  __ge__(self, value, /)\n",
      " |      Return self>=value.\n",
      " |\n",
      " |  __getattribute__(self, name, /)\n",
      " |      Return getattr(self, name).\n",
      " |\n",
      " |  __getitem__(self, key, /)\n",
      " |      Return self[key].\n",
      " |\n",
      " |  __getnewargs__(self, /)\n",
      " |\n",
      " |  __gt__(self, value, /)\n",
      " |      Return self>value.\n",
      " |\n",
      " |  __hash__(self, /)\n",
      " |      Return hash(self).\n",
      " |\n",
      " |  __iter__(self, /)\n",
      " |      Implement iter(self).\n",
      " |\n",
      " |  __le__(self, value, /)\n",
      " |      Return self<=value.\n",
      " |\n",
      " |  __len__(self, /)\n",
      " |      Return len(self).\n",
      " |\n",
      " |  __lt__(self, value, /)\n",
      " |      Return self<value.\n",
      " |\n",
      " |  __mul__(self, value, /)\n",
      " |      Return self*value.\n",
      " |\n",
      " |  __ne__(self, value, /)\n",
      " |      Return self!=value.\n",
      " |\n",
      " |  __repr__(self, /)\n",
      " |      Return repr(self).\n",
      " |\n",
      " |  __rmul__(self, value, /)\n",
      " |      Return value*self.\n",
      " |\n",
      " |  count(self, value, /)\n",
      " |      Return number of occurrences of value.\n",
      " |\n",
      " |  index(self, value, start=0, stop=9223372036854775807, /)\n",
      " |      Return first index of value.\n",
      " |\n",
      " |      Raises ValueError if the value is not present.\n",
      " |\n",
      " |  ----------------------------------------------------------------------\n",
      " |  Class methods defined here:\n",
      " |\n",
      " |  __class_getitem__(...)\n",
      " |      See PEP 585\n",
      " |\n",
      " |  ----------------------------------------------------------------------\n",
      " |  Static methods defined here:\n",
      " |\n",
      " |  __new__(*args, **kwargs)\n",
      " |      Create and return a new object.  See help(type) for accurate signature.\n",
      "\n"
     ]
    }
   ],
   "source": [
    "help(tuple)"
   ]
  },
  {
   "cell_type": "code",
   "execution_count": 42,
   "id": "649aecfd-98bc-4042-b496-dfd5a09ec7df",
   "metadata": {},
   "outputs": [
    {
     "data": {
      "text/plain": [
       "2"
      ]
     },
     "execution_count": 42,
     "metadata": {},
     "output_type": "execute_result"
    }
   ],
   "source": [
    "#How many time 90 appeared in the tuple_1.\n",
    "tuple_1.count(90)"
   ]
  },
  {
   "cell_type": "code",
   "execution_count": 43,
   "id": "afdab53c-bcb6-4d7f-961b-5e4a0bbe1acd",
   "metadata": {},
   "outputs": [
    {
     "data": {
      "text/plain": [
       "(10, 203, 40, 60, 78, 45, 90, 34, (50, 5686, 35, 78, 56, 29), 90, 576, 89)"
      ]
     },
     "execution_count": 43,
     "metadata": {},
     "output_type": "execute_result"
    }
   ],
   "source": [
    "tuple_1"
   ]
  },
  {
   "cell_type": "code",
   "execution_count": 44,
   "id": "aece525d-d4d6-4011-b14d-ee71141ec21b",
   "metadata": {},
   "outputs": [
    {
     "data": {
      "text/plain": [
       "3"
      ]
     },
     "execution_count": 44,
     "metadata": {},
     "output_type": "execute_result"
    }
   ],
   "source": [
    "#how to identifiy the index position of an element?\n",
    "tuple_1.index(60)"
   ]
  },
  {
   "cell_type": "code",
   "execution_count": 45,
   "id": "8c07a183-0996-4571-a474-38f160a02a01",
   "metadata": {},
   "outputs": [
    {
     "data": {
      "text/plain": [
       "6"
      ]
     },
     "execution_count": 45,
     "metadata": {},
     "output_type": "execute_result"
    }
   ],
   "source": [
    "tuple_1.index(90)"
   ]
  },
  {
   "cell_type": "code",
   "execution_count": 54,
   "id": "2503aa7e-995e-4e05-91bd-41ec2ef57faf",
   "metadata": {},
   "outputs": [
    {
     "name": "stdout",
     "output_type": "stream",
     "text": [
      "[10, 20, 30, 400, 50]\n"
     ]
    }
   ],
   "source": [
    "list_check=[10,20,30,40,50]\n",
    "tuple_check=(10,20,30,40,50)\n",
    "list_check[3]=400\n",
    "print(list_check)"
   ]
  },
  {
   "cell_type": "code",
   "execution_count": 52,
   "id": "e2b88150-2254-4384-96cb-4249620afe04",
   "metadata": {},
   "outputs": [
    {
     "ename": "SyntaxError",
     "evalue": "cannot assign to function call here. Maybe you meant '==' instead of '='? (2124769344.py, line 1)",
     "output_type": "error",
     "traceback": [
      "\u001b[1;36m  Cell \u001b[1;32mIn[52], line 1\u001b[1;36m\u001b[0m\n\u001b[1;33m    tuple_check(3)=400\u001b[0m\n\u001b[1;37m    ^\u001b[0m\n\u001b[1;31mSyntaxError\u001b[0m\u001b[1;31m:\u001b[0m cannot assign to function call here. Maybe you meant '==' instead of '='?\n"
     ]
    }
   ],
   "source": [
    "tuple_check(3)=400"
   ]
  },
  {
   "cell_type": "code",
   "execution_count": 65,
   "id": "a8b32c0d-da38-46ac-aea8-7db7c6af0b04",
   "metadata": {},
   "outputs": [
    {
     "name": "stdout",
     "output_type": "stream",
     "text": [
      "(90, 24, 34, 89, 56, 34, 20, 10)\n"
     ]
    }
   ],
   "source": [
    "#how we can reverse atuple is it possible?\n",
    "tuple_reverse=(10,20,34,56,89,34,24,90)\n",
    "x=tuple_reverse[::-1]\n",
    "print(x)"
   ]
  },
  {
   "cell_type": "code",
   "execution_count": 66,
   "id": "f69dd5ba-6c26-49df-931c-af7efcf69301",
   "metadata": {},
   "outputs": [
    {
     "data": {
      "text/plain": [
       "(10, 20, 34, 56, 89, 34, 24, 90)"
      ]
     },
     "execution_count": 66,
     "metadata": {},
     "output_type": "execute_result"
    }
   ],
   "source": [
    "tuple_reverse"
   ]
  },
  {
   "cell_type": "code",
   "execution_count": null,
   "id": "836f9d90-fee1-4cf4-8388-a9f698c4b4ed",
   "metadata": {},
   "outputs": [],
   "source": []
  }
 ],
 "metadata": {
  "kernelspec": {
   "display_name": "Python [conda env:anaconda3]",
   "language": "python",
   "name": "conda-env-anaconda3-py"
  },
  "language_info": {
   "codemirror_mode": {
    "name": "ipython",
    "version": 3
   },
   "file_extension": ".py",
   "mimetype": "text/x-python",
   "name": "python",
   "nbconvert_exporter": "python",
   "pygments_lexer": "ipython3",
   "version": "3.12.7"
  }
 },
 "nbformat": 4,
 "nbformat_minor": 5
}
