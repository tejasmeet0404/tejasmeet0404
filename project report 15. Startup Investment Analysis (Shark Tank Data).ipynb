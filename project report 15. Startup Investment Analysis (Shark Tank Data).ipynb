{
 "cells": [
  {
   "cell_type": "markdown",
   "id": "916f826f-b32e-470b-a6b6-5cb31e00ae34",
   "metadata": {},
   "source": [
    "project report 15. Startup Investment Analysis (Shark Tank Data)\n"
   ]
  },
  {
   "cell_type": "markdown",
   "id": "2d76942f-f36e-4da9-bbc2-c264f95e69d9",
   "metadata": {},
   "source": [
    "Objective\n",
    "\n",
    "\n",
    "Analyze startup investment trends using Shark Tank India/US datasets to discover:\n",
    "\n",
    "Which industries attract the most funding\n",
    "\n",
    "Patterns in founder success (e.g., solo vs. team, gender, education)\n",
    "\n",
    "Investor preferences by industry and funding stage\n",
    "\n",
    "Data-driven insights into startup viability and pitch success\n"
   ]
  },
  {
   "cell_type": "markdown",
   "id": "0959f79d-de02-495f-a0ec-77b278d0cedc",
   "metadata": {},
   "source": [
    "Tools\n",
    "\n",
    "Excel: Initial data cleaning, quick filtering/sorting, pivot tables\n",
    "\n",
    "Python: Deep data analysis (pandas, matplotlib, seaborn)\n",
    "\n",
    "Tableau: Final visualizations and interactive dashboard"
   ]
  },
  {
   "cell_type": "markdown",
   "id": "8b2abc8a-42c9-4525-9698-749a7fc5dcf6",
   "metadata": {},
   "source": [
    " Mini Guide – Step-by-Step Process\n",
    "1. Collect & Clean Data\n",
    "Use publicly available Shark Tank datasets (India and/or US)\n",
    "\n",
    "Clean column names, convert data types, remove nulls\n",
    "\n",
    "Key fields: Startup Name, Industry, Funding Amount, Founders, Pitch Outcome, Shark Names, Equity %, Funding Stage"
   ]
  },
  {
   "cell_type": "markdown",
   "id": "1da89d7a-b12a-49b2-bc64-8ecc0009f521",
   "metadata": {},
   "source": [
    "2. Organize by Domain & Funding\n",
    "   \n",
    "Group startups by Industry\n",
    "\n",
    "Sum total and average Funding Amount per industry\n",
    "\n",
    "Calculate success rate (pitches vs. funded) per domain"
   ]
  },
  {
   "cell_type": "markdown",
   "id": "c5c4e06b-6277-4937-968c-965499d0f40d",
   "metadata": {},
   "source": [
    "3. Analyze Founder Profiles\n",
    "\n",
    "Extract and classify founder attributes: Gender, Education, Team Size\n",
    "\n",
    "Explore impact of these traits on:\n",
    "\n",
    "Pitch success\n",
    "\n",
    "Size of funding secured\n",
    "\n",
    "Equity offered"
   ]
  },
  {
   "cell_type": "markdown",
   "id": "c701aabd-60d8-4458-9761-ffc5f3ebf59e",
   "metadata": {},
   "source": [
    "4. Funding Stage vs. Success\n",
    "\n",
    "Identify at which business stage (idea, MVP, growth) startups get funded\n",
    "\n",
    "Compare funding amounts by stage\n",
    "\n",
    "5. Create Tableau Visuals\n",
    "Dashboard elements to include:\n",
    "\n",
    "\n",
    "Industry-wise Investment Distribution\n",
    "\n",
    "Top Funded Startups\n",
    "\n",
    "Investor Preferences per Industry\n",
    "\n",
    "Funding Amount vs. Equity Scatterplot\n",
    "\n",
    "Founder Demographics & Success\n",
    "\n",
    " Deliverables\n",
    "1. Tableau Visual Dashboard (.twbx or link)\n",
    "Include:\n",
    "\n",
    "Filters for industry, shark, gender, year\n",
    "\n",
    "Bar charts, line graphs, pie charts, scatterplots\n",
    "\n",
    "Insights like “Top 5 industries by total funding”\n",
    "\n",
    "2. PDF Report\n",
    "Title: Shark Tank Startup Investment Trends – Industry & Founder Insights\n",
    "\n",
    "Sections:\n",
    "\n",
    "Executive Summary\n",
    "\n",
    "Industry-wise Investment Trends\n",
    "\n",
    "Top Performing Sectors\n",
    "\n",
    "Investor Preferences and Patterns\n",
    "\n",
    "Founder Profile Analysis\n",
    "\n",
    "Success Factors\n",
    "\n",
    "Data-Driven Recommendations\n",
    "\n",
    "Appendix: Data cleaning summary, methodology\n",
    "\n",
    "3. Founder Success Pattern Summary\n",
    "Highlight correlations:\n",
    "\n",
    "Solo vs. team founders: which performs better?\n",
    "\n",
    "Gender-based pitch success\n",
    "\n",
    "Repeat entrepreneurs’ success rates\n",
    "\n",
    "Education level impact (MBA, engineering, etc.)\n",
    "\n",
    "📊 Sample Insights You Might Discover\n",
    "HealthTech and EdTech dominate funding in Shark Tank India\n",
    "\n",
    "Female-led startups secure higher average funding than expected\n",
    "\n",
    "Startups with 2+ founders tend to raise more and negotiate better equity terms\n",
    "\n",
    "Certain sharks prefer specific industries (e.g., Aman Gupta in tech/wearables)\n",
    "\n",
    "If you'd like, I can help you:\n",
    "\n",
    "Write the Python code for data cleaning or visualization\n",
    "\n",
    "Build Tableau chart instructions\n",
    "\n",
    "Draft the PDF report content structure\n",
    "\n",
    "Would you like to go step-by-step into any of those?\n",
    "\n",
    "\n",
    "\n"
   ]
  },
  {
   "cell_type": "code",
   "execution_count": null,
   "id": "0a4e12d3-7c89-4bc4-88d7-932e5c72ce3c",
   "metadata": {},
   "outputs": [],
   "source": []
  },
  {
   "cell_type": "code",
   "execution_count": null,
   "id": "f6900f6e-7aa6-4479-b46d-dec21a6c4461",
   "metadata": {},
   "outputs": [],
   "source": []
  },
  {
   "cell_type": "code",
   "execution_count": null,
   "id": "4956e485-4c10-4f44-96f6-1aac64fa2baa",
   "metadata": {},
   "outputs": [],
   "source": []
  }
 ],
 "metadata": {
  "kernelspec": {
   "display_name": "Python [conda env:anaconda3]",
   "language": "python",
   "name": "conda-env-anaconda3-py"
  },
  "language_info": {
   "codemirror_mode": {
    "name": "ipython",
    "version": 3
   },
   "file_extension": ".py",
   "mimetype": "text/x-python",
   "name": "python",
   "nbconvert_exporter": "python",
   "pygments_lexer": "ipython3",
   "version": "3.12.7"
  }
 },
 "nbformat": 4,
 "nbformat_minor": 5
}
