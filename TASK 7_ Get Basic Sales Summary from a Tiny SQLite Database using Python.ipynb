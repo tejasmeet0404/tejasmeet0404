{
 "cells": [
  {
   "cell_type": "markdown",
   "id": "e9bf0c36-dd9b-42ab-b51c-58d5e708466d",
   "metadata": {},
   "source": [
    "TASK 7: Get Basic Sales Summary from a Tiny SQLite Database using Python"
   ]
  },
  {
   "cell_type": "markdown",
   "id": "f1df63fc-ef9e-4f61-ac12-b619e0436763",
   "metadata": {},
   "source": [
    "Step 1: Create a Tiny SQLite Database (sales_data.db)\n",
    "Let's assume your sales table has this schema:"
   ]
  },
  {
   "cell_type": "raw",
   "id": "48b0b95b-b66e-47ab-acb3-f9bcceb64f9b",
   "metadata": {},
   "source": [
    "CREATE TABLE sales (\n",
    "    id INTEGER PRIMARY KEY,\n",
    "    product TEXT,\n",
    "    quantity INTEGER,\n",
    "    price REAL\n",
    ");\n"
   ]
  },
  {
   "cell_type": "raw",
   "id": "873da77b-a3cb-465c-aae9-7e14ea138b72",
   "metadata": {},
   "source": [
    "| id | product | quantity | price |\n",
    "| -- | ------- | -------- | ----- |\n",
    "| 1  | Apple   | 10       | 0.5   |\n",
    "| 2  | Banana  | 5        | 0.3   |\n",
    "| 3  | Apple   | 7        | 0.5   |\n",
    "| 4  | Orange  | 8        | 0.6   |\n",
    "| 5  | Banana  | 10       | 0.3   |\n"
   ]
  },
  {
   "cell_type": "markdown",
   "id": "1fc7b012-5456-4046-b5e0-d8a09bc75a5d",
   "metadata": {},
   "source": [
    "Step 2: Python Script to Connect, Query, and Plot  \n",
    "\n",
    "Save this as sales_summary.py or use it in Jupyter Notebook"
   ]
  },
  {
   "cell_type": "raw",
   "id": "f92f0e07-1174-4a6d-aca4-454f9a0ff289",
   "metadata": {},
   "source": [
    "import sqlite3\n",
    "import pandas as pd\n",
    "import matplotlib.pyplot as plt\n",
    "\n",
    "# Connect to the SQLite database\n",
    "conn = sqlite3.connect('sales_data.db')\n",
    "\n",
    "# SQL query to get total quantity and total revenue per product\n",
    "query = \"\"\"\n",
    "SELECT \n",
    "    product, \n",
    "    SUM(quantity) AS total_qty, \n",
    "    SUM(quantity * price) AS revenue \n",
    "FROM sales \n",
    "GROUP BY product;\n",
    "\"\"\"\n",
    "\n",
    "# Run the query and load the result into a pandas DataFrame\n",
    "df = pd.read_sql_query(query, conn)\n",
    "\n",
    "# Close the database connection\n",
    "conn.close()\n",
    "\n",
    "# Print the DataFrame\n",
    "print(\"Sales Summary:\")\n",
    "print(df)\n",
    "\n",
    "# Plot a bar chart for revenue by product\n",
    "df.plot(kind='bar', x='product', y='revenue', legend=False)\n",
    "plt.title('Revenue by Product')\n",
    "plt.xlabel('Product')\n",
    "plt.ylabel('Revenue ($)')\n",
    "plt.tight_layout()\n",
    "plt.savefig(\"sales_chart.png\")\n",
    "plt.show()\n"
   ]
  },
  {
   "cell_type": "markdown",
   "id": "38aebb42-1d49-4ea1-bdf4-60c1602b7794",
   "metadata": {},
   "source": [
    "Output\n",
    "\n",
    "Prints sales summary like:"
   ]
  },
  {
   "cell_type": "code",
   "execution_count": null,
   "id": "e2bcd46e-ca10-4ed3-9458-79d799e68d71",
   "metadata": {},
   "outputs": [],
   "source": [
    "  product      total_qty       revenue\n",
    "0   Apple         17           8.5\n",
    "1  Banana         15           4.5\n",
    "2  Orange          8           4.8\n"
   ]
  },
  {
   "cell_type": "markdown",
   "id": "c5f1ca29-1042-44ec-aa76-52723f317b57",
   "metadata": {},
   "source": [
    "Displays a bar chart of revenue by product\n",
    "\n",
    "\n",
    "Saves chart as sales_chart.png"
   ]
  },
  {
   "cell_type": "markdown",
   "id": "9f26ac58-09d5-4b9a-954c-700c9c09ec1c",
   "metadata": {},
   "source": [
    "Interview Questions Answered"
   ]
  },
  {
   "cell_type": "markdown",
   "id": "57f949f3-2a1c-40d4-bb7f-19141515ab54",
   "metadata": {},
   "source": [
    "\n",
    "How did you connect Python to a database?"
   ]
  },
  {
   "cell_type": "markdown",
   "id": "d8c7ae72-4e72-4472-b1dd-ef2f3657936d",
   "metadata": {},
   "source": [
    "Ans: Using sqlite3.connect('sales_data.db')."
   ]
  },
  {
   "cell_type": "markdown",
   "id": "21b63bdc-d133-4549-9dd7-d5f99750a429",
   "metadata": {},
   "source": [
    "What SQL query did you run?"
   ]
  },
  {
   "cell_type": "markdown",
   "id": "a0f85064-473f-444d-86cd-fed656648054",
   "metadata": {},
   "source": [
    "Ans:SELECT product, SUM(quantity), SUM(quantity * price) FROM sales GROUP BY product"
   ]
  },
  {
   "cell_type": "markdown",
   "id": "74bdc6db-cd06-4516-b437-50607cdbe7af",
   "metadata": {},
   "source": [
    "What does GROUP BY do?"
   ]
  },
  {
   "cell_type": "markdown",
   "id": "86888b6d-b06c-4de9-8057-067b7982f39e",
   "metadata": {},
   "source": [
    "Ans:-It aggregates data per unique product value."
   ]
  },
  {
   "cell_type": "markdown",
   "id": "f867c89a-9a7c-4354-9cec-6eda01ac0fed",
   "metadata": {},
   "source": [
    "How did you calculate revenue?"
   ]
  },
  {
   "cell_type": "markdown",
   "id": "1fc94b4e-4312-46dd-8222-b2f40849dcb2",
   "metadata": {},
   "source": [
    "Ans:With SUM(quantity * price) inside the SQL query."
   ]
  },
  {
   "cell_type": "markdown",
   "id": "7bc3b219-8c16-4869-bee9-d0bbd1acce66",
   "metadata": {},
   "source": [
    "How did you visualize the result?"
   ]
  },
  {
   "cell_type": "markdown",
   "id": "28adf07d-c8fb-4472-9674-5e721ec9aa7d",
   "metadata": {},
   "source": [
    "Ans:Using matplotlib.pyplot with a bar chart."
   ]
  },
  {
   "cell_type": "markdown",
   "id": "2f93ddd4-4445-4812-91c0-7447761c4803",
   "metadata": {},
   "source": [
    "What does pandas do in your code?"
   ]
  },
  {
   "cell_type": "markdown",
   "id": "d1530349-4191-4afd-a8d5-547ad375be61",
   "metadata": {},
   "source": [
    "Ans:It reads SQL query results into a DataFrame and helps with data manipulation/plotting."
   ]
  },
  {
   "cell_type": "markdown",
   "id": "673128d5-262b-44b1-b782-59e9657463d1",
   "metadata": {},
   "source": [
    "What’s the benefit of using SQL inside Python?"
   ]
  },
  {
   "cell_type": "markdown",
   "id": "b234db95-8080-415d-9ecf-5458d5d45839",
   "metadata": {},
   "source": [
    "You combine powerful data querying (SQL) with Python’s tools for analysis and visualization."
   ]
  },
  {
   "cell_type": "markdown",
   "id": "f516f25b-7336-4d42-9674-0f95d7b1d425",
   "metadata": {},
   "source": [
    "Could you run the same SQL query in DB Browser for SQLite?"
   ]
  },
  {
   "cell_type": "markdown",
   "id": "d1d0bd35-0ef3-4043-b3a9-f46802052569",
   "metadata": {},
   "source": [
    "Ans:Yes — just paste it into the SQL tab and run."
   ]
  },
  {
   "cell_type": "code",
   "execution_count": null,
   "id": "2dfdf31b-16e6-47e8-8828-71e77e2e6053",
   "metadata": {},
   "outputs": [],
   "source": []
  },
  {
   "cell_type": "code",
   "execution_count": null,
   "id": "89778037-16fc-4ce9-bb81-c8c1533c358e",
   "metadata": {},
   "outputs": [],
   "source": []
  },
  {
   "cell_type": "code",
   "execution_count": null,
   "id": "d9787193-ff39-4dfd-a939-7a7989e8a5ab",
   "metadata": {},
   "outputs": [],
   "source": []
  },
  {
   "cell_type": "code",
   "execution_count": null,
   "id": "b617204c-d5c2-4119-88b8-acfec1d88a8c",
   "metadata": {},
   "outputs": [],
   "source": []
  },
  {
   "cell_type": "code",
   "execution_count": null,
   "id": "b018d866-e565-4338-bc77-4946f56c427c",
   "metadata": {},
   "outputs": [],
   "source": []
  },
  {
   "cell_type": "code",
   "execution_count": null,
   "id": "e656def3-54a2-4934-8714-d212a25a881f",
   "metadata": {},
   "outputs": [],
   "source": []
  },
  {
   "cell_type": "code",
   "execution_count": null,
   "id": "3aa68778-bf68-424c-9472-09d2c09c2654",
   "metadata": {},
   "outputs": [],
   "source": []
  },
  {
   "cell_type": "code",
   "execution_count": null,
   "id": "01f4c0d3-0433-4336-a288-78ab6b395d0a",
   "metadata": {},
   "outputs": [],
   "source": []
  },
  {
   "cell_type": "code",
   "execution_count": null,
   "id": "258d6bba-b67e-4032-af49-6b9b674e35ce",
   "metadata": {},
   "outputs": [],
   "source": []
  },
  {
   "cell_type": "code",
   "execution_count": null,
   "id": "40bcdaa2-a384-4dd0-9f74-fd898d4ed026",
   "metadata": {},
   "outputs": [],
   "source": []
  },
  {
   "cell_type": "code",
   "execution_count": null,
   "id": "2abc4c0a-331c-4353-bb5a-d32cf49e8196",
   "metadata": {},
   "outputs": [],
   "source": []
  },
  {
   "cell_type": "code",
   "execution_count": null,
   "id": "f0fde618-1210-48dd-878b-04811642988c",
   "metadata": {},
   "outputs": [],
   "source": []
  },
  {
   "cell_type": "code",
   "execution_count": null,
   "id": "74fafd3f-46db-48fc-a58e-a14181578ca5",
   "metadata": {},
   "outputs": [],
   "source": []
  },
  {
   "cell_type": "code",
   "execution_count": null,
   "id": "61a27c03-4122-4719-b775-e3f691cddc40",
   "metadata": {},
   "outputs": [],
   "source": []
  },
  {
   "cell_type": "code",
   "execution_count": null,
   "id": "5ae36735-0bb2-4be8-b7a2-5bfb05278d1e",
   "metadata": {},
   "outputs": [],
   "source": []
  },
  {
   "cell_type": "code",
   "execution_count": null,
   "id": "754a68f1-68f2-4e9f-93c7-bd90b92841d5",
   "metadata": {},
   "outputs": [],
   "source": []
  },
  {
   "cell_type": "raw",
   "id": "e96bff8b-a3a5-48cf-916e-7057dd86e448",
   "metadata": {},
   "source": []
  }
 ],
 "metadata": {
  "kernelspec": {
   "display_name": "Python [conda env:anaconda3]",
   "language": "python",
   "name": "conda-env-anaconda3-py"
  },
  "language_info": {
   "codemirror_mode": {
    "name": "ipython",
    "version": 3
   },
   "file_extension": ".py",
   "mimetype": "text/x-python",
   "name": "python",
   "nbconvert_exporter": "python",
   "pygments_lexer": "ipython3",
   "version": "3.12.7"
  }
 },
 "nbformat": 4,
 "nbformat_minor": 5
}
